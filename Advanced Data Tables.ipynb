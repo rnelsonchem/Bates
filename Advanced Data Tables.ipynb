{
 "metadata": {
  "name": "",
  "signature": "sha256:9b1ece6363d53eaffcf4e4276825ea8bb2c855fd44d088c6630cb9ac51c23332"
 },
 "nbformat": 3,
 "nbformat_minor": 0,
 "worksheets": [
  {
   "cells": [
    {
     "cell_type": "code",
     "collapsed": false,
     "input": [
      "%matplotlib inline\n",
      "import nbprep\n",
      "nbprep.style()"
     ],
     "language": "python",
     "metadata": {},
     "outputs": []
    },
    {
     "cell_type": "markdown",
     "metadata": {},
     "source": [
      "http://bconnelly.net/2014/04/analyzing-microbial-growth-with-r/"
     ]
    },
    {
     "cell_type": "code",
     "collapsed": false,
     "input": [
      "import numpy as np\n",
      "import matplotlib.pyplot as plt\n",
      "import pandas as pd\n",
      "pd.set_option('display.mpl_style', 'default')\n",
      "import scipy.stats as sps"
     ],
     "language": "python",
     "metadata": {},
     "outputs": []
    },
    {
     "cell_type": "code",
     "collapsed": false,
     "input": [
      "rawdata = pd.read_csv('static/raw.csv')\n",
      "rawdata.shape"
     ],
     "language": "python",
     "metadata": {},
     "outputs": []
    },
    {
     "cell_type": "code",
     "collapsed": false,
     "input": [
      "reshaped = pd.melt(rawdata, id_vars=[\"Time\", \"Temperature\"], var_name=\"Well\", \n",
      "                   value_name=\"OD600\")\n",
      "\n",
      "reshaped"
     ],
     "language": "python",
     "metadata": {},
     "outputs": []
    },
    {
     "cell_type": "code",
     "collapsed": false,
     "input": [
      "platemap = pd.read_csv('static/platemap.csv')\n",
      "\n",
      "platemap"
     ],
     "language": "python",
     "metadata": {},
     "outputs": []
    },
    {
     "cell_type": "code",
     "collapsed": false,
     "input": [
      "annotated = pd.merge(reshaped, platemap, left_on='Well', right_on='Well',\n",
      "        how='inner', sort=False)\n",
      "\n",
      "annotated"
     ],
     "language": "python",
     "metadata": {},
     "outputs": []
    },
    {
     "cell_type": "code",
     "collapsed": false,
     "input": [
      "grouped = annotated.groupby([\"Environment\", \"Strain\", \"Time\"])"
     ],
     "language": "python",
     "metadata": {},
     "outputs": []
    },
    {
     "cell_type": "code",
     "collapsed": false,
     "input": [
      "sps.t.interval(0.95, df=9)"
     ],
     "language": "python",
     "metadata": {},
     "outputs": []
    },
    {
     "cell_type": "code",
     "collapsed": false,
     "input": [
      "def CI95(data):\n",
      "    n = len(data)\n",
      "    error = sps.t.interval(0.95, df=n-1)[1]*np.std(data)/np.sqrt(n)\n",
      "    return error"
     ],
     "language": "python",
     "metadata": {},
     "outputs": []
    },
    {
     "cell_type": "code",
     "collapsed": false,
     "input": [
      "stats = grouped['OD600'].agg({\"N\":len,\"Average\":np.mean,\"Std\":np.std, \"Error\":CI95})\n",
      "\n",
      "stats"
     ],
     "language": "python",
     "metadata": {},
     "outputs": []
    },
    {
     "cell_type": "code",
     "collapsed": false,
     "input": [
      "ustack = stats.unstack(level=1)\n",
      "\n",
      "ustack"
     ],
     "language": "python",
     "metadata": {},
     "outputs": []
    },
    {
     "cell_type": "code",
     "collapsed": false,
     "input": [
      "fig = plt.figure(figsize=(9,9))\n",
      "\n",
      "i = 1\n",
      "data = ustack.loc[i,\"Average\"]\n",
      "errors = ustack.loc[i, \"Error\"]\n",
      "times = data.index/3600.\n",
      "upper = data + errors\n",
      "lower = data - errors\n",
      "for strain in data.columns:\n",
      "    plt.fill_between(times, lower[strain], upper[strain], color='k', alpha=0.5, lw=0)\n",
      "    plt.plot(times, data[strain], label='Strain {}'.format(strain))\n",
      "plt.title('Environment {:d}'.format(i))\n",
      "plt.legend(loc=0)"
     ],
     "language": "python",
     "metadata": {},
     "outputs": []
    },
    {
     "cell_type": "code",
     "collapsed": false,
     "input": [
      "fig = plt.figure(figsize=(9,9))\n",
      "for i in (1,2,3):\n",
      "    plt.subplot(3, 1, i)\n",
      "    data = ustack.loc[i,\"Average\"]\n",
      "    errors = ustack.loc[i, \"Error\"]\n",
      "    times = data.index/3600.\n",
      "    upper = data + errors\n",
      "    lower = data - errors\n",
      "    for strain in data.columns:\n",
      "        plt.fill_between(times, lower[strain], upper[strain], color='k', alpha=0.5, lw=0)\n",
      "        plt.plot(times, data[strain], label='Strain {}'.format(strain))\n",
      "    plt.title('Environment {:d}'.format(i))\n",
      "\n",
      "plt.figlegend(plt.gca().get_lines(), data.columns, 'right')"
     ],
     "language": "python",
     "metadata": {},
     "outputs": []
    },
    {
     "cell_type": "code",
     "collapsed": false,
     "input": [],
     "language": "python",
     "metadata": {},
     "outputs": []
    }
   ],
   "metadata": {}
  }
 ]
}