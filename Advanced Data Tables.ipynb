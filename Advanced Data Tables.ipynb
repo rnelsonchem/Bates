{
 "metadata": {
  "name": "",
  "signature": "sha256:7df20281fa3dfc6ff2242e4291d5349b0c79773b6cb09e5c46b0f665a7d391ad"
 },
 "nbformat": 3,
 "nbformat_minor": 0,
 "worksheets": [
  {
   "cells": [
    {
     "cell_type": "code",
     "collapsed": false,
     "input": [
      "%matplotlib inline\n",
      "import nbprep\n",
      "nbprep.style()"
     ],
     "language": "python",
     "metadata": {},
     "outputs": []
    },
    {
     "cell_type": "markdown",
     "metadata": {},
     "source": [
      "http://bconnelly.net/2014/04/analyzing-microbial-growth-with-r/"
     ]
    },
    {
     "cell_type": "code",
     "collapsed": false,
     "input": [
      "import numpy as np\n",
      "import matplotlib.pyplot as plt\n",
      "import pandas as pd\n",
      "pd.set_option('display.mpl_style', 'default')\n",
      "import scipy.stats as sps"
     ],
     "language": "python",
     "metadata": {},
     "outputs": []
    },
    {
     "cell_type": "code",
     "collapsed": false,
     "input": [
      "rawdata = pd.read_csv('static/raw.csv')\n",
      "rawdata"
     ],
     "language": "python",
     "metadata": {},
     "outputs": []
    },
    {
     "cell_type": "code",
     "collapsed": false,
     "input": [
      "reshaped = pd.melt(rawdata, id_vars=[\"Time\", \"Temperature\"], var_name=\"Well\", \n",
      "                   value_name=\"OD600\")\n",
      "\n",
      "reshaped"
     ],
     "language": "python",
     "metadata": {},
     "outputs": []
    },
    {
     "cell_type": "code",
     "collapsed": false,
     "input": [
      "platemap = pd.read_csv('static/platemap.csv')\n",
      "\n",
      "platemap"
     ],
     "language": "python",
     "metadata": {},
     "outputs": []
    },
    {
     "cell_type": "code",
     "collapsed": false,
     "input": [
      "annotated = pd.merge(reshaped, platemap, left_on='Well', right_on='Well',\n",
      "        how='inner', sort=False)\n",
      "\n",
      "annotated"
     ],
     "language": "python",
     "metadata": {},
     "outputs": []
    },
    {
     "cell_type": "code",
     "collapsed": false,
     "input": [
      "grouped = annotated.groupby([\"Environment\", \"Strain\", \"Time\"])"
     ],
     "language": "python",
     "metadata": {},
     "outputs": []
    },
    {
     "cell_type": "code",
     "collapsed": false,
     "input": [
      "sps.t.ppf(0.025, df=[9, 8, 7])"
     ],
     "language": "python",
     "metadata": {},
     "outputs": []
    },
    {
     "cell_type": "code",
     "collapsed": false,
     "input": [
      "# Also: -1*sps.t.ppf(0.025, df=n-1)\n",
      "# Also: create sps.t(df=0) class instance and change t.kwds['df']=n-1 and call t.ppf(0.025)\n",
      "# All are much, much slower. Really need to pass in an array to make this faster.\n",
      "# def CI95(data):\n",
      "#     n = len(data)\n",
      "#     error = sps.t.interval(0.95, df=n-1)[1]*np.std(data)/np.sqrt(n)\n",
      "#     return error\n",
      "# stats = grouped['OD600'].agg({\"N\":len,\"Average\":np.mean,\"Std\":np.std, \"Error\":CI95})"
     ],
     "language": "python",
     "metadata": {},
     "outputs": []
    },
    {
     "cell_type": "code",
     "collapsed": false,
     "input": [
      "stats = grouped['OD600'].agg({\"N\":len,\"Average\":np.mean,\"Std\":np.std})\n",
      "\n",
      "stats['Error'] = -1*sps.t.ppf(0.025, df=stats['N']-1)\\\n",
      "        *stats['Std']/np.sqrt(stats['N'])\n",
      "\n",
      "stats"
     ],
     "language": "python",
     "metadata": {},
     "outputs": []
    },
    {
     "cell_type": "code",
     "collapsed": false,
     "input": [
      "ustack = stats.unstack(level=1)\n",
      "\n",
      "print ustack.index.levels\n",
      "ustack"
     ],
     "language": "python",
     "metadata": {},
     "outputs": []
    },
    {
     "cell_type": "code",
     "collapsed": false,
     "input": [
      "fig = plt.figure(figsize=(9,9))\n",
      "\n",
      "i = 1\n",
      "data = ustack.loc[i,\"Average\"]\n",
      "errors = ustack.loc[i, \"Error\"]\n",
      "times = data.index/3600.\n",
      "upper = data + errors\n",
      "lower = data - errors\n",
      "for strain in data.columns:\n",
      "    plt.fill_between(times, lower[strain], upper[strain], color='k', alpha=0.5, lw=0)\n",
      "    plt.plot(times, data[strain], label='Strain {}'.format(strain))\n",
      "plt.title('Environment {:d}'.format(i))\n",
      "plt.legend(loc=0)"
     ],
     "language": "python",
     "metadata": {},
     "outputs": []
    },
    {
     "cell_type": "code",
     "collapsed": false,
     "input": [
      "fig = plt.figure(figsize=(9,9))\n",
      "for i in (ustack.index.levels[0]):\n",
      "    plt.subplot(3, 1, i)\n",
      "    data = ustack.loc[i,\"Average\"]\n",
      "    errors = ustack.loc[i, \"Error\"]\n",
      "    times = data.index/3600.\n",
      "    upper = data + errors\n",
      "    lower = data - errors\n",
      "    for strain in data.columns:\n",
      "        plt.fill_between(times, lower[strain], upper[strain], color='k', alpha=0.5, lw=0)\n",
      "        plt.plot(times, data[strain], label='Strain {}'.format(strain))\n",
      "    plt.title('Environment {:d}'.format(i))\n",
      "\n",
      "plt.figlegend(plt.gca().get_lines(), data.columns, 'right')"
     ],
     "language": "python",
     "metadata": {},
     "outputs": []
    },
    {
     "cell_type": "code",
     "collapsed": false,
     "input": [
      "%%timeit\n",
      "rawdata = pd.read_csv('static/raw.csv')\n",
      "platemap = pd.read_csv('static/platemap.csv')\n",
      "\n",
      "reshaped = pd.melt(rawdata, id_vars=[\"Time\", \"Temperature\"], var_name=\"Well\", \n",
      "                   value_name=\"OD600\")\n",
      "annotated = pd.merge(reshaped, platemap, left_on='Well', right_on='Well',\n",
      "        how='inner', sort=False)\n",
      "\n",
      "grouped = annotated.groupby([\"Environment\", \"Strain\", \"Time\"])\n",
      "stats = grouped['OD600'].agg({\"N\":len, \"Average\":np.mean,\"Std\":np.std})\n",
      "stats['Error'] = -1*sps.t.ppf(0.025, df=stats['N']-1)\\\n",
      "        *stats['Std']/np.sqrt(stats['N'])\n",
      "\n",
      "ustack = stats.unstack(level=1)\n",
      "fig = plt.figure(figsize=(9,9))\n",
      "for i in (ustack.index.levels[0]):\n",
      "    plt.subplot(3, 1, i)\n",
      "    data = ustack.loc[i,\"Average\"]\n",
      "    errors = ustack.loc[i, \"Error\"]\n",
      "    times = data.index/3600.\n",
      "    upper = data + errors\n",
      "    lower = data - errors\n",
      "    for strain in data.columns:\n",
      "        plt.fill_between(times, lower[strain], upper[strain], color='k', alpha=0.5, lw=0)\n",
      "        plt.plot(times, data[strain], label='Strain {}'.format(strain))\n",
      "    plt.title('Environment {:d}'.format(i))\n",
      "\n",
      "plt.figlegend(plt.gca().get_lines(), data.columns, 'right')\n",
      "plt.close() # Just so it doesn't show all the plots for each loop"
     ],
     "language": "python",
     "metadata": {},
     "outputs": []
    },
    {
     "cell_type": "markdown",
     "metadata": {},
     "source": [
      "https://github.com/sagemath/cloud/wiki/FAQ#-question-i-would-like-to-install-new-r-packages"
     ]
    },
    {
     "cell_type": "code",
     "collapsed": false,
     "input": [
      "%load_ext rpy2.ipython"
     ],
     "language": "python",
     "metadata": {},
     "outputs": []
    },
    {
     "cell_type": "code",
     "collapsed": false,
     "input": [
      "%%R\n",
      "library(reshape2)\n",
      "library(dplyr)\n",
      "library(ggplot2)\n",
      "\n",
      "# Read in the raw data and the platemap. You may need to first change your\n",
      "# working directory with the setwd command.\n",
      "rawdata <- read.csv(\"static/raw.csv\")\n",
      "platemap <- read.csv(\"static/platemap.csv\")\n",
      "\n",
      "# Reshape the data. Instead of rows containing the Time, Temperature,\n",
      "# and readings for each Well, rows will contain the Time, Temperature, a\n",
      "# Well ID, and the reading at that Well.\n",
      "reshaped <- melt(rawdata, id=c(\"Time\", \"Temperature\"), variable.name=\"Well\", \n",
      "                 value.name=\"OD600\")\n",
      "\n",
      "# Add information about the experiment from the plate map. For each Well\n",
      "# defined in both the reshaped data and the platemap, each resulting row\n",
      "# will contain the absorbance measurement as well as the additional columns\n",
      "# and values from the platemap.\n",
      "annotated <- inner_join(reshaped, platemap, by=\"Well\")\n",
      "\n",
      "# Save the annotated data as a CSV for storing, sharing, etc.\n",
      "# write.csv(annotated, \"data-annotated.csv\")\n",
      "\n",
      "conf_int95 <- function(data) {\n",
      "    n <- length(data)\n",
      "    error <- qt(0.975, df=n-1) * sd(data)/sqrt(n)\n",
      "    return(error)\n",
      "}\n",
      "\n",
      "# Group the data by the different experimental variables and calculate the\n",
      "# sample size, average OD600, and 95% confidence limits around the mean\n",
      "# among the replicates. Also remove all records where the Strain is NA.\n",
      "stats <- annotated %.%\n",
      "              group_by(Environment, Strain, Time) %.%\n",
      "              summarise(N=length(OD600),\n",
      "                        Average=mean(OD600),\n",
      "                        CI95=conf_int95(OD600)) %.%\n",
      "              filter(!is.na(Strain))\n",
      "\n",
      "# Plot the average OD600 over time for each strain in each environment\n",
      "ggplot(data=stats, aes(x=Time/3600, y=Average, color=Strain)) +\n",
      "       geom_ribbon(aes(ymin=Average-CI95, ymax=Average+CI95, fill=Strain),\n",
      "                   color=NA, alpha=0.3) + \n",
      "       geom_line() +\n",
      "       scale_y_log10() +\n",
      "       facet_grid(Environment ~ .) +\n",
      "       labs(x=\"Time (Hours)\", y=\"Absorbance at 600 nm\")"
     ],
     "language": "python",
     "metadata": {},
     "outputs": []
    }
   ],
   "metadata": {}
  }
 ]
}