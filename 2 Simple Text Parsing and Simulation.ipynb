{
 "metadata": {
  "name": "",
  "signature": "sha256:c2fec39e32fe9415d91b783dc5ecb4ad69094b5270080b7eb3a549be6dbc5848"
 },
 "nbformat": 3,
 "nbformat_minor": 0,
 "worksheets": [
  {
   "cells": [
    {
     "cell_type": "markdown",
     "metadata": {},
     "source": [
      "# Simple Text Parsing and Simulation\n",
      "\n",
      "Many types of quantitative software are able to output their data into specially formatted text files, which can be parsed in a variety of ways to find the data of interest. Unfortunately, spreadsheets are not good tools for extracting numbers from an non-tabular output files. For highly regular text files, a simple Python program is all that is necessary to read and extract this information from these output files, as shown below.\n",
      "\n",
      "## Simulating a Theoretical Spectrum\n",
      "\n",
      "In this problem, I've run a theoretical calculation on a model chemical system using a program called [Gaussian](http://www.gaussian.com/). The output from that calculation is in the text file \"opt+freq.log\" in the \"static\" folder. These output files are typically very long -- in this case, \"opt+freq.log\" is over 100,000 lines of text. Fortunately, the text is highly structured, so it is fairly easy to open the file in the text editor to find the values that you want. However, I have lots of these data files, so this process will get time consuming very quickly.\n",
      "\n",
      "In this case, the data of interest are theortical predictions for an [infrared (IR) spectrum](http://en.wikipedia.org/wiki/Infrared_spectroscopy) of this model compound. IR spectra tell you something about how bonds bend and vibrate in a molecule, and because they are unique for every compound, they can be used as a fingerprint for identification. A [typical IR spectrum](http://www.dow.com/cyclotene/solution/infrared.htm) is shown below:\n",
      "\n",
      "<img src=\"static/FTIR_spectrum.png\">\n",
      "\n",
      "The x axis in this spectrum is the vibrational *frequency* in units called wavenumbers ($cm^{-1}$), and each peak in the spectrum has a characteristic *intensity* along the y axis, which is called it's absorbance value.\n",
      "\n",
      "The first three sets of simulated values, which can be found in the output file of our calculation necessary, look something like this:\n",
      "\n",
      "<code style=\"color:#000000;\">\n",
      "                     1                      2                      3\n",
      "                     A                      A                      A\n",
      " Frequencies --    33.5092                46.6820                57.1987\n",
      " Red. masses --    14.2097                15.3202                13.7256\n",
      " Frc consts  --     0.0094                 0.0197                 0.0265\n",
      " IR Inten    --     0.1957                 0.0111                 0.4843\n",
      " Atom AN      X      Y      Z        X      Y      Z        X      Y      Z\n",
      "   1   1    -0.05  -0.01   0.02    -0.05  -0.02   0.09    -0.07  -0.04   0.12\n",
      "   2   1     0.04   0.00  -0.01     0.01  -0.04  -0.05     0.17  -0.02  -0.10\n",
      "   3   1    -0.05   0.11  -0.01     0.05  -0.01   0.01    -0.10  -0.03  -0.04\n",
      "   4   1     0.12   0.01  -0.09    -0.04   0.00  -0.01    -0.06  -0.07  -0.03\n",
      "   5   8    -0.01   0.02  -0.02    -0.06  -0.28   0.09     0.23   0.07  -0.19\n",
      "...\n",
      "</code>\n",
      "\n",
      "As you can see, each vibration/bend is described by a number of factors including its *frequency* (Frequencies = x axis) and *intensity* (IR Inten = y axis). To simulate this spectrum, we simply need to extract both of these values for every theoretical vibration/bend in the molecule. Unfortunately, there are 81 total vibrations for this molecule, and a similar number for all of the other similar calculations of this type. Extracting these values by hand will get boring very quickly. "
     ]
    },
    {
     "cell_type": "markdown",
     "metadata": {},
     "source": [
      "## Part 1. Automatically extract the data\n",
      "\n",
      "It turns out that this type of problem will be fairly easy in Python. Some of the code in this notebook will not be covered becasue descriptions/examples can be found in the previous notebook on plotting/fitting. \n",
      "\n",
      "To start with, we'll import our third party libraries for later use. (Even though we won't need this for a while, the typical convention is to do imports at the beginning of a Python program.)"
     ]
    },
    {
     "cell_type": "code",
     "collapsed": false,
     "input": [
      "import numpy as np\n",
      "import matplotlib.pyplot as plt\n",
      "%matplotlib inline\n",
      "\n",
      "import nbprep\n",
      "nbprep.style()"
     ],
     "language": "python",
     "metadata": {},
     "outputs": [
      {
       "html": [
        "<style>\n",
        "/*\n",
        "Placeholder for custom user CSS\n",
        "\n",
        "mainly to be overridden in profile/static/custom/custom.css\n",
        "\n",
        "This will always be an empty file in IPython\n",
        "*/\n",
        "\n",
        "li {\n",
        "    line-height: 1.2em;\n",
        "}\n",
        "\n",
        "/*\n",
        " * Container\n",
        " */\n",
        "div.container {\n",
        "    max-width:1170px;\n",
        "    min-width:90%;\n",
        "}\n",
        "\n",
        "/* \n",
        " * General cell\n",
        " */\n",
        "div.cell { \n",
        "    max-width:900px; \n",
        "    width:80%;\n",
        "    margin-left:auto; \n",
        "    margin-right:auto;\n",
        "}\n",
        "\n",
        "/* \n",
        " * Text cells\n",
        " */\n",
        "div.cell.text_cell { \n",
        "    max-width:1100px; \n",
        "    width:95%;\n",
        "    margin-left:auto; \n",
        "    margin-right:auto;\n",
        "    font-size:24px;\n",
        "    font-family: georgia;\n",
        "    line-height: 1.2em;\n",
        "}\n",
        "\n",
        ".rendered_html code {\n",
        "    color: #9E0000;\n",
        "}\n",
        "\n",
        "/*\n",
        " * Code cells\n",
        " */\n",
        "div.CodeMirror.cm-s-ipython {\n",
        "    font-size:16px;\n",
        "}\n",
        "\n",
        "div.input_area {\n",
        "    font-size:16px;\n",
        "}\n",
        "\n",
        "\n",
        "\n",
        "/*\n",
        " * Input box, e.g. In [1]:\n",
        " */\n",
        "div.prompt.input_prompt {\n",
        "    min-width:1em;\n",
        "    font-size:16px;\n",
        "}\n",
        "\n",
        "/*\n",
        " * Output box, e.g. Out[1]:\n",
        " */\n",
        "div.output {\n",
        "    font-size:16px;\n",
        "}\n",
        "\n",
        "/*\n",
        " * Matplotlib images\n",
        " * Doesn't seem to be possible after some hacking... May be due to resizable\n",
        " * handle.\n",
        " */\n",
        "/*\n",
        "img.ui-resizable {\n",
        "    display: block;\n",
        "    margin: 0 auto;\n",
        "}\n",
        "*/\n",
        "<style/>\n"
       ],
       "metadata": {},
       "output_type": "display_data",
       "text": [
        "<IPython.core.display.HTML at 0xb08b160>"
       ]
      }
     ],
     "prompt_number": 1
    },
    {
     "cell_type": "markdown",
     "metadata": {},
     "source": [
      "As we did in the previous notebook, our first task will be to open the data file to extract our information. Remember that a `for` loop was a convenient way to run through the contents of a file. But how do we find our data? It turns out that we can easily check if a *string* of text contains a particluar a substring by using the `in` comparison test. In our case, all of the vibrational frequency lines are preceded by the word \"Frequencies\", so we can do the following to see only the lines that contain vibrational frequencies."
     ]
    },
    {
     "cell_type": "code",
     "collapsed": false,
     "input": [
      "datafile = open('static/opt+freq.log')\n",
      "\n",
      "for line in datafile:\n",
      "    if \"Frequencies\" in line:\n",
      "        print line\n",
      "        \n",
      "datafile.close()"
     ],
     "language": "python",
     "metadata": {},
     "outputs": [
      {
       "output_type": "stream",
       "stream": "stdout",
       "text": [
        " Frequencies --    33.5092                46.6820                57.1987\n",
        "\n",
        " Frequencies --    60.7236                67.3333                76.1903\n",
        "\n",
        " Frequencies --   130.6725               132.6148               149.4447\n",
        "\n",
        " Frequencies --   153.7305               168.5767               205.1305\n",
        "\n",
        " Frequencies --   220.1335               254.7272               266.8045\n",
        "\n",
        " Frequencies --   287.7870               292.6750               314.3268\n",
        "\n",
        " Frequencies --   316.5129               321.7537               346.5757\n",
        "\n",
        " Frequencies --   359.1594               372.2502               381.4731\n",
        "\n",
        " Frequencies --   390.6602               393.4302               401.6383\n",
        "\n",
        " Frequencies --   410.8546               412.8147               434.3746\n",
        "\n",
        " Frequencies --   446.4130               448.5465               466.0302\n",
        "\n",
        " Frequencies --   470.9498               540.2989               565.4915\n",
        "\n",
        " Frequencies --   567.2219               574.1684               593.6982\n",
        "\n",
        " Frequencies --   610.3828               628.3672               664.2392\n",
        "\n",
        " Frequencies --   675.3019               677.8324               690.3341\n",
        "\n",
        " Frequencies --   745.2175               803.7605               805.3059\n",
        "\n",
        " Frequencies --   805.7790               837.2418               845.6374\n",
        "\n",
        " Frequencies --   883.6445               889.4126               892.0438\n",
        "\n",
        " Frequencies --   895.2224               906.1351               914.9061\n",
        "\n",
        " Frequencies --   917.7039               926.6447               928.2328\n",
        "\n",
        " Frequencies --  1032.5205              1051.0182              1057.1585\n",
        "\n",
        " Frequencies --  1065.0462              1069.4342              1112.6582\n",
        "\n",
        " Frequencies --  1120.5319              1147.3330              1152.3506\n",
        "\n",
        " Frequencies --  1159.2519              1174.4822              1184.9323\n",
        "\n",
        " Frequencies --  1292.6406              2359.6634              2362.6689\n",
        "\n",
        " Frequencies --  2364.8353              2366.1481              2366.5670\n",
        "\n",
        " Frequencies --  2368.7170              2373.0344              3755.0908\n",
        "\n"
       ]
      }
     ],
     "prompt_number": 2
    },
    {
     "cell_type": "markdown",
     "metadata": {},
     "source": [
      "That was definately pretty helpful. We now have a way to only print our vibrational frequencies. However, it would be more convenient to extract those values for later use in our program. In this case, it would be nice if we could *split* each of these lines at the white space. It turns out that we can do that again with the string splitting function. In this case, the default for that function is to break apart the string at the white space. "
     ]
    },
    {
     "cell_type": "code",
     "collapsed": false,
     "input": [
      "datafile = open('static/opt+freq.log')\n",
      "\n",
      "for line in datafile:\n",
      "    if \"Frequencies\" in line:\n",
      "        print line.split()\n",
      "        \n",
      "datafile.close()"
     ],
     "language": "python",
     "metadata": {},
     "outputs": [
      {
       "output_type": "stream",
       "stream": "stdout",
       "text": [
        "['Frequencies', '--', '33.5092', '46.6820', '57.1987']\n",
        "['Frequencies', '--', '60.7236', '67.3333', '76.1903']\n",
        "['Frequencies', '--', '130.6725', '132.6148', '149.4447']\n",
        "['Frequencies', '--', '153.7305', '168.5767', '205.1305']\n",
        "['Frequencies', '--', '220.1335', '254.7272', '266.8045']\n",
        "['Frequencies', '--', '287.7870', '292.6750', '314.3268']\n",
        "['Frequencies', '--', '316.5129', '321.7537', '346.5757']\n",
        "['Frequencies', '--', '359.1594', '372.2502', '381.4731']\n",
        "['Frequencies', '--', '390.6602', '393.4302', '401.6383']\n",
        "['Frequencies', '--', '410.8546', '412.8147', '434.3746']\n",
        "['Frequencies', '--', '446.4130', '448.5465', '466.0302']\n",
        "['Frequencies', '--', '470.9498', '540.2989', '565.4915']\n",
        "['Frequencies', '--', '567.2219', '574.1684', '593.6982']\n",
        "['Frequencies', '--', '610.3828', '628.3672', '664.2392']\n",
        "['Frequencies', '--', '675.3019', '677.8324', '690.3341']\n",
        "['Frequencies', '--', '745.2175', '803.7605', '805.3059']\n",
        "['Frequencies', '--', '805.7790', '837.2418', '845.6374']\n",
        "['Frequencies', '--', '883.6445', '889.4126', '892.0438']\n",
        "['Frequencies', '--', '895.2224', '906.1351', '914.9061']\n",
        "['Frequencies', '--', '917.7039', '926.6447', '928.2328']\n",
        "['Frequencies', '--', '1032.5205', '1051.0182', '1057.1585']\n",
        "['Frequencies', '--', '1065.0462', '1069.4342', '1112.6582']\n",
        "['Frequencies', '--', '1120.5319', '1147.3330', '1152.3506']\n",
        "['Frequencies', '--', '1159.2519', '1174.4822', '1184.9323']\n",
        "['Frequencies', '--', '1292.6406', '2359.6634', '2362.6689']\n",
        "['Frequencies', '--', '2364.8353', '2366.1481', '2366.5670']\n",
        "['Frequencies', '--', '2368.7170', '2373.0344', '3755.0908']\n"
       ]
      }
     ],
     "prompt_number": 3
    },
    {
     "cell_type": "markdown",
     "metadata": {},
     "source": [
      "Now every time we find a line with the frequencies, we've broken it into a *list* of *strings*. It looks like the first two entries are unimportant, so we'd like to be able to drop them. Here we can use an operation called [slicing](https://docs.python.org/2/library/stdtypes.html#typesseq) to get only the values that we want. In this case, `sp[2:]` tells Python that we only want the third through the last elements in the list. (I could have used `sp[2:5]` as well, but if we had more or less than three frequencies, we would have gotten an error. Useing the open-ended `[2:]` notation is future-proof for other files.)"
     ]
    },
    {
     "cell_type": "code",
     "collapsed": false,
     "input": [
      "datafile = open('static/opt+freq.log')\n",
      "\n",
      "for line in datafile:\n",
      "    if \"Frequencies\" in line:\n",
      "        sp = line.split()\n",
      "        print sp[2:]\n",
      "        \n",
      "datafile.close()"
     ],
     "language": "python",
     "metadata": {},
     "outputs": [
      {
       "output_type": "stream",
       "stream": "stdout",
       "text": [
        "['33.5092', '46.6820', '57.1987']\n",
        "['60.7236', '67.3333', '76.1903']\n",
        "['130.6725', '132.6148', '149.4447']\n",
        "['153.7305', '168.5767', '205.1305']\n",
        "['220.1335', '254.7272', '266.8045']\n",
        "['287.7870', '292.6750', '314.3268']\n",
        "['316.5129', '321.7537', '346.5757']\n",
        "['359.1594', '372.2502', '381.4731']\n",
        "['390.6602', '393.4302', '401.6383']\n",
        "['410.8546', '412.8147', '434.3746']\n",
        "['446.4130', '448.5465', '466.0302']\n",
        "['470.9498', '540.2989', '565.4915']\n",
        "['567.2219', '574.1684', '593.6982']\n",
        "['610.3828', '628.3672', '664.2392']\n",
        "['675.3019', '677.8324', '690.3341']\n",
        "['745.2175', '803.7605', '805.3059']\n",
        "['805.7790', '837.2418', '845.6374']\n",
        "['883.6445', '889.4126', '892.0438']\n",
        "['895.2224', '906.1351', '914.9061']\n",
        "['917.7039', '926.6447', '928.2328']\n",
        "['1032.5205', '1051.0182', '1057.1585']\n",
        "['1065.0462', '1069.4342', '1112.6582']\n",
        "['1120.5319', '1147.3330', '1152.3506']\n",
        "['1159.2519', '1174.4822', '1184.9323']\n",
        "['1292.6406', '2359.6634', '2362.6689']\n",
        "['2364.8353', '2366.1481', '2366.5670']\n",
        "['2368.7170', '2373.0344', '3755.0908']\n"
       ]
      }
     ],
     "prompt_number": 4
    },
    {
     "cell_type": "markdown",
     "metadata": {},
     "source": [
      "Now we are at the point where we would like to collect these numbers rather than printing them. Again, we need an empty *list* as a container for these values. In our loop, we can't use the [list append](https://docs.python.org/2/tutorial/datastructures.html#more-on-lists) function like we did in the first notebook, because we are trying to add multiple values for every loop iteration. In this case, the [`extend` function](https://docs.python.org/2/tutorial/datastructures.html#more-on-lists) is more appropriate. "
     ]
    },
    {
     "cell_type": "code",
     "collapsed": false,
     "input": [
      "datafile = open('static/opt+freq.log')\n",
      "\n",
      "freqs = []\n",
      "for line in datafile:\n",
      "    if \"Frequencies\" in line:\n",
      "        sp = line.split()\n",
      "        freqs.extend(sp[2:])\n",
      "        \n",
      "datafile.close()\n",
      "print freqs"
     ],
     "language": "python",
     "metadata": {},
     "outputs": [
      {
       "output_type": "stream",
       "stream": "stdout",
       "text": [
        "['33.5092', '46.6820', '57.1987', '60.7236', '67.3333', '76.1903', '130.6725', '132.6148', '149.4447', '153.7305', '168.5767', '205.1305', '220.1335', '254.7272', '266.8045', '287.7870', '292.6750', '314.3268', '316.5129', '321.7537', '346.5757', '359.1594', '372.2502', '381.4731', '390.6602', '393.4302', '401.6383', '410.8546', '412.8147', '434.3746', '446.4130', '448.5465', '466.0302', '470.9498', '540.2989', '565.4915', '567.2219', '574.1684', '593.6982', '610.3828', '628.3672', '664.2392', '675.3019', '677.8324', '690.3341', '745.2175', '803.7605', '805.3059', '805.7790', '837.2418', '845.6374', '883.6445', '889.4126', '892.0438', '895.2224', '906.1351', '914.9061', '917.7039', '926.6447', '928.2328', '1032.5205', '1051.0182', '1057.1585', '1065.0462', '1069.4342', '1112.6582', '1120.5319', '1147.3330', '1152.3506', '1159.2519', '1174.4822', '1184.9323', '1292.6406', '2359.6634', '2362.6689', '2364.8353', '2366.1481', '2366.5670', '2368.7170', '2373.0344', '3755.0908']\n"
       ]
      }
     ],
     "prompt_number": 5
    },
    {
     "cell_type": "markdown",
     "metadata": {},
     "source": [
      "Now we have the frequencies, but remember that we also need the *intensities* as well. If we look at the output snippet from above, we can modify our code to find these values as well. In this case, we're adding an `elif` statement. This simply means \"or else if\" and is used when you want to sting together multiple `if` statements.\n",
      "\n",
      "*Quiz* Why am I starting at the fourth item in our slice of the split IR line (`sp[3:]`)?"
     ]
    },
    {
     "cell_type": "code",
     "collapsed": false,
     "input": [
      "datafile = open('static/opt+freq.log')\n",
      "\n",
      "freqs = []\n",
      "intens = []\n",
      "for line in datafile:\n",
      "    if 'Frequencies' in line:\n",
      "        sp = line.split()\n",
      "        freqs.extend(sp[2:])\n",
      "    elif 'IR Inten' in line:\n",
      "        sp = line.split()\n",
      "        intens.extend(sp[3:])\n",
      "\n",
      "datafile.close()"
     ],
     "language": "python",
     "metadata": {},
     "outputs": [],
     "prompt_number": 6
    },
    {
     "cell_type": "markdown",
     "metadata": {},
     "source": [
      "These *lists* of frequencies and intensities are all numbers, so it is a good idea to convert them to Numpy *arrays* for use in later calculations."
     ]
    },
    {
     "cell_type": "code",
     "collapsed": false,
     "input": [
      "freqs = np.array(freqs, dtype=float)\n",
      "intens = np.array(intens, dtype=float)\n",
      "\n",
      "print freqs\n",
      "print intens"
     ],
     "language": "python",
     "metadata": {},
     "outputs": [
      {
       "output_type": "stream",
       "stream": "stdout",
       "text": [
        "[   33.5092    46.682     57.1987    60.7236    67.3333    76.1903\n",
        "   130.6725   132.6148   149.4447   153.7305   168.5767   205.1305\n",
        "   220.1335   254.7272   266.8045   287.787    292.675    314.3268\n",
        "   316.5129   321.7537   346.5757   359.1594   372.2502   381.4731\n",
        "   390.6602   393.4302   401.6383   410.8546   412.8147   434.3746\n",
        "   446.413    448.5465   466.0302   470.9498   540.2989   565.4915\n",
        "   567.2219   574.1684   593.6982   610.3828   628.3672   664.2392\n",
        "   675.3019   677.8324   690.3341   745.2175   803.7605   805.3059\n",
        "   805.779    837.2418   845.6374   883.6445   889.4126   892.0438\n",
        "   895.2224   906.1351   914.9061   917.7039   926.6447   928.2328\n",
        "  1032.5205  1051.0182  1057.1585  1065.0462  1069.4342  1112.6582\n",
        "  1120.5319  1147.333   1152.3506  1159.2519  1174.4822  1184.9323\n",
        "  1292.6406  2359.6634  2362.6689  2364.8353  2366.1481  2366.567   2368.717\n",
        "  2373.0344  3755.0908]\n",
        "[  1.95700000e-01   1.11000000e-02   4.84300000e-01   2.00390000e+00\n",
        "   3.67000000e-02   6.03580000e+00   2.23180000e+00   1.49460000e+00\n",
        "   2.97600000e-01   7.31700000e-01   9.73600000e-01   3.30880000e+00\n",
        "   2.65600000e-01   3.04500000e-01   1.21110000e+00   2.86730000e+00\n",
        "   6.79500000e-01   3.17600000e-01   2.29660000e+00   7.56530000e+00\n",
        "   1.12893000e+01   7.70639000e+01   6.53924000e+01   1.71058000e+01\n",
        "   5.89657000e+01   6.90441000e+01   8.00345000e+01   8.57754000e+01\n",
        "   3.28177000e+01   1.06538000e+01   3.88656000e+01   9.92614000e+01\n",
        "   2.30942100e+02   1.89642900e+02   5.24320000e+00   1.24152000e+01\n",
        "   1.84856000e+01   1.48281000e+01   1.43310000e+00   1.27500000e+01\n",
        "   2.51780000e+01   6.33530000e+00   1.37400000e+00   1.81210000e+00\n",
        "   1.31781000e+01   6.51080000e+00   2.54200000e-01   1.94600000e-01\n",
        "   1.27540000e+00   9.78420000e+01   1.08474800e+02   5.78385900e+02\n",
        "   3.10941400e+02   2.90131800e+02   1.11943900e+02   4.86403000e+01\n",
        "   4.27198000e+01   1.42190000e+01   3.15660000e+00   2.57800000e+00\n",
        "   8.35541000e+01   2.54084000e+01   1.09505000e+01   6.28210000e+00\n",
        "   3.31296000e+01   6.25184300e+02   1.11495100e+02   7.76382000e+02\n",
        "   1.82696600e+02   9.66389800e+02   1.08905090e+03   1.99635050e+03\n",
        "   5.22343000e+02   9.72579000e+01   3.05635000e+01   6.58210000e+01\n",
        "   1.37514000e+02   2.59461900e+02   2.65170000e+02   5.44380000e+01\n",
        "   2.44120900e+02]\n"
       ]
      }
     ],
     "prompt_number": 7
    },
    {
     "cell_type": "markdown",
     "metadata": {},
     "source": [
      "## Part 2. Simulating the spectrum\n",
      "\n",
      "We can plot our frequencies versus intensities rather easily, but the result will not be what we expect."
     ]
    },
    {
     "cell_type": "code",
     "collapsed": false,
     "input": [
      "plt.plot(freqs, intens)"
     ],
     "language": "python",
     "metadata": {},
     "outputs": [
      {
       "metadata": {},
       "output_type": "pyout",
       "prompt_number": 8,
       "text": [
        "[<matplotlib.lines.Line2D at 0xc0e8a90>]"
       ]
      },
      {
       "metadata": {},
       "output_type": "display_data",
       "png": "[encoded data removed]",
       "text": [
        "<matplotlib.figure.Figure at 0xb08b128>"
       ]
      }
     ],
     "prompt_number": 8
    },
    {
     "cell_type": "markdown",
     "metadata": {},
     "source": [
      "This looks really goofy, because we are only plotting the peak centers (`freqs`) and heights (`intens`). To make this look like a spectrum, we need to give these peaks some *shape*. Peaks in IR spectra have a [Lorentzian line shape](http://en.wikipedia.org/wiki/Cauchy_distribution). The value of a Lorentzian function at any point $x$ is defined by the *position* ($x_0$) of the peak maximum, the maximum intensity ($I$), and the half-width at half-maximum ($\\gamma$) using the following equation:\n",
      "\n",
      "$$ f(x;x_0,\\gamma,I)=I*\\left[\\frac{\\gamma^{2}} {(x - x_0)^{2} + \\gamma^{2}} \\right] $$\n",
      "\n",
      "This function can be written into Python code as below with $x_0$ = `pos`, $\\gamma$ = `hwhm`, and $I$ = `inten`."
     ]
    },
    {
     "cell_type": "code",
     "collapsed": false,
     "input": [
      "def lorentz(x, pos, inten, hwhm):\n",
      "    return inten*( hwhm**2 / ( (x - pos)**2 + hwhm**2 ) )"
     ],
     "language": "python",
     "metadata": {},
     "outputs": [],
     "prompt_number": 9
    },
    {
     "cell_type": "markdown",
     "metadata": {},
     "source": [
      "We can simulate what a function like this would look fairly easily. First we'll define a region of the x axis that we'd like to simulate using a Numpy linearly-spaced array (`simx`). Next, we'll plot a simulated peak with a center at 5, a height of 5, and a half-width of 1."
     ]
    },
    {
     "cell_type": "code",
     "collapsed": false,
     "input": [
      "simx = np.linspace(0, 10, 10000)\n",
      "plt.plot(simx, lorentz(simx, 5., 5., 1.))"
     ],
     "language": "python",
     "metadata": {},
     "outputs": [
      {
       "metadata": {},
       "output_type": "pyout",
       "prompt_number": 10,
       "text": [
        "[<matplotlib.lines.Line2D at 0xc118cc0>]"
       ]
      },
      {
       "metadata": {},
       "output_type": "display_data",
       "png": "[encoded data removed]",
       "text": [
        "<matplotlib.figure.Figure at 0xc0f0160>"
       ]
      }
     ],
     "prompt_number": 10
    },
    {
     "cell_type": "markdown",
     "metadata": {},
     "source": [
      "In order to generate Lorentzian peaks for all of our data that we've extracted from the output file, we first need to decide on the range that we'll want to generate our simulation. In this case, let's generate a simulated x axis from 50 wavenumbers above and below the maximum and minumum frequencies, respectively."
     ]
    },
    {
     "cell_type": "code",
     "collapsed": false,
     "input": [
      "start = freqs.min() - 50.\n",
      "end = freqs.max() + 50.\n",
      "\n",
      "sim_freq = np.linspace(start, end, 10000)"
     ],
     "language": "python",
     "metadata": {},
     "outputs": [],
     "prompt_number": 11
    },
    {
     "cell_type": "markdown",
     "metadata": {},
     "source": [
      "Now we'll need to make a simulated Lorentzian peak for every frequency/intensity pair. Summing all of these together will give us a simulated spectrum. First of all, let's use [Numpy's `zeros` function](http://docs.scipy.org/doc/numpy/reference/generated/numpy.zeros.html) to generate an array of zeros that has the same number of points (`shape`) as our simulated x axis from above. We can add every simulated peak to this array to generate our simulated intensity data. \n",
      "\n",
      "Now we need to figure out how to loop through our frequencies and intensities to get generate the necessary Lorentian lines. A `for` loop will help us to iterate through each list, but we'll have a problem. Each frequency and intensity needs to be handled as a pair. To help us with this, use Python's built-in [zip function](https://docs.python.org/2/library/functions.html#zip), which takes two lists (and other things) and returns them as matched pairs. (See the docs for a nice example.)"
     ]
    },
    {
     "cell_type": "code",
     "collapsed": false,
     "input": [
      "sim_inten = np.zeros(sim_freq.shape)\n",
      "for freq, inten in zip(freqs, intens):\n",
      "    sim_inten += lorentz(sim_freq, freq, inten, 5.0)"
     ],
     "language": "python",
     "metadata": {},
     "outputs": [],
     "prompt_number": 12
    },
    {
     "cell_type": "markdown",
     "metadata": {},
     "source": [
      "*Note* This is probably the conceptually simplest way to perform this computation, but another method involves [Numpy's array broadcasting](http://docs.scipy.org/doc/numpy/user/basics.broadcasting.html) features. For example, the following code does the same thing as the code block above. This method can be a little difficult to wrap your head around this functionality at first glance, but it can be more useful for some applications. For example, the first line of this code block generates a 2D array of all of the simulated peaks -- the rows are x axis data the columns are the different peak paramters. That could be useful if you want to inspect only specific simulated peaks."
     ]
    },
    {
     "cell_type": "code",
     "collapsed": false,
     "input": [
      "sim_inten = lorentz(sim_freq.reshape(-1,1), freqs, intens, 5.0)\n",
      "sim_inten = sim_inten.sum(axis=1)"
     ],
     "language": "python",
     "metadata": {},
     "outputs": [],
     "prompt_number": 13
    },
    {
     "cell_type": "markdown",
     "metadata": {},
     "source": [
      "Finally, let's make a plot of our newly created simulation."
     ]
    },
    {
     "cell_type": "code",
     "collapsed": false,
     "input": [
      "plt.plot(sim_freq, sim_inten)\n",
      "\n",
      "plt.xlabel('Wavenumber ($cm^{-1}$)')\n",
      "plt.ylabel('Intensity (a.u.)')"
     ],
     "language": "python",
     "metadata": {},
     "outputs": [
      {
       "metadata": {},
       "output_type": "pyout",
       "prompt_number": 14,
       "text": [
        "<matplotlib.text.Text at 0xc3b02b0>"
       ]
      },
      {
       "metadata": {},
       "output_type": "display_data",
       "png": "[encoded data removed]",
       "text": [
        "<matplotlib.figure.Figure at 0xc1084a8>"
       ]
      }
     ],
     "prompt_number": 14
    },
    {
     "cell_type": "markdown",
     "metadata": {},
     "source": [
      "## Putting it all together\n",
      "\n",
      "There was a lot of extra code in the cells above. We can go through and cut/paste the most important parts to make a standalone program file."
     ]
    },
    {
     "cell_type": "code",
     "collapsed": false,
     "input": [
      "import numpy as np\n",
      "import matplotlib.pyplot as plt\n",
      "\n",
      "datafile = open('static/opt+freq.log')\n",
      "\n",
      "freqs = []\n",
      "intens = []\n",
      "for line in datafile:\n",
      "    if 'Frequencies' in line:\n",
      "        sp = line.split()\n",
      "        freqs.extend(sp[2:])\n",
      "    elif 'IR Inten' in line:\n",
      "        sp = line.split()\n",
      "        intens.extend(sp[3:])\n",
      "\n",
      "datafile.close()\n",
      "freqs = np.array(freqs, dtype=float)\n",
      "intens = np.array(intens, dtype=float)\n",
      "\n",
      "def lorentz(x, pos, inten, hwhm):\n",
      "    return inten*( hwhm**2 / ( (x - pos)**2 + hwhm**2 ) )\n",
      "\n",
      "start = freqs.min() - 50.\n",
      "end = freqs.max() + 50.\n",
      "\n",
      "sim_freq = np.linspace(start, end, 10000)\n",
      "sim_inten = np.zeros(sim_freq.shape)\n",
      "for freq, inten in zip(freqs, intens):\n",
      "    sim_inten += lorentz(sim_freq, freq, inten, 5.0)\n",
      "    \n",
      "plt.plot(sim_freq, sim_inten)\n",
      "\n",
      "plt.xlabel('Wavenumber ($cm^{-1}$)')\n",
      "plt.ylabel('Intensity (a.u.)')\n",
      "plt.show()"
     ],
     "language": "python",
     "metadata": {},
     "outputs": [
      {
       "metadata": {},
       "output_type": "display_data",
       "png": "[encoded data removed]",
       "text": [
        "<matplotlib.figure.Figure at 0xc106a20>"
       ]
      }
     ],
     "prompt_number": 15
    },
    {
     "cell_type": "code",
     "collapsed": false,
     "input": [],
     "language": "python",
     "metadata": {},
     "outputs": []
    }
   ],
   "metadata": {}
  }
 ]
}