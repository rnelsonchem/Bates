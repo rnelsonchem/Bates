{
 "metadata": {
  "name": "",
  "signature": "sha256:714c400b35e354bac6b6bf08b51c74e5b8b50fe68d1cb1c9fd946098f58c58b2"
 },
 "nbformat": 3,
 "nbformat_minor": 0,
 "worksheets": [
  {
   "cells": [
    {
     "cell_type": "code",
     "collapsed": false,
     "input": [
      "%matplotlib inline\n",
      "import nbprep\n",
      "nbprep.style()"
     ],
     "language": "python",
     "metadata": {},
     "outputs": []
    },
    {
     "cell_type": "markdown",
     "metadata": {},
     "source": [
      "# Simple Text Parsing and Simulation\n",
      "\n",
      "Many types of quantitative software are able to output their data into specially formatted text files, which can be parsed in a variety of ways to find the data of interest. Unfortunately, spreadsheets are not good tools for extracting numbers from an non-tabular output files. For highly regular text files, a simple Python program is all that is necessary to read and extract this information from these output files, as shown below.\n",
      "\n",
      "## Simulating a Theoretical Spectrum\n",
      "\n",
      "In this problem, I've run a theoretical calculation on a model chemical system using a program called [Gaussian](http://www.gaussian.com/). The output from that calculation is in the text file \"opt+freq.log\" in the \"static\" folder. These output files are typically very long -- in this case, \"opt+freq.log\" is over 100,000 lines of text. Fortunately, the text is highly structured, so it is fairly easy to open the file in the text editor to find the values that you want. However, I have lots of these data files, so this process will get time consuming very quickly.\n",
      "\n",
      "In this case, the data of interest are theortical predictions for an [infrared (IR) spectrum](http://en.wikipedia.org/wiki/Infrared_spectroscopy) of this model compound. IR spectra tell you something about how bonds bend and vibrate in a molecule, and because they are unique for every compound, they can be used as a fingerprint for identification. A [typical IR spectrum](http://www.dow.com/cyclotene/solution/infrared.htm) is shown below:\n",
      "\n",
      "<img src=\"static/FTIR_spectrum.png\">\n",
      "\n",
      "The x axis in this spectrum is the vibrational *frequency* in units called wavenumbers ($cm^{-1}$), and each peak in the spectrum has a characteristic *intensity* along the y axis, which is called it's absorbance value.\n",
      "\n",
      "The first three sets of simulated values, which can be found in the output file of our calculation necessary, look something like this:\n",
      "\n",
      "<code style=\"color:#000000;\">\n",
      "                     1                      2                      3\n",
      "                     A                      A                      A\n",
      " Frequencies --    33.5092                46.6820                57.1987\n",
      " Red. masses --    14.2097                15.3202                13.7256\n",
      " Frc consts  --     0.0094                 0.0197                 0.0265\n",
      " IR Inten    --     0.1957                 0.0111                 0.4843\n",
      " Atom AN      X      Y      Z        X      Y      Z        X      Y      Z\n",
      "   1   1    -0.05  -0.01   0.02    -0.05  -0.02   0.09    -0.07  -0.04   0.12\n",
      "   2   1     0.04   0.00  -0.01     0.01  -0.04  -0.05     0.17  -0.02  -0.10\n",
      "   3   1    -0.05   0.11  -0.01     0.05  -0.01   0.01    -0.10  -0.03  -0.04\n",
      "   4   1     0.12   0.01  -0.09    -0.04   0.00  -0.01    -0.06  -0.07  -0.03\n",
      "   5   8    -0.01   0.02  -0.02    -0.06  -0.28   0.09     0.23   0.07  -0.19\n",
      "...\n",
      "</code>\n",
      "\n",
      "As you can see, each vibration/bend is described by a number of factors including its *frequency* (Frequencies = x axis) and *intensity* (IR Inten = y axis). To simulate this spectrum, we simply need to extract both of these values for every theoretical vibration/bend in the molecule. Unfortunately, there are 81 total vibrations for this molecule, and a similar number for all of the other similar calculations of this type. Extracting these values by hand will get boring very quickly. "
     ]
    },
    {
     "cell_type": "markdown",
     "metadata": {},
     "source": [
      "## Part 1. Automatically extract the data\n",
      "\n",
      "It turns out that this type of problem will be fairly easy in Python. Some of the code in this notebook will not be covered becasue descriptions/examples can be found in the previous notebook on plotting/fitting. \n",
      "\n",
      "To start with, we'll import our third party libraries for later use. (Even though we won't need this for a while, the typical convention is to do imports at the beginning of a Python program.)"
     ]
    },
    {
     "cell_type": "code",
     "collapsed": false,
     "input": [
      "import numpy as np\n",
      "import matplotlib.pyplot as plt"
     ],
     "language": "python",
     "metadata": {},
     "outputs": []
    },
    {
     "cell_type": "markdown",
     "metadata": {},
     "source": [
      "As we did in the previous notebook, our first task will be to open the data file to extract our information. Remember that a `for` loop was a convenient way to run through the contents of a file. But how do we find our data? It turns out that we can easily check if a *string* of text contains a particluar a substring by using the `in` comparison test. In our case, all of the vibrational frequency lines are preceded by the word \"Frequencies\", so we can do the following to see only the lines that contain vibrational frequencies."
     ]
    },
    {
     "cell_type": "code",
     "collapsed": false,
     "input": [
      "datafile = open('static/opt+freq.log')\n",
      "\n",
      "for line in datafile:\n",
      "    if \"Frequencies\" in line:\n",
      "        print line\n",
      "        \n",
      "datafile.close()"
     ],
     "language": "python",
     "metadata": {},
     "outputs": []
    },
    {
     "cell_type": "markdown",
     "metadata": {},
     "source": [
      "That was definately pretty helpful. We now have a way to only print our vibrational frequencies. However, it would be more convenient to extract those values for later use in our program. In this case, it would be nice if we could *split* each of these lines at the white space. It turns out that we can do that again with the string splitting function. In this case, the default for that function is to break apart the string at the white space. "
     ]
    },
    {
     "cell_type": "code",
     "collapsed": false,
     "input": [
      "datafile = open('static/opt+freq.log')\n",
      "\n",
      "for line in datafile:\n",
      "    if \"Frequencies\" in line:\n",
      "        print line.split()\n",
      "        \n",
      "datafile.close()"
     ],
     "language": "python",
     "metadata": {},
     "outputs": []
    },
    {
     "cell_type": "markdown",
     "metadata": {},
     "source": [
      "Now every time we find a line with the frequencies, we've broken it into a *list* of *strings*. It looks like the first two entries are unimportant, so we'd like to be able to drop them. Here we can use an operation called [slicing](https://docs.python.org/2/library/stdtypes.html#typesseq) to get only the values that we want. In this case, `sp[2:]` tells Python that we only want the third through the last elements in the list. (I could have used `sp[2:5]` as well, but if we had more or less than three frequencies, we would have gotten an error. Useing the open-ended `[2:]` notation is future-proof for other files.)"
     ]
    },
    {
     "cell_type": "code",
     "collapsed": false,
     "input": [
      "datafile = open('static/opt+freq.log')\n",
      "\n",
      "for line in datafile:\n",
      "    if \"Frequencies\" in line:\n",
      "        sp = line.split()\n",
      "        print sp[2:]\n",
      "        \n",
      "datafile.close()"
     ],
     "language": "python",
     "metadata": {},
     "outputs": []
    },
    {
     "cell_type": "markdown",
     "metadata": {},
     "source": [
      "Now we are at the point where we would like to collect these numbers rather than printing them. Again, we need an empty *list* as a container for these values. In our loop, we can't use the [list append](https://docs.python.org/2/tutorial/datastructures.html#more-on-lists) function like we did in the first notebook, because we are trying to add multiple values for every loop iteration. In this case, the [`extend` function](https://docs.python.org/2/tutorial/datastructures.html#more-on-lists) is more appropriate. "
     ]
    },
    {
     "cell_type": "code",
     "collapsed": false,
     "input": [
      "datafile = open('static/opt+freq.log')\n",
      "\n",
      "freqs = []\n",
      "for line in datafile:\n",
      "    if \"Frequencies\" in line:\n",
      "        sp = line.split()\n",
      "        freqs.extend(sp[2:])\n",
      "        \n",
      "datafile.close()\n",
      "print freqs"
     ],
     "language": "python",
     "metadata": {},
     "outputs": []
    },
    {
     "cell_type": "markdown",
     "metadata": {},
     "source": [
      "Now we have the frequencies, but remember that we also need the *intensities* as well. If we look at the output snippet from above, we can modify our code to find these values as well. In this case, we're adding an `elif` statement. This simply means \"or else if\" and is used when you want to sting together multiple `if` statements.\n",
      "\n",
      "*Quiz* Why am I starting at the fourth item in our slice of the split IR line (`sp[3:]`)?"
     ]
    },
    {
     "cell_type": "code",
     "collapsed": false,
     "input": [
      "datafile = open('static/opt+freq.log')\n",
      "\n",
      "freqs = []\n",
      "intens = []\n",
      "for line in datafile:\n",
      "    if 'Frequencies' in line:\n",
      "        sp = line.split()\n",
      "        freqs.extend(sp[2:])\n",
      "    elif 'IR Inten' in line:\n",
      "        sp = line.split()\n",
      "        intens.extend(sp[3:])\n",
      "\n",
      "datafile.close()"
     ],
     "language": "python",
     "metadata": {},
     "outputs": []
    },
    {
     "cell_type": "markdown",
     "metadata": {},
     "source": [
      "These *lists* of frequencies and intensities are all numbers, so it is a good idea to convert them to Numpy *arrays* for use in later calculations."
     ]
    },
    {
     "cell_type": "code",
     "collapsed": false,
     "input": [
      "freqs = np.array(freqs, dtype=float)\n",
      "intens = np.array(intens, dtype=float)\n",
      "\n",
      "print freqs\n",
      "print intens"
     ],
     "language": "python",
     "metadata": {},
     "outputs": []
    },
    {
     "cell_type": "markdown",
     "metadata": {},
     "source": [
      "## Part 2. Simulating the spectrum\n",
      "\n",
      "We can plot our frequencies versus intensities rather easily, but the result will not be what we expect."
     ]
    },
    {
     "cell_type": "code",
     "collapsed": false,
     "input": [
      "plt.plot(freqs, intens)"
     ],
     "language": "python",
     "metadata": {},
     "outputs": []
    },
    {
     "cell_type": "markdown",
     "metadata": {},
     "source": [
      "This looks really goofy, because we are only plotting the peak centers (`freqs`) and heights (`intens`). To make this look like a spectrum, we need to give these peaks some *shape*. Peaks in IR spectra have a [Lorentzian line shape](http://en.wikipedia.org/wiki/Cauchy_distribution). The value of a Lorentzian function at any point $x$ is defined by the *position* ($x_0$) of the peak maximum, the maximum intensity ($I$), and the half-width at half-maximum ($\\gamma$) using the following equation:\n",
      "\n",
      "$$ f(x;x_0,\\gamma,I)=I*\\left[\\frac{\\gamma^{2}} {(x - x_0)^{2} + \\gamma^{2}} \\right] $$\n",
      "\n",
      "This function can be written into Python code as below with $x_0$ = `pos`, $\\gamma$ = `hwhm`, and $I$ = `inten`."
     ]
    },
    {
     "cell_type": "code",
     "collapsed": false,
     "input": [
      "def lorentz(x, pos, inten, hwhm):\n",
      "    return inten*( hwhm**2 / ( (x - pos)**2 + hwhm**2 ) )"
     ],
     "language": "python",
     "metadata": {},
     "outputs": []
    },
    {
     "cell_type": "markdown",
     "metadata": {},
     "source": [
      "We can simulate what a function like this would look fairly easily. First we'll define a region of the x axis that we'd like to simulate using a Numpy linearly-spaced array (`simx`). Next, we'll plot a simulated peak with a center at 5, a height of 5, and a half-width of 1."
     ]
    },
    {
     "cell_type": "code",
     "collapsed": false,
     "input": [
      "simx = np.linspace(0, 10, 10000)\n",
      "plt.plot(simx, lorentz(simx, 5., 5., 1.))"
     ],
     "language": "python",
     "metadata": {},
     "outputs": []
    },
    {
     "cell_type": "markdown",
     "metadata": {},
     "source": [
      "In order to generate Lorentzian peaks for all of our data that we've extracted from the output file, we first need to decide on the range that we'll want to generate our simulation. In this case, let's generate a simulated x axis from 50 wavenumbers above and below the maximum and minumum frequencies, respectively."
     ]
    },
    {
     "cell_type": "code",
     "collapsed": false,
     "input": [
      "start = freqs.min() - 50.\n",
      "end = freqs.max() + 50.\n",
      "\n",
      "sim_freq = np.linspace(start, end, 10000)"
     ],
     "language": "python",
     "metadata": {},
     "outputs": []
    },
    {
     "cell_type": "markdown",
     "metadata": {},
     "source": [
      "Now we'll need to make a simulated Lorentzian peak for every frequency/intensity pair. Summing all of these together will give us a simulated spectrum. First of all, let's use [Numpy's `zeros` function](http://docs.scipy.org/doc/numpy/reference/generated/numpy.zeros.html) to generate an array of zeros that has the same number of points (`shape`) as our simulated x axis from above. We can add every simulated peak to this array to generate our simulated intensity data. \n",
      "\n",
      "Now we need to figure out how to loop through our frequencies and intensities to get generate the necessary Lorentian lines. A `for` loop will help us to iterate through each list, but we'll have a problem. Each frequency and intensity needs to be handled as a pair. To help us with this, use Python's built-in [zip function](https://docs.python.org/2/library/functions.html#zip), which takes two lists (and other things) and returns them as matched pairs. (See the docs for a nice example.)"
     ]
    },
    {
     "cell_type": "code",
     "collapsed": false,
     "input": [
      "sim_inten = np.zeros(sim_freq.shape)\n",
      "for freq, inten in zip(freqs, intens):\n",
      "    sim_inten += lorentz(sim_freq, freq, inten, 5.0)"
     ],
     "language": "python",
     "metadata": {},
     "outputs": []
    },
    {
     "cell_type": "markdown",
     "metadata": {},
     "source": [
      "*Note* This is probably the conceptually simplest way to perform this computation, but another method involves [Numpy's array broadcasting](http://docs.scipy.org/doc/numpy/user/basics.broadcasting.html) features. For example, the following code does the same thing as the code block above. This method can be a little difficult to wrap your head around this functionality at first glance, but it can be more useful for some applications. For example, the first line of this code block generates a 2D array of all of the simulated peaks -- the rows are x axis data the columns are the different peak paramters. That could be useful if you want to inspect only specific simulated peaks."
     ]
    },
    {
     "cell_type": "code",
     "collapsed": false,
     "input": [
      "sim_inten = lorentz(sim_freq.reshape(-1,1), freqs, intens, 5.0)\n",
      "sim_inten = sim_inten.sum(axis=1)"
     ],
     "language": "python",
     "metadata": {},
     "outputs": []
    },
    {
     "cell_type": "markdown",
     "metadata": {},
     "source": [
      "Finally, let's make a plot of our newly created simulation."
     ]
    },
    {
     "cell_type": "code",
     "collapsed": false,
     "input": [
      "plt.plot(sim_freq, sim_inten)\n",
      "\n",
      "plt.xlabel('Wavenumber ($cm^{-1}$)')\n",
      "plt.ylabel('Intensity (a.u.)')"
     ],
     "language": "python",
     "metadata": {},
     "outputs": []
    },
    {
     "cell_type": "markdown",
     "metadata": {},
     "source": [
      "## Putting it all together\n",
      "\n",
      "There was a lot of extra code in the cells above. We can go through and cut/paste the most important parts to make a standalone program file."
     ]
    },
    {
     "cell_type": "code",
     "collapsed": false,
     "input": [
      "import numpy as np\n",
      "import matplotlib.pyplot as plt\n",
      "\n",
      "datafile = open('static/opt+freq.log')\n",
      "\n",
      "freqs = []\n",
      "intens = []\n",
      "for line in datafile:\n",
      "    if 'Frequencies' in line:\n",
      "        sp = line.split()\n",
      "        freqs.extend(sp[2:])\n",
      "    elif 'IR Inten' in line:\n",
      "        sp = line.split()\n",
      "        intens.extend(sp[3:])\n",
      "\n",
      "datafile.close()\n",
      "freqs = np.array(freqs, dtype=float)\n",
      "intens = np.array(intens, dtype=float)\n",
      "\n",
      "def lorentz(x, pos, inten, hwhm):\n",
      "    return inten*( hwhm**2 / ( (x - pos)**2 + hwhm**2 ) )\n",
      "\n",
      "start = freqs.min() - 50.\n",
      "end = freqs.max() + 50.\n",
      "\n",
      "sim_freq = np.linspace(start, end, 10000)\n",
      "sim_inten = np.zeros(sim_freq.shape)\n",
      "for freq, inten in zip(freqs, intens):\n",
      "    sim_inten += lorentz(sim_freq, freq, inten, 5.0)\n",
      "    \n",
      "plt.plot(sim_freq, sim_inten)\n",
      "\n",
      "plt.xlabel('Wavenumber ($cm^{-1}$)')\n",
      "plt.ylabel('Intensity (a.u.)')\n",
      "plt.show()"
     ],
     "language": "python",
     "metadata": {},
     "outputs": []
    },
    {
     "cell_type": "code",
     "collapsed": false,
     "input": [],
     "language": "python",
     "metadata": {},
     "outputs": []
    }
   ],
   "metadata": {}
  }
 ]
}