{
 "metadata": {
  "name": "",
  "signature": "sha256:c99068a63105d86dcbc4e2c0abe7e31bc31d8826abbed1d918aadcc14dc024f5"
 },
 "nbformat": 3,
 "nbformat_minor": 0,
 "worksheets": [
  {
   "cells": [
    {
     "cell_type": "code",
     "collapsed": false,
     "input": [
      "%matplotlib inline\n",
      "import nbprep\n",
      "nbprep.style()"
     ],
     "language": "python",
     "metadata": {},
     "outputs": []
    },
    {
     "cell_type": "code",
     "collapsed": false,
     "input": [
      "import numpy as np\n",
      "import matplotlib.pyplot as plt\n",
      "import scipy.ndimage as spn"
     ],
     "language": "python",
     "metadata": {},
     "outputs": []
    },
    {
     "cell_type": "code",
     "collapsed": false,
     "input": [
      "image_orig = plt.imread('static/SEM_Zoom.ogg.jpg')\n",
      "plt.imshow(image_orig)"
     ],
     "language": "python",
     "metadata": {},
     "outputs": []
    },
    {
     "cell_type": "code",
     "collapsed": false,
     "input": [
      "print image_orig.shape\n",
      "print image_orig[0,0]"
     ],
     "language": "python",
     "metadata": {},
     "outputs": []
    },
    {
     "cell_type": "code",
     "collapsed": false,
     "input": [
      "image = image_orig[:,:,0]\n",
      "hist = plt.hist(image.flat, bins=125)"
     ],
     "language": "python",
     "metadata": {},
     "outputs": []
    },
    {
     "cell_type": "code",
     "collapsed": false,
     "input": [
      "thresh = (image > 68)\n",
      "\n",
      "plt.imshow(thresh)\n",
      "# plt.subplot(121)\n",
      "# plt.imshow(thresh[:,:640])\n",
      "# plt.subplot(122)\n",
      "# plt.imshow(image_orig[:,:640])"
     ],
     "language": "python",
     "metadata": {},
     "outputs": []
    },
    {
     "cell_type": "code",
     "collapsed": false,
     "input": [
      "spheres, num = spn.label(thresh)\n",
      "\n",
      "print num\n",
      "print spheres"
     ],
     "language": "python",
     "metadata": {},
     "outputs": []
    },
    {
     "cell_type": "code",
     "collapsed": false,
     "input": [
      "mask = (spheres == 200)\n",
      "color_sphere = np.zeros(image.shape + (4,))\n",
      "color_sphere[mask] = [1, 0, 0, 1.]\n",
      "plt.imshow(image_orig)\n",
      "plt.imshow(color_sphere)\n",
      "print mask.sum()"
     ],
     "language": "python",
     "metadata": {},
     "outputs": []
    },
    {
     "cell_type": "code",
     "collapsed": false,
     "input": [
      "sizes = []\n",
      "for x in xrange(1, num):\n",
      "    if x in spheres[(0,-1),:] or x in spheres[:,(0,-1)]:\n",
      "        sizes.append(0.)\n",
      "    else:\n",
      "        size = (spheres == x).sum()\n",
      "        sizes.append(size)\n",
      "sizes = np.array(sizes)"
     ],
     "language": "python",
     "metadata": {},
     "outputs": []
    },
    {
     "cell_type": "code",
     "collapsed": false,
     "input": [
      "hist = plt.hist(sizes, bins=50)"
     ],
     "language": "python",
     "metadata": {},
     "outputs": []
    },
    {
     "cell_type": "code",
     "collapsed": false,
     "input": [
      "mask = (sizes > 400) & (sizes < 1700)\n",
      "\n",
      "print 'Number of selected features:', len(sizes[mask])\n",
      "print 'Median Size (pix):', np.median(sizes[mask])\n",
      "print 'Mean Size (pix):', np.mean(sizes[mask])\n",
      "print 'Std. Dev.:', np.std(sizes[mask])\n",
      "\n",
      "hist = plt.hist(sizes[mask], bins=20)"
     ],
     "language": "python",
     "metadata": {},
     "outputs": []
    },
    {
     "cell_type": "code",
     "collapsed": false,
     "input": [
      "clear_layer = np.zeros(image.shape + (4,))\n",
      "for x in np.arange(1, num)[mask]:\n",
      "    clear_layer[spheres == x] = [1., 0., 0., 0.75]"
     ],
     "language": "python",
     "metadata": {},
     "outputs": []
    },
    {
     "cell_type": "code",
     "collapsed": false,
     "input": [
      "plt.imshow(image_orig)\n",
      "plt.imshow(clear_layer)"
     ],
     "language": "python",
     "metadata": {},
     "outputs": []
    },
    {
     "cell_type": "code",
     "collapsed": false,
     "input": [],
     "language": "python",
     "metadata": {},
     "outputs": []
    }
   ],
   "metadata": {}
  }
 ]
}