{
 "metadata": {
  "name": "",
  "signature": "sha256:aa23aa5b196db8856c3f46190bec3355c2f4b41f112cd8024b5aa01ec8efb960"
 },
 "nbformat": 3,
 "nbformat_minor": 0,
 "worksheets": [
  {
   "cells": [
    {
     "cell_type": "code",
     "collapsed": false,
     "input": [
      "%matplotlib inline\n",
      "import nbprep\n",
      "nbprep.style()"
     ],
     "language": "python",
     "metadata": {},
     "outputs": []
    },
    {
     "cell_type": "markdown",
     "metadata": {},
     "source": [
      "# HDF Files and Network Graphs\n",
      "\n",
      "*Note: To run this example, a separate file \"gaussian.h5\" must be uploaded to\n",
      "the folder \"static\" in the notebook directory. This file can be found in the\n",
      "folder \"Notebook Extras\" in the Google Drive link that I've provided. See the\n",
      "Getting Started slides for information on uploading files.*\n",
      "\n",
      "This notebook reproduces an analysis from a collaborative research project\n",
      "between myself and my colleague [Prof. Benjamin Gorske at Bowdoin\n",
      "College](http://www.bowdoin.edu/faculty/b/bgorske/), the results of which were\n",
      "published in a [recent\n",
      "manuscript](http://pubs.acs.org/doi/abs/10.1021/jo4014113?journalCode=joceah).\n",
      "The final figure, shown below, can be found in the [Supporting\n",
      "Information](http://pubs.acs.org/doi/suppl/10.1021/jo4014113) for the paper,\n",
      "and was crucial for the final interpretation of the data. The code in this\n",
      "notebook represents a great deal of work on my part, and the complexity of the\n",
      "code reflects that effort. I did my best to minimize my original code to the\n",
      "most important features and to explain as much as I can along the way.\n",
      "\n",
      "<img src=\"static/nbo_mat3.png\" style=\"width:90%;\">\n",
      "\n",
      "## Desciption of the problem\n",
      "\n",
      "Subtle changes in chemical structure can sometimes have drastic consequences\n",
      "for reactivity. My colleague Prof. Gorske is studying\n",
      "[peptoids](http://en.wikipedia.org/wiki/Peptoid) -- which are analogous to\n",
      "peptides, one of Nature's building blocks -- but they possess some unusual and\n",
      "pretty cool properties. Prof. Gorske's [previously developed model\n",
      "systems](http://pubs.acs.org/doi/abs/10.1021/ja071310l) demonstrated that\n",
      "subtle changes in the chemical composition produced drastic differences in\n",
      "molecular confirmation. An example of one of these model systems is shown\n",
      "below.\n",
      "\n",
      "<img src=\"static/peptoid.svg\" style=\"width:20%;\">\n",
      "\n",
      "In this particular model, removing the \"NO<sub>2</sub>\" group drastically\n",
      "changes the geometric preference at the amide (N-C=O) or thioamide (N-S=O)\n",
      "group on the other end of the ring. \n",
      "\n",
      "*How are these compositional changes at one end of the molecule affecting\n",
      "properties at the other end?* We postulated that there was a electronic\n",
      "connectivity network between the \"NO<sub>2</sub>\" and the (thio)amide. To\n",
      "prove this, I calculated a special type of theoretical electron distribution\n",
      "functions called [Natural Bond Orbitals\n",
      "(NBO)](http://en.wikipedia.org/wiki/Natural_bond_orbital). NBOs are localized\n",
      "on certain fragments of the molecule; however, they can interact with each\n",
      "other in ways that stabilize the overall molecular structure. An example of\n",
      "this interaction is shown in the picture below -- an animated movie can be\n",
      "found in the shared folder.\n",
      "\n",
      "<img src=\"static/020.png\" style=\"width:50%;\">\n",
      "\n",
      "In this picture, the transparent blue and red lobes represent one NBO and the\n",
      "green and yellow lobes represent another NBO. The interaction/overlap of these\n",
      "orbitals leads to an overall stabilization of this molecule. These NBO-NBO\n",
      "interactions form a very large and complicated *connectivity network*. In\n",
      "order to analyze this efficiently, I used Python's network analysis library\n",
      "[NetworkX](https://networkx.github.io/). \n",
      "\n",
      "Another problem that needed to be addressed was handling the large amounts of\n",
      "data. Prof. Gorske had synthesized several of these molecules, and for the\n",
      "theoretical analysis, multiple calculations for each model compound needed to\n",
      "be run and compared. I generated somewhere around 650 MB of *compressed*\n",
      "output files that I needed to parse. (These are compressed versions of the\n",
      "Gaussian output files from the Text Parsing notebook.) The details of that\n",
      "procedure are beyond the scope of this example, but after extracting the\n",
      "information from the output files, I needed a convenient way to store and\n",
      "access the data. \n",
      "\n",
      "To this end, I chose the open-source [Hierarchical Data Format (HDF) file\n",
      "format](http://en.wikipedia.org/wiki/Hierarchical_Data_Format). These files\n",
      "are specifically designed for high-performance storage and access of very\n",
      "large scientific data sets. Python has at least two libraries for these files\n",
      "[PyTables](http://www.pytables.org/moin) and [h5py](http://www.h5py.org/) -- I\n",
      "chose PyTables for my analysis."
     ]
    },
    {
     "cell_type": "markdown",
     "metadata": {},
     "source": [
      "## Getting started\n",
      "\n",
      "This prodedure requires the external libraries Numpy, Matplotlib, NetworkX, and PyTables (tables)."
     ]
    },
    {
     "cell_type": "code",
     "collapsed": false,
     "input": [
      "import numpy as np\n",
      "import matplotlib.pyplot as plt\n",
      "import matplotlib.colors as plc\n",
      "import matplotlib.collections as mpc\n",
      "import networkx as nx\n",
      "import tables as pyt"
     ],
     "language": "python",
     "metadata": {},
     "outputs": []
    },
    {
     "cell_type": "markdown",
     "metadata": {},
     "source": [
      "Here I'm setting some default parameters for my plots, so that they have the appearance that I like."
     ]
    },
    {
     "cell_type": "code",
     "collapsed": false,
     "input": [
      "plt.rc('font', size=16.0)\n",
      "plt.rc('mathtext', default='regular')"
     ],
     "language": "python",
     "metadata": {},
     "outputs": []
    },
    {
     "cell_type": "markdown",
     "metadata": {},
     "source": [
      "There are several parameters that will control our output. I am putting these together at the beginning, so I can change them later if necessary.\n",
      "\n",
      "* `h5_file`: The location of the HDF file with my data\n",
      "* `expt_num`: The experiment that I'd like to process in this example\n",
      "* `center`: These are the NBOs that will form the center of my network plot\n",
      "* `N`: Number of layers in the network plot\n",
      "* `cutoff`: An energy cutoff, this is explained more later\n",
      "* `scale`: Scaling factor for our network graph, more below\n",
      "* `scale_axis`: This just scales the network plot at the end so it fits in the window"
     ]
    },
    {
     "cell_type": "code",
     "collapsed": false,
     "input": [
      "h5_file='static/gaussian.h5'\n",
      "expt_num = 'rcn0001_020'\n",
      "\n",
      "center = ['BD*( 2) C 6- C 7', 'BD ( 2) C 6- C 7',\n",
      "        'BD*( 2) C 8- C 9', 'BD ( 2) C 8- C 9',\n",
      "        'BD*( 2) C10- C11', 'BD ( 2) C10- C11',\n",
      "        ]\n",
      "\n",
      "N = 2 \n",
      "cutoff = 7. \n",
      "scale = 5.0\n",
      "scale_axes = 0.85 "
     ],
     "language": "python",
     "metadata": {},
     "outputs": []
    },
    {
     "cell_type": "markdown",
     "metadata": {},
     "source": [
      "## Part 1. Load the data\n",
      "\n",
      "The first thing we need to do is extract the relevant data from our large HDF\n",
      "file. In general, HDF files are organized like a tree. There is a root\n",
      "\"folder\" (/) at the base, that can contain things like data Tables\n",
      "(spreadsheet-like), Arrays (multidimensional blocks of numbers), and\n",
      "individual values as well (for flags, etc.). To better organize the data in the\n",
      "file, you can made Groups that act like folders and can contain Tables,\n",
      "Arrays, or other Groups. Printing our open HDF file shows us the structure of\n",
      "this particular file. *Important Note:* Even though we've opened and are\n",
      "accessing the HDF file, it is not read entirely into memory. HDF files are\n",
      "designed to be quickly and efficiently read from the hard disk, which is very\n",
      "important when you are access very large data sets that won't fit into memory."
     ]
    },
    {
     "cell_type": "code",
     "collapsed": false,
     "input": [
      "h5f = pyt.openFile(h5_file)\n",
      "print h5f"
     ],
     "language": "python",
     "metadata": {},
     "outputs": []
    },
    {
     "cell_type": "markdown",
     "metadata": {},
     "source": [
      "We can access different elements in our file very easily using the dot (\".\")\n",
      "notation that is common with Python objects. Below, we are selecting the\n",
      "*array* of atomic coordinates for the model that we'll be working with in this\n",
      "example. We had to add a slice to the end (`[:]`) in order to extract the data\n",
      "from the file. (Otherwise, you get an\n",
      "[iterator](http://pytables.github.io/usersguide/tutorials.html#reading-and-selecting-data-in-a-table),\n",
      "which is more memory efficient way to access the data.)"
     ]
    },
    {
     "cell_type": "code",
     "collapsed": false,
     "input": [
      "print h5f.root.rcn0001_020.coords\n",
      "h5f.root.rcn0001_020.coords[:]"
     ],
     "language": "python",
     "metadata": {},
     "outputs": []
    },
    {
     "cell_type": "markdown",
     "metadata": {},
     "source": [
      "This particular HDF file contains a Table called `nbo_e2` that contains >25,000 rows of NBO data that is necessary for our analysis. The columns of the table are printed below as well as the first row entry.\n",
      "\n",
      "* The first two rows provide the experiment number information\n",
      "* The fourth and sixth columns are the donor and acceptor NBO, respectively\n",
      "* The seventh column is the interaction energy (\"e2\") between these NBOs"
     ]
    },
    {
     "cell_type": "code",
     "collapsed": false,
     "input": [
      "nbo = h5f.root.nbo_e2\n",
      "print nbo.shape\n",
      "print nbo.colnames\n",
      "print nbo[0]"
     ],
     "language": "python",
     "metadata": {},
     "outputs": []
    },
    {
     "cell_type": "markdown",
     "metadata": {},
     "source": [
      "# Part 2. Create a Connectivity Network Graph\n",
      "\n",
      "Now we can create the data structure necessary for our network graph. In this\n",
      "case, we need to create a [Python\n",
      "dictionary](https://docs.python.org/2/tutorial/datastructures.html#dictionaries)\n",
      "that contains our connectivity data (`nx_dict = {}`). \n",
      "\n",
      "To get this information, we can iterate over all the rows of our `nbo` table\n",
      "using a `for` loop. If the experiment number matches the one that we selected\n",
      "at the beginning of our program (`expt_num`), then we can add this to our\n",
      "connectivity dictionary. One donor can be connected to many different\n",
      "acceptors with different energies, so we are ultimately creating a\n",
      "dictionary-of-dictionaries."
     ]
    },
    {
     "cell_type": "code",
     "collapsed": false,
     "input": [
      "nx_dict = {}\n",
      "for i in nbo.iterrows():\n",
      "    expt = i['expt']+'_'+i['enum']\n",
      "    donor = i['donor']\n",
      "    accept = i['accept']\n",
      "\n",
      "    if expt == expt_num:\n",
      "        # If this donor is not in our dictionary, add a new entry\n",
      "        if not donor in nx_dict:\n",
      "            nx_dict[donor] = {accept: {'weight':i['e2']} }\n",
      "        # Or else add another connectivity node\n",
      "        else:\n",
      "            nx_dict[donor][accept] = {'weight':i['e2']}"
     ],
     "language": "python",
     "metadata": {},
     "outputs": []
    },
    {
     "cell_type": "markdown",
     "metadata": {},
     "source": [
      "This new data set can be difficult to conceptualize, so to give you an idea of\n",
      "what it looks like, here is one entry in our dictionary. In this case, the\n",
      "donor NBO `\"BD ( 1) C 1- C 2\"` is connected to four different acceptor NBOs.\n",
      "The 'weights' are the energies of these interactions."
     ]
    },
    {
     "cell_type": "code",
     "collapsed": false,
     "input": [
      "nx_dict['BD ( 1) C 1- C 2']"
     ],
     "language": "python",
     "metadata": {},
     "outputs": []
    },
    {
     "cell_type": "markdown",
     "metadata": {},
     "source": [
      "We're done with the HDF file, so we can close it now."
     ]
    },
    {
     "cell_type": "code",
     "collapsed": false,
     "input": [
      "h5f.close()"
     ],
     "language": "python",
     "metadata": {},
     "outputs": []
    },
    {
     "cell_type": "markdown",
     "metadata": {},
     "source": [
      "Now we are ready to create a connectivity network using our NBO dictionary as\n",
      "an input. We can also create a simple [spring (force directed)\n",
      "graph](http://en.wikipedia.org/wiki/Force-directed_graph_drawing) of our data.\n",
      "In this case, the 'weights' (i.e. interaction energy) will dictate how much\n",
      "pull two points have to one another. (Think of the weight like a spring\n",
      "constant: the larger the constant, the stronger the spring holding the two\n",
      "points together.) Tight clustering of certain regions indicates stronger\n",
      "interactions between a series of NBO orbitals. "
     ]
    },
    {
     "cell_type": "code",
     "collapsed": false,
     "input": [
      "G = nx.Graph(nx_dict)\n",
      "nx.draw(G, node_size=20, with_labels=False)"
     ],
     "language": "python",
     "metadata": {},
     "outputs": []
    },
    {
     "cell_type": "markdown",
     "metadata": {},
     "source": [
      "# Part 3. Shell Layout\n",
      "\n",
      "The graph above contains all of our connectivity information; however, it\n",
      "provides no insight for the problem at hand. We are going to have to do a bit\n",
      "more work to get a useful plot.\n",
      "\n",
      "In order to make a [Shell\n",
      "Layout](http://networkx.github.io/documentation/latest/reference/generated/networkx.drawing.layout.shell_layout.html?highlight=shell_layout)\n",
      "plot like the one shown at the beginning of this notebook, we are going to\n",
      "need to accomplish the following:\n",
      "\n",
      "* Pick a center layer of NBO orbitals -- `center` variable above. In this case, we're picking the orbitals that describe the $\\pi$ system (i.e. double bonds) of the aromatic ring.\n",
      "* Find all of the NBOs that directly interact with the central layer.\n",
      "* Repeat this process until we reach the desired number of layers `N`.\n",
      "* Create a Shell Layout with these layers.\n",
      "* Get all of the node and edge positions.\n",
      "* Use the edge weights (i.e. interaction energies) to color the edges."
     ]
    },
    {
     "cell_type": "markdown",
     "metadata": {},
     "source": [
      "## Part 3a. Find the layers\n",
      "\n",
      "In order to find the layers, we are going to make use of [Python\n",
      "sets](https://docs.python.org/2/library/stdtypes.html#set). These behave much\n",
      "like you would expect based on set theory -- e.g. they have unions,\n",
      "intersections, etc. In addition, they only contain unique items, so the following:\n",
      "\n",
      "```python\n",
      "a = set([\"A\", \"B\"])\n",
      "b = set([\"B\", \"C\"])\n",
      "a.union(b)\n",
      "``` \n",
      "\n",
      "will automatically give us a set containing only \"A\", \"B\", and \"C\" (not two\n",
      "copies of \"B\"). This is important for us because we only want to have unique\n",
      "nodes in each layer, and sets will help us accomplish that goal.\n",
      "\n",
      "In the following code, `layers` will be a list of nodes in each layer, and `nodes` is going to be a set of all the nodes in every layer."
     ]
    },
    {
     "cell_type": "code",
     "collapsed": false,
     "input": [
      "layers = [set(center)] \n",
      "nodes = set(center)\n",
      "\n",
      "# Here `i` is going to a number corresponding to a layer number\n",
      "for i in range(N):\n",
      "    temp = []\n",
      "    # For all of the nodes in this layer, find the nodes (keys) that are connected\n",
      "    for j in layers[i]:\n",
      "        temp.extend(G[j].keys())\n",
      "    # Make sure these nodes are not in the original set\n",
      "    temp = set(temp).difference(nodes)\n",
      "    # Add these nodes as the next layer\n",
      "    layers.append(temp)\n",
      "    # Add new nodes to our total node set\n",
      "    nodes = nodes.union(temp)"
     ],
     "language": "python",
     "metadata": {},
     "outputs": []
    },
    {
     "cell_type": "markdown",
     "metadata": {},
     "source": [
      "Let's take a look at one of our layers. (Of course, `layers[0]` will be\n",
      "identical to our `center` variable that we set at the beginning.)"
     ]
    },
    {
     "cell_type": "code",
     "collapsed": false,
     "input": [
      "layers[1]"
     ],
     "language": "python",
     "metadata": {},
     "outputs": []
    },
    {
     "cell_type": "markdown",
     "metadata": {},
     "source": [
      "## Part 3b. Create the shell layout\n",
      "\n",
      "Here we are using NetworkX to create the shell layout of our data. We are making sure that we only use the layers that we found above."
     ]
    },
    {
     "cell_type": "code",
     "collapsed": false,
     "input": [
      "#layers = [list(n) for n in layers]\n",
      "pos = nx.shell_layout(G, layers, scale=scale)"
     ],
     "language": "python",
     "metadata": {},
     "outputs": []
    },
    {
     "cell_type": "markdown",
     "metadata": {},
     "source": [
      "## Part 3c. Get the node and edge positions\n",
      "\n",
      "Looping though our shell layout (`pos`) provides us with a node name (`i`). Using this node name as a key to our shell layout (`pos[i]`) returns the position of the node as an (x, y) pair. These data can be converted to a 2D Numpy array."
     ]
    },
    {
     "cell_type": "code",
     "collapsed": false,
     "input": [
      "node_pos = [pos[i] for i in pos] \n",
      "node_pos = np.array(node_pos)"
     ],
     "language": "python",
     "metadata": {},
     "outputs": []
    },
    {
     "cell_type": "markdown",
     "metadata": {},
     "source": [
      "Getting the edge information is tricky. First of all, if we loop through the edges of our graph (`G`), we get a tuple like the following:\n",
      "\n",
      "    ('BD ( 1) C 2- S17', 'BD*( 1) C 2- S17', {'weight': 3.16})\n",
      "    \n",
      "Where the donor is the first item, the acceptor is the second item, and the\n",
      "interaction energy (labeled weight) is in the final dictionary. We can check\n",
      "if the first and second items are in our node list for our layered plot. If\n",
      "so, add this edge to our edges list and append the energy to our new energy\n",
      "list. Finally, convert the energy list to a Numpy array."
     ]
    },
    {
     "cell_type": "code",
     "collapsed": false,
     "input": [
      "edges = []\n",
      "e2 = []\n",
      "\n",
      "for i in G.edges(data=True):\n",
      "    if i[0] in nodes and i[1] in nodes:\n",
      "        edges.append(i)\n",
      "        e2.append(i[2]['weight'])\n",
      "e2 = np.array(e2)"
     ],
     "language": "python",
     "metadata": {},
     "outputs": []
    },
    {
     "cell_type": "markdown",
     "metadata": {},
     "source": [
      "Next, we can use our edges list to construct an array of edge positions. (This is the starting and ending point of a line that connects the two nodes.)"
     ]
    },
    {
     "cell_type": "code",
     "collapsed": false,
     "input": [
      "edge_pos = [(pos[i], pos[j]) for i, j, k in edges]\n",
      "edge_pos = np.array( edge_pos )"
     ],
     "language": "python",
     "metadata": {},
     "outputs": []
    },
    {
     "cell_type": "code",
     "collapsed": false,
     "input": [
      "edge_pos.shape # A 3D array"
     ],
     "language": "python",
     "metadata": {},
     "outputs": []
    },
    {
     "cell_type": "markdown",
     "metadata": {},
     "source": [
      "## Part 3d. Edge coloring\n",
      "\n",
      "In order to color the edges according to the energy of interaction, we need to\n",
      "do a couple of things. First of all, we want to cut off very large energies\n",
      "because they will throw off the coloring. Secondly, we need to normalize the\n",
      "remaining energies. (This is a requirement for Matplotlib's coloring\n",
      "algorithms, not necessarily for our data analysis.)"
     ]
    },
    {
     "cell_type": "code",
     "collapsed": false,
     "input": [
      "# Find the local maximum that is at or below the cutoff. \n",
      "e2_mask = e2 <= cutoff\n",
      "lmx = e2[e2_mask].max()\n",
      "\n",
      "# Create the normalized data array.\n",
      "e2_norm = e2[ e2_mask ]/lmx"
     ],
     "language": "python",
     "metadata": {},
     "outputs": []
    },
    {
     "cell_type": "markdown",
     "metadata": {},
     "source": [
      "# Part 4. Make the plot\n",
      "\n",
      "The final plotting code to make this graph is rather verbose, and in this\n",
      "environment (SMC), all plotting code needs to be contained in one cell.\n",
      "I've done my best to annotate each chunk of plotting code. In many cases, some\n",
      "of this plotting stuff is much easier than this example would make it seem;\n",
      "however, this example does highlight the complete control that Matplotlib\n",
      "gives you over plotting appearance. "
     ]
    },
    {
     "cell_type": "code",
     "collapsed": false,
     "input": [
      "#### Create the plot ####\n",
      "\n",
      "# Create a figure window\n",
      "fig = plt.figure(figsize=(12.,10.), facecolor='w')\n",
      "# Add a plotting axes\n",
      "ax = fig.add_axes([0.1,0.1,0.8,0.8])\n",
      "\n",
      "# Set the colormap to be used for this plot. \n",
      "cmap = plt.cm.autumn_r\n",
      "colors = cmap(e2_norm)\n",
      "# This is an array of RGBA values for every line (A = alpha or transparency)\n",
      "# Set the line transparency based on their normalized energy.\n",
      "colors[:,3] = e2_norm\n",
      "\n",
      "# Give the edges custom colors. First set a base linewidth for all lines.\n",
      "base_lw = 5.\n",
      "# Create black lines for edges with energies above the cutoff\n",
      "lc2 = mpc.LineCollection(edge_pos[e2_mask == False], linewidths=base_lw,\n",
      "        colors='k')\n",
      "ax.add_collection(lc2)\n",
      "# Create colored lines for edges with energies below the cutoff\n",
      "lc = mpc.LineCollection(edge_pos[e2_mask], linewidths=e2_norm*base_lw,\n",
      "        colors=colors)\n",
      "ax.add_collection(lc)\n",
      "\n",
      "# Create a scatter plot of the nodes. Make sure this is above the lines (zorder)\n",
      "ax.scatter(node_pos[:,0], node_pos[:,1], s=150, zorder=1000, facecolor='0.5')\n",
      "\n",
      "# Add text labels to the nodes.\n",
      "for p, coord in pos.items():\n",
      "    fontsize = 10\n",
      "    color = 'k'\n",
      "    # If our nodes are any of these special cases, change the fontsize and color\n",
      "    if p == \"BD ( 1) C 4- H22\" or p == \"BD*( 1) C 4- H22\":\n",
      "        fontsize = 14\n",
      "        color = 'g'\n",
      "    elif p == \"LP ( 2) S17\" or p == \"BD*( 2) C 6- C 7\":\n",
      "        fontsize = 14\n",
      "        color = 'b'\n",
      "    # Add the text. Make sure it is above everything else (zorder)\n",
      "    ax.text(coord[0], coord[1], p, ha='center', fontsize=fontsize, zorder=1005,\n",
      "            clip_on=True, color=color)\n",
      "\n",
      "# Create a custom colorbar ignoring the large energies. We add a zero to \n",
      "# our energy array (np.append) so that the colorbar extends that low.\n",
      "mappable = plt.cm.ScalarMappable(cmap=cmap)\n",
      "mappable.set_array(np.append(e2[e2_mask], 0))\n",
      "cbar = fig.colorbar(mappable)\n",
      "cbar.set_label('NBO SOP Energy (kcal mol$^{-1}$)')\n",
      "\n",
      "# Autoscale, set limits, and remove bounding box.\n",
      "ax.autoscale()\n",
      "ax.set_xlim([i*scale_axes for i in ax.get_xlim()])\n",
      "ax.set_ylim([i*scale_axes for i in ax.get_ylim()])\n",
      "ax.set_axis_off()"
     ],
     "language": "python",
     "metadata": {},
     "outputs": []
    },
    {
     "cell_type": "markdown",
     "metadata": {},
     "source": [
      "## Alternative to plotting\n",
      "\n",
      "As an alternative to plotting, we could have also done a shortest-path\n",
      "calculation. This requires that we invert the interaction energies, so that\n",
      "larger energies give a \"shorter\" (i.e. smaller) path. In this case, we're\n",
      "finding the shortest distance between the donor `'LP ( 2) S17'` and the\n",
      "acceptor `'BD ( 2) N14- O29'`."
     ]
    },
    {
     "cell_type": "code",
     "collapsed": false,
     "input": [
      "# This computes some shortest paths based on energy distributions.\n",
      "R = G.copy()\n",
      "for u, v, k in R.edges(data=True):\n",
      "    k['weight'] = 1/k['weight']\n",
      "dists = nx.dijkstra_path(R, 'LP ( 2) S17', 'BD ( 2) N14- O29')\n",
      "print dists"
     ],
     "language": "python",
     "metadata": {},
     "outputs": []
    },
    {
     "cell_type": "markdown",
     "metadata": {},
     "source": [
      "## Putting it all together\n"
     ]
    },
    {
     "cell_type": "code",
     "collapsed": false,
     "input": [
      "import numpy as np\n",
      "import matplotlib.pyplot as plt\n",
      "import matplotlib.colors as plc\n",
      "import matplotlib.collections as mpc\n",
      "import networkx as nx\n",
      "import tables as pyt\n",
      "\n",
      "plt.rc('font', size=16.0)\n",
      "plt.rc('mathtext', default='regular')\n",
      "\n",
      "h5_file='static/gaussian.h5'\n",
      "expt_num = 'rcn0001_020'\n",
      "\n",
      "center = ['BD*( 2) C 6- C 7', 'BD ( 2) C 6- C 7',\n",
      "        'BD*( 2) C 8- C 9', 'BD ( 2) C 8- C 9',\n",
      "        'BD*( 2) C10- C11', 'BD ( 2) C10- C11',\n",
      "        ]\n",
      "\n",
      "N = 2 \n",
      "cutoff = 7. \n",
      "scale = 5.0\n",
      "scale_axes = 0.85 \n",
      "\n",
      "h5f = pyt.openFile(h5_file)\n",
      "\n",
      "nbo = h5f.root.nbo_e2\n",
      "\n",
      "nx_dict = {}\n",
      "for i in nbo.iterrows():\n",
      "    expt = i['expt']+'_'+i['enum']\n",
      "    donor = i['donor']\n",
      "    accept = i['accept']\n",
      "\n",
      "    if expt == expt_num:\n",
      "        if not donor in nx_dict:\n",
      "            nx_dict[donor] = {accept: {'weight':i['e2']} }\n",
      "        else:\n",
      "            nx_dict[donor][accept] = {'weight':i['e2']}\n",
      "\n",
      "h5f.close()\n",
      "\n",
      "G = nx.Graph(nx_dict)\n",
      "\n",
      "layers = [set(center)] \n",
      "nodes = set(center)\n",
      "\n",
      "for i in range(N):\n",
      "    temp = []\n",
      "    for j in layers[i]:\n",
      "        temp.extend(G[j].keys())\n",
      "    temp = set(temp).difference(nodes)\n",
      "    layers.append(temp)\n",
      "    nodes = nodes.union(temp)\n",
      "    \n",
      "pos = nx.shell_layout(G, layers, scale=scale)\n",
      "\n",
      "node_pos = [pos[i] for i in pos] \n",
      "node_pos = np.array(node_pos)\n",
      "\n",
      "edges = []\n",
      "e2 = []\n",
      "\n",
      "for i in G.edges(data=True):\n",
      "    if i[0] in nodes and i[1] in nodes:\n",
      "        edges.append(i)\n",
      "        e2.append(i[2]['weight'])\n",
      "e2 = np.array(e2)\n",
      "\n",
      "edge_pos = [(pos[i], pos[j]) for i, j, k in edges]\n",
      "edge_pos = np.array( edge_pos )\n",
      " \n",
      "e2_mask = e2 <= cutoff\n",
      "lmx = e2[e2_mask].max()\n",
      "\n",
      "e2_norm = e2[ e2_mask ]/lmx\n",
      "\n",
      "fig = plt.figure(figsize=(12.,10.), facecolor='w')\n",
      "ax = fig.add_axes([0.1,0.1,0.8,0.8])\n",
      "\n",
      "cmap = plt.cm.autumn_r\n",
      "colors = cmap(e2_norm)\n",
      "colors[:,3] = e2_norm\n",
      "\n",
      "base_lw = 5.\n",
      "lc2 = mpc.LineCollection(edge_pos[e2_mask == False], linewidths=base_lw,\n",
      "        colors='k')\n",
      "ax.add_collection(lc2)\n",
      "lc = mpc.LineCollection(edge_pos[e2_mask], linewidths=e2_norm*base_lw,\n",
      "        colors=colors)\n",
      "ax.add_collection(lc)\n",
      "\n",
      "ax.scatter(node_pos[:,0], node_pos[:,1], s=150, zorder=1000, facecolor='0.5')\n",
      "\n",
      "for p, coord in pos.items():\n",
      "    fontsize = 10\n",
      "    color = 'k'\n",
      "    if p == \"BD ( 1) C 4- H22\" or p == \"BD*( 1) C 4- H22\":\n",
      "        fontsize = 14\n",
      "        color = 'g'\n",
      "    elif p == \"LP ( 2) S17\" or p == \"BD*( 2) C 6- C 7\":\n",
      "        fontsize = 14\n",
      "        color = 'b'\n",
      "    ax.text(coord[0], coord[1], p, ha='center', fontsize=fontsize, zorder=1005,\n",
      "            clip_on=True, color=color)\n",
      "\n",
      "mappable = plt.cm.ScalarMappable(cmap=cmap)\n",
      "mappable.set_array(np.append(e2[e2_mask], 0))\n",
      "cbar = fig.colorbar(mappable)\n",
      "cbar.set_label('NBO SOP Energy (kcal mol$^{-1}$)')\n",
      "\n",
      "ax.autoscale()\n",
      "ax.set_xlim([i*scale_axes for i in ax.get_xlim()])\n",
      "ax.set_ylim([i*scale_axes for i in ax.get_ylim()])\n",
      "ax.set_axis_off()"
     ],
     "language": "python",
     "metadata": {},
     "outputs": []
    },
    {
     "cell_type": "code",
     "collapsed": false,
     "input": [],
     "language": "python",
     "metadata": {},
     "outputs": []
    }
   ],
   "metadata": {}
  }
 ]
}