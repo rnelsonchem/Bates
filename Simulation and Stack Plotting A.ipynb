{
 "metadata": {
  "name": "",
  "signature": "sha256:ff628090f0a19ce992f33e8630124f06561cfa1192589313d0657247a1143d1f"
 },
 "nbformat": 3,
 "nbformat_minor": 0,
 "worksheets": [
  {
   "cells": [
    {
     "cell_type": "code",
     "collapsed": false,
     "input": [
      "%matplotlib inline\n",
      "import nbprep\n",
      "nbprep.style()"
     ],
     "language": "python",
     "metadata": {},
     "outputs": []
    },
    {
     "cell_type": "code",
     "collapsed": false,
     "input": [
      "import numpy as np\n",
      "import matplotlib.pyplot as plt\n",
      "\n",
      "x = np.linspace(0, 2*3.14, 100000)\n",
      "\n",
      "y1 = np.sin(x)\n",
      "y2 = np.sin(2*x)\n",
      "\n",
      "plt.plot(x, y1)\n",
      "plt.plot(x + 0.5, y2 + 0.5)"
     ],
     "language": "python",
     "metadata": {},
     "outputs": []
    },
    {
     "cell_type": "code",
     "collapsed": false,
     "input": [],
     "language": "python",
     "metadata": {},
     "outputs": []
    }
   ],
   "metadata": {}
  }
 ]
}