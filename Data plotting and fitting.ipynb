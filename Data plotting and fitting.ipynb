{
 "metadata": {
  "name": "",
  "signature": "sha256:f52af0528b566846bda72b53e263490a0e2edadead83c0823dc78ab2a217eeb1"
 },
 "nbformat": 3,
 "nbformat_minor": 0,
 "worksheets": [
  {
   "cells": [
    {
     "cell_type": "code",
     "collapsed": false,
     "input": [
      "%matplotlib inline\n",
      "import nbprep\n",
      "nbprep.style()"
     ],
     "language": "python",
     "metadata": {},
     "outputs": []
    },
    {
     "cell_type": "markdown",
     "metadata": {},
     "source": [
      "# Simple Data Plotting and Fitting\n",
      "\n",
      "Let's try to reproduce the chemical kinetics data analysis that I presented in my talk. Remember, we had a spreadsheet that plotted concentration data versus time for my kinetics run and fit it to a model equation for that system. The plotted result looked like the following:\n",
      "\n",
      "<img src=\"static/Excel.png\" style=\"margin-left:auto; margin-right:auto; width:70%;\">\n",
      "\n",
      "In this notebook, we'll have two goals: (1) read and plot some kinetics data, and (2) fit the data to a kinetic model equation to get a [rate constant ($k$)](http://en.wikipedia.org/wiki/Reaction_rate_constant)."
     ]
    },
    {
     "cell_type": "markdown",
     "metadata": {},
     "source": [
      "## Setting things up\n",
      "\n",
      "Python's `import` statement is used to load extra code into a program, and the\n",
      "very first code cell at the top of this page uses this statement to load some\n",
      "code that I wrote specifically for these demos. The code resides in a file\n",
      "called \"nbprep.py\" and is in the same folder as this notebook. In this case,\n",
      "`nbprep.style()` is a Python *function* that does some display formatting to\n",
      "make things look \"pretty.\" I wanted to do this for every notebook, so rather\n",
      "than type the same code over and over again for every notebook, I put the code\n",
      "in a separate file that can be imported into the notebook. If I change the\n",
      "code in the \"nbprep.py\" file, it will be propagated to every notebook\n",
      "automatically when they are re-run. (Yay! Life is already much easier.) Lines\n",
      "preceded by `%` or `%%` are particular to IPython and will only work inside\n",
      "this environment. In this case, `%matplotlib inline` simply forces our plots\n",
      "to be displayed in the notebook web page rather than the default which is a\n",
      "separate interactive window. (These interactive windows are very cool but are\n",
      "impossible to demo in this SMC environment, unfortunately. More about\n",
      "Matplotlib below.)\n",
      "\n",
      "Next, we'll bring in a bunch of 3rd party code libraries to help us with our\n",
      "analysis. Typically, these need to be installed separately, but there are\n",
      "several options to make this much easier for the user. (For example,\n",
      "SageMathCloud comes with these libraries preinstalled, so we don't have to\n",
      "bother with installation now.) In this case, we will be using the following\n",
      "external libraries:\n",
      "\n",
      "* [Numpy](http://www.numpy.org/) -- Fast creation and manipulation of\n",
      "  multidimensional data arrays\n",
      "* [Matplotlib](http://matplotlib.org/) -- A powerful plotting library\n",
      "* [Scipy](http://scipy.org/) -- A large collection of numerical routines for a\n",
      "  variety of purposes. In this case, we are going to be working specifically\n",
      "with the\n",
      "[optimization](http://docs.scipy.org/doc/scipy/reference/tutorial/optimize.html)\n",
      "functions.\n",
      "\n",
      "The `as` notation simply applies a nickname reference to these libraries in\n",
      "our code. If we didn't do this, you would have to retype the full name every\n",
      "time you needed one of these functions. "
     ]
    },
    {
     "cell_type": "code",
     "collapsed": false,
     "input": [
      "import numpy as np\n",
      "import matplotlib.pyplot as plt\n",
      "import scipy.optimize as spo"
     ],
     "language": "python",
     "metadata": {},
     "outputs": []
    },
    {
     "cell_type": "markdown",
     "metadata": {},
     "source": [
      "# Part 1: Creating a simple plot from a data file\n",
      "\n",
      "First of all, let's read in some kinetics data to plot and analyze. For this\n",
      "example, I've stored the data in the comma-separated value (csv) file\n",
      "\"kin\\_data.csv\" in the folder called \"static\". (If you are on SageMathCloud,\n",
      "you can take a look at it through the file browser, which is accessed through\n",
      "the upper left \"Files\" button.) As you can see, opening any file (ASCII,\n",
      "unicode, or binary) is fairly easy with Python's built-in [open\n",
      "function](https://docs.python.org/2/library/functions.html#open). \n",
      "\n",
      "We'll also need a place to store the data as we extract it. That is easily\n",
      "done by creating two empty containers (*lists* in Python lingo) called `times`\n",
      "and `propene`. We could have done this same assignment with a single line as\n",
      "well -- `times, propene = [], []`."
     ]
    },
    {
     "cell_type": "code",
     "collapsed": false,
     "input": [
      "datafile = open('static/kin_data.csv')\n",
      "times = []\n",
      "propene = []"
     ],
     "language": "python",
     "metadata": {},
     "outputs": []
    },
    {
     "cell_type": "markdown",
     "metadata": {},
     "source": [
      "[A `for` loop](https://wiki.python.org/moin/ForLoop) is used to \"read\"\n",
      "the opened file (`datafile`). This type of loop automatically iterates\n",
      "over the file line-by-line, so it makes sense the we will call the iteration\n",
      "values `line` in our code. That naming convention is not necessary.  We could\n",
      "have called this variable anything we want. For example, we could have called\n",
      "each line `blah` with this substitution: `for blah in datafile:`.  However, it\n",
      "makes sense to use informative variable names to make our code easier to read\n",
      "in the future.\n",
      "\n",
      "Code that need to run inside our `for` loop must be indented in Python. The\n",
      "first thing we'll do in each cycle of our loop is check the very first\n",
      "character of our file line (`line[0]`). If it is equal to \"#\", then that line\n",
      "is a comment, so we will skip that line (`continue`). Otherwise, we'll split\n",
      "up the line into parts -- the separator being commas in this case\n",
      "(`line.split(',')`). The first part of the line (`sp[0]`) should be added to\n",
      "our `times` data container (`times.append` function); the second part of the\n",
      "line should be added to the `propene` data container. Once the `for` loop has\n",
      "completed all of its cycles, close the data file (`datafile.close()`). This\n",
      "line is not indented, which indicates that is must happen after the `for` loop\n",
      "completes all of its cycles. \n",
      "\n",
      "Notice that we did not specify how many lines of data are in the file. The\n",
      "loop just runs until the file contents run out. It could have one data point\n",
      "or a million -- it doesn't matter. This is an enormous advantage over a\n",
      "spreadsheet, where you need to explicitly account for all of the data rows.\n",
      "(Maybe not exactly true, I suppose, if you know some internal scripting\n",
      "language such as VisualBasic for MS products.)\n"
     ]
    },
    {
     "cell_type": "code",
     "collapsed": false,
     "input": [
      "for line in datafile:\n",
      "    if line[0] == '#': continue\n",
      "    sp = line.split(',')\n",
      "    times.append(sp[0])\n",
      "    propene.append(sp[1])\n",
      "\n",
      "datafile.close()"
     ],
     "language": "python",
     "metadata": {},
     "outputs": []
    },
    {
     "cell_type": "markdown",
     "metadata": {},
     "source": [
      "Finally, we'll also print the contents of the containers to see what they look\n",
      "like. This is not necessary, but good practice (initially) to make sure things\n",
      "look okay.\n"
     ]
    },
    {
     "cell_type": "code",
     "collapsed": false,
     "input": [
      "print times\n",
      "print propene"
     ],
     "language": "python",
     "metadata": {},
     "outputs": []
    },
    {
     "cell_type": "markdown",
     "metadata": {},
     "source": [
      "Carefully examine the printout of the data above. All of the numbers are in\n",
      "quotes. Right now Python thinks the values in the list are all text\n",
      "([*strings* in\n",
      "Py-speak](https://docs.python.org/2/library/stdtypes.html#typesseq)) and not\n",
      "numbers. This is a problem in a couple of ways. First of all, we need to find\n",
      "a way to tell Python to change all of those strings to numbers. But the second\n",
      "problem is that with Python lists, we'll need to go through each value\n",
      "individually to make that change, which can be slow in pure Python. \n",
      "\n",
      "Here Numpy comes to our rescue. We can use Numpy (remember `np` is the\n",
      "nickname) to convert our *lists of strings* into an *arrays of floating point\n",
      "(i.e. decimal) numbers*. [Numpy's `array`\n",
      "function](http://docs.scipy.org/doc/numpy/reference/generated/numpy.array.html)\n",
      "takes care of this conversion, and by passing in the *keyword argument*\n",
      "`dtype=float`, we are saying that all of the numbers are floating point. This\n",
      "conversion is very important for numerical code because entire Numpy arrays\n",
      "can be manipulated in the same way that we would manipulate a single number.\n",
      "For example, the `times` Numpy array contains the time values in *minutes*. If\n",
      "we wanted to convert the values into *seconds*, we could simply write\n",
      "something like the following:\n",
      "\n",
      "```python\n",
      "times = times*60.\n",
      "```\n",
      "\n",
      "For now, we'll leave things as-is, though."
     ]
    },
    {
     "cell_type": "code",
     "collapsed": false,
     "input": [
      "times = np.array(times, dtype=float)\n",
      "propene = np.array(propene, dtype=float)"
     ],
     "language": "python",
     "metadata": {},
     "outputs": []
    },
    {
     "cell_type": "markdown",
     "metadata": {},
     "source": [
      "*Okay, we've got our data... But what does it look like?*\n",
      "\n",
      "Here's where we can use Matplotlib to help us visualize our data. Matplotlib\n",
      "is a very powerful plotting package, but that flexibility can come at the cost\n",
      "of a bit of complexity. However, [Matplotlib's `pyplot`\n",
      "module](http://matplotlib.org/api/pyplot_summary.html) contains a large number\n",
      "of common commands that make generating simple plots quite a bit easier.\n",
      "Again remember that we gave the `matplotlib.pyplot` module the nickname `plt`\n",
      "so that we wouldn't have to type out the full name every time.\n",
      "\n",
      "In the code below, we'll first create a plot of our times versus the propene\n",
      "concentration using circular markers for each data point (`'o'`). We can\n",
      "easily add axis labels as well, so that people know what is being displayed.\n"
     ]
    },
    {
     "cell_type": "code",
     "collapsed": false,
     "input": [
      "plt.plot(times, propene, 'o')\n",
      "plt.xlabel('Time (min)')\n",
      "plt.ylabel('Pressure (torr)')"
     ],
     "language": "python",
     "metadata": {},
     "outputs": []
    },
    {
     "cell_type": "markdown",
     "metadata": {},
     "source": [
      "## Quiz\n",
      "\n",
      "### Question 1\n",
      "\n",
      "You collect a new kinetics data set for the same reaction but under different\n",
      "conditions. This data set is stored in a file that is formatted in the same\n",
      "way as the one used in this example. How would you change this code to be able\n",
      "to visualize this new data set?\n",
      "\n",
      "### Answer\n",
      "\n",
      "The only part of our program above that is unique to the original data is the\n",
      "name of the file that we opened. See the `datafile` assignment above. There is\n",
      "another data file \"kin\\_data2.csv\" in the folder called *static*. To plot this\n",
      "new data file rather, change the following line above:\n",
      "\n",
      "```python\n",
      "datafile = open('static/kin_data.csv')\n",
      "```\n",
      "\n",
      "to this:\n",
      "\n",
      "```python\n",
      "datafile = open('static/kin_data2.csv')\n",
      "```\n",
      "\n",
      "Re-run that cell and all subsequent cells (up to this point). Does the plot look different? \n",
      "\n",
      "Be sure the change the data file back to \"kin_data.csv\" for the remaining code examples in this notebook to work properly."
     ]
    },
    {
     "cell_type": "markdown",
     "metadata": {},
     "source": [
      "## Part 2. Fit the data to a model\n",
      "\n",
      "In this experiment propene, $C_3 H_6$, is being used up in a *equilibrium*\n",
      "process, which follows this chemical equation.\n",
      "\n",
      "$$ C_3 H_6 \\rightleftharpoons Prod$$\n",
      "\n",
      "With this equation, the change of propene concentration with time (rate) is\n",
      "given by differential equation (2).\n",
      "\n",
      "$$\\frac{d([C_3 H_6])}{dt} = k_{r}*[Prod] - k_{f}*[C_3 H_6]$$\n",
      "\n",
      "Where $[C_3 H_6]$ and $[Prod]$ are the concentrations of propene and product,\n",
      "respectively, and $k_{r}$ and $k_{f}$ are the reverse and forward rate\n",
      "constants, respectively. To find an analytical solution to this equation, we\n",
      "need to keep two other factors in mind. First, the equilibrium constant, $K$,\n",
      "is equal to both the ratio of the forward and reverse rate constants and the\n",
      "equilibrium concentrations of products and propene. \n",
      "\n",
      "$$K = \\frac{[Prod]_e}{[C_3 H_6]_e} = \\frac{k_{f}}{k_{r}}$$\n",
      "\n",
      "Second, the initial concentration of propene, $[C_3 H_6]_0$, is equal to the\n",
      "concentrations of products and propene at any time, including equilibrium.\n",
      "\n",
      "$$[C_3 H_6]_0 = [C_3 H_6]_e + [Prod]_e$$\n",
      "\n",
      "Solving this system is straightforward, but too time consuming to show here.\n",
      "Wikipedia has a [good description of this\n",
      "procedure](http://en.wikipedia.org/wiki/Rate_equation#Equilibrium_reactions_or_opposed_reactions).\n",
      "The end result, however, is a convenient equation for determining the\n",
      "concentration of propene at any time during the reaction.\n",
      "\n",
      "$$\\begin{split} [C_3 H_6] & = ([C_3 H_6]_0 - [C_3 H_6]_e)*\\exp(-(k_r + k_f)t) + [C_3 H_6]_e \\\\\n",
      "& = ([C_3 H_6]_0 - [C_3 H_6]_e)*\\exp(-k_{obs}t) + [C_3 H_6]_e \\end{split}$$\n",
      "\n",
      "The rate constants can not be known separately, so we combine them into one observed rate constant $k_{obs}$. We implement a function like this in Python by defining our own function `first_order`, which takes four values corresponding to our variables above."
     ]
    },
    {
     "cell_type": "code",
     "collapsed": false,
     "input": [
      "def first_order(times, conc_eq, conc_0, k):\n",
      "    return (conc_0 - conc_eq)*np.exp(-k*times) + conc_eq"
     ],
     "language": "python",
     "metadata": {},
     "outputs": []
    },
    {
     "cell_type": "markdown",
     "metadata": {},
     "source": [
      "You can use this equation to calculate the concentration of propene at each individual time point. For example, we can try to determine the concentration of propene at 10 min (`tsim`) given an initial concentration of propene (`c0`) of 400, an equilibrium concentration of propene (`ceq`) of 200, and a rate constant (`k`) of 0.2."
     ]
    },
    {
     "cell_type": "code",
     "collapsed": false,
     "input": [
      "tsim = 10.\n",
      "c0 = 400.\n",
      "ceq = 200. \n",
      "k = 0.2\n",
      "first_order(tsim, c0, ceq, k)"
     ],
     "language": "python",
     "metadata": {},
     "outputs": []
    },
    {
     "cell_type": "markdown",
     "metadata": {},
     "source": [
      "Calculating each value for every time point individually will quickly get\n",
      "tedious to code. However, remember that Numpy lets us use an entire array of\n",
      "numbers just like it was a single value. In this case, we could pass in an\n",
      "array of all the times to get an answer for every time simultaneously. In this\n",
      "case, we'll use [Numpy's linspace\n",
      "function](http://docs.scipy.org/doc/numpy/reference/generated/numpy.linspace.html)\n",
      "to generate a uniformly spaced array of numbers. The first value\n",
      "in the linspace function is the starting point, the second value the end\n",
      "point, and the third value the total number of points in the array. We can\n",
      "print it out at the end to see the result. (Notice the ellipsis is telling us\n",
      "that there are too many numbers to conveniently display.)"
     ]
    },
    {
     "cell_type": "code",
     "collapsed": false,
     "input": [
      "tsim = np.linspace(0, 30, 10000)\n",
      "c0 = 400.\n",
      "ceq = 200. \n",
      "k = 0.2\n",
      "Psim = first_order(tsim, ceq, c0, k)\n",
      "\n",
      "print Psim"
     ],
     "language": "python",
     "metadata": {},
     "outputs": []
    },
    {
     "cell_type": "markdown",
     "metadata": {},
     "source": [
      "For the heck of it, let's plot this simulation."
     ]
    },
    {
     "cell_type": "code",
     "collapsed": false,
     "input": [
      "plt.plot(tsim, Psim)"
     ],
     "language": "python",
     "metadata": {},
     "outputs": []
    },
    {
     "cell_type": "markdown",
     "metadata": {},
     "source": [
      "Okay. But we were really interested in finding the equilibrium constant that\n",
      "gives a simulated spectrum that best fits the data that we collected in the\n",
      "lab. We could try lots of concentration and rate constant values until our\n",
      "simulation matches the real data. By hand, this would be awful.  Fortunately,\n",
      "computers can do this type of optimization very quickly. In this case,\n",
      "[Scipy's `curve_fit`\n",
      "function](http://docs.scipy.org/doc/scipy-0.14.0/reference/generated/scipy.optimize.curve_fit.html)\n",
      "does exactly what we want. To use this function, we need to give it a model\n",
      "function (`first_order` in this case) and our experimental data (`times` and\n",
      "`propene`). `curve_fit` will try to make an initial guess of the other\n",
      "parameters of our function, but it makes a pretty stupid guess, which could\n",
      "get you to a [local minimum](http://en.wikipedia.org/wiki/Maxima_and_minima).\n",
      "It is always a good idea to give this type of routine a reasonable guess for\n",
      "the other parameters, so you can be sure that you're finding the *global\n",
      "minimum*. The fitting function returns the best fit values and a [covariance\n",
      "matrix](http://en.wikipedia.org/wiki/Covariance_matrix) (which we can ignore for now)."
     ]
    },
    {
     "cell_type": "code",
     "collapsed": false,
     "input": [
      "guess = (ceq, c0, k)\n",
      "\n",
      "fit, cov = spo.curve_fit(first_order, times, propene, p0=guess)\n",
      "\n",
      "print \"Conc. Eq = {:.3f}; Init. Conc. = {:.3f}; k = {:.3f}\".format(*fit)"
     ],
     "language": "python",
     "metadata": {},
     "outputs": []
    },
    {
     "cell_type": "markdown",
     "metadata": {},
     "source": [
      "Great! We got some numbers back. But do they make sense? It's always a good\n",
      "idea to plot a simulation using the fit parameters (`first_order(tsim, *fit)`)\n",
      "versus the real data to see how they match up."
     ]
    },
    {
     "cell_type": "code",
     "collapsed": false,
     "input": [
      "plt.plot(tsim, first_order(tsim, *fit), 'k')\n",
      "plt.plot(times, propene, 'o')"
     ],
     "language": "python",
     "metadata": {},
     "outputs": []
    },
    {
     "cell_type": "markdown",
     "metadata": {},
     "source": [
      "## Bringing it all together\n",
      "\n",
      "That seems like a pretty long journey to get just a few numbers. However, for\n",
      "future experiments, we can simply go back though this notebook and cut/paste\n",
      "the necessary code to be able to run this from start to finish. Put this code\n",
      "below into a text file, and you will be able to run it anytime without using\n",
      "this notebook."
     ]
    },
    {
     "cell_type": "code",
     "collapsed": false,
     "input": [
      "import numpy as np\n",
      "import matplotlib.pyplot as plt\n",
      "import scipy.optimize as spo\n",
      "\n",
      "datafile = open('static/kin_data.csv')\n",
      "times = []\n",
      "propene = []\n",
      "\n",
      "for line in datafile:\n",
      "    if line[0] == '#': continue\n",
      "    sp = line.split(',')\n",
      "    times.append(sp[0])\n",
      "    propene.append(sp[1])\n",
      "\n",
      "datafile.close()\n",
      "\n",
      "times = np.array(times, dtype=float)\n",
      "propene = np.array(propene, dtype=float)\n",
      "\n",
      "def first_order(times, conc_eq, conc_0, k):\n",
      "    return (conc_0 - conc_eq)*np.exp(-k*times) + conc_eq\n",
      "\n",
      "tsim = np.linspace(0, 30, 10000)\n",
      "c0 = 400.\n",
      "ceq = 200. \n",
      "k = 0.2\n",
      "\n",
      "guess = (ceq, c0, k)\n",
      "fit, cov = spo.curve_fit(first_order, times, propene, p0=guess)\n",
      "print \"Conc. Eq = {:.3f}; Init. Conc. = {:.3f}; k = {:.3f}\".format(*fit)\n",
      "\n",
      "plt.plot(tsim, first_order(tsim, *fit), 'k')\n",
      "plt.plot(times, propene, 'o')\n",
      "plt.show() # Necessary to run this from a separate script file."
     ],
     "language": "python",
     "metadata": {},
     "outputs": []
    },
    {
     "cell_type": "code",
     "collapsed": false,
     "input": [],
     "language": "python",
     "metadata": {},
     "outputs": []
    }
   ],
   "metadata": {}
  }
 ]
}