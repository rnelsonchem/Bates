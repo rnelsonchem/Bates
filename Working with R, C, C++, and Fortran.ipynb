{
 "metadata": {
  "name": "",
  "signature": "sha256:9c7edebd077551ec74d7c62da552d127a74b095835a6cd1ab1250aa215e2983f"
 },
 "nbformat": 3,
 "nbformat_minor": 0,
 "worksheets": [
  {
   "cells": [
    {
     "cell_type": "code",
     "collapsed": false,
     "input": [
      "import nbprep\n",
      "nbprep.style()"
     ],
     "language": "python",
     "metadata": {},
     "outputs": []
    },
    {
     "cell_type": "markdown",
     "metadata": {},
     "source": [
      "# Introduction\n",
      "\n",
      "There are a number of methods to run/access code that in other programming languages from Python. In addition, Python code can be converted to more efficient compiled languages quite easily.\n",
      "\n",
      "This notebook demonstrates some of these capabilities. These examples are not from my research, so I won't mark them up as much. More information can be found in the provided links and/or the online docs. Or send me an email.\n",
      "\n",
      "Information about some newer Python plotting capabilities that are similar to R can be found [here](http://nbviewer.ipython.org/gist/msund/11349097)."
     ]
    },
    {
     "cell_type": "markdown",
     "metadata": {},
     "source": [
      "## Communicating with R\n",
      "\n",
      "The [rpy2 Python module](http://rpy.sourceforge.net/) can be used to communication between code in Python and in R. This module also provides a IPython extension (`rpy2.ipython`) that makes this process very easy. Below is an example of creating an R plot that [I got from the internet](http://www.sr.bham.ac.uk/~ajrs/R/r-gallery.html). Extra examples of the IPython extension in action can be found [here](http://nbviewer.ipython.org/github/ipython/ipython/blob/3607712653c66d63e0d7f13f073bde8c0f209ba8/docs/examples/notebooks/rmagic_extension.ipynb); note, however, that previous versions of the IPython extension were simply called `rmagic`, which has since been deprecated in favor of `rpy2.ipython`.\n",
      "\n",
      "First, let's load the rpy2 IPython extension."
     ]
    },
    {
     "cell_type": "code",
     "collapsed": false,
     "input": [
      "%load_ext rpy2.ipython"
     ],
     "language": "python",
     "metadata": {},
     "outputs": []
    },
    {
     "cell_type": "markdown",
     "metadata": {},
     "source": [
      "Now that we've loaded the extension, `%%R` becomes a special command to\n",
      "IPython. This command tell IPython that everything in this code block is\n",
      "written R and should be executed using the R interpreter. We can add some\n",
      "[extra flags](http://stackoverflow.com/questions/17414349/plot-size-using-ggplot2-in-ipython-notebook-via-rmagic) to this command, such as setting the width (`-w 800`) and height\n",
      "(`-h 400`) in pixel units (`-u px`) for any figures that are generated. "
     ]
    },
    {
     "cell_type": "code",
     "collapsed": false,
     "input": [
      "%%R -w 800 -h 480 -u px\n",
      "#--Define data file directory:\n",
      "dir <- \"./static/\"\n",
      "\n",
      "#--Read in table of data (from Sanderson et al. 2006):\n",
      "# This refers to a sample of 20 clusters of galaxies with Chandra X-ray data\n",
      "CC <- read.table(paste(dir, \"mean_Tprofile-CC.txt\", sep=\"/\"), header=TRUE)\n",
      "nCC <- read.table(paste(dir, \"mean_Tprofile-nCC.txt\", sep=\"/\"), header=TRUE)\n",
      "\n",
      "#--Load extra library:\n",
      "## if not already installed, then run:\n",
      "# install.packages(\"ggplot2\")\n",
      "require(ggplot2)\n",
      "\n",
      "#--Combine datasets into a single data frame:\n",
      "CC$type <- \"Cool core\"\n",
      "nCC$type <- \"Non-cool core\"\n",
      "A <- rbind(CC, nCC)\n",
      "\n",
      "#--Define axis labels:\n",
      "xlabel <- as.expression(expression( paste(\"Radius (\", R[500], \")\") ))\n",
      "ylabel <- \"Scaled Temperature\"\n",
      "\n",
      "p <- ggplot(data=A, aes(x=r.r500, y=sckT, ymin=sckT.lo, ymax=sckT.up, fill=type, linetype=type)) + \n",
      " geom_line() + \n",
      " geom_ribbon(alpha=0.5) + \n",
      " scale_x_log10() + \n",
      " scale_y_log10() + \n",
      " xlab(xlabel) + \n",
      " ylab(ylabel)\n",
      "\n",
      "#ggsave(p, file=\"CC-vs_nCC_kT_prof.pdf\", width=8, height=4.5)\n",
      "plot(p)"
     ],
     "language": "python",
     "metadata": {},
     "outputs": []
    },
    {
     "cell_type": "markdown",
     "metadata": {},
     "source": [
      "Now, we could create a notebook with R examples and Markdown explanatory text like we've seen with my other notebook examples. However, *it gets better!* \n",
      "\n",
      "We can also extract data from the R script and convert it into Python code. We can then manipulate the data using Python functions and libraries. We could go the opposite direction as well. `z = %Rget A` extracts the data from the R variable A and assigns it to our Python variable `z`. "
     ]
    },
    {
     "cell_type": "code",
     "collapsed": false,
     "input": [
      "z = %Rget A\n",
      "print z.__class__ # This is now a Pandas DataFrame (Python module)\n",
      "z.ix[:10] # Print the first 10 rows of the data set."
     ],
     "language": "python",
     "metadata": {},
     "outputs": []
    },
    {
     "cell_type": "markdown",
     "metadata": {},
     "source": [
      "## Working with C/C++\n",
      "\n",
      "A large amount modern, high-performance code is typically written in C/C++. In fact, there are many well-established data analysis libraries written in these languages. However, as compiled languages, they can be rather difficult to learn and implement correctly. \n",
      "\n",
      "*Do you have to rewrite all of this code to use it in Python?* No. Much of Python is written in C, so it provide some builtin methods for working with compiled C code directly. However, there is a better alternative.\n",
      "\n",
      "[Cython](http://cython.org/) is a relatively new Python module that helps you to *wrap* C and C++ code. *Wrapping* is the process by which you can make external code directly available in Python, just like it was a pure Python module. The advantage of this approach is that you can use Numpy data arrays directly with C/C++ functions. In addition, Cython can also be used to convert and compile Python code directly into C modules! This is very important if you are trying to optimize some very slow code. Below is an example of a function integration [from the Cython docs](http://docs.cython.org/src/quickstart/cythonize.html). More information/explanation on this process can be found there.\n",
      "\n",
      "From IPython, we can import a Cython extension, that make this process a bit easier in the Notebook."
     ]
    },
    {
     "cell_type": "code",
     "collapsed": false,
     "input": [
      "%load_ext cythonmagic"
     ],
     "language": "python",
     "metadata": {},
     "outputs": []
    },
    {
     "cell_type": "markdown",
     "metadata": {},
     "source": [
      "This is a value for the number of points in our integration. We'll set this to a large value so that we can really see the speedup in this process.  "
     ]
    },
    {
     "cell_type": "code",
     "collapsed": false,
     "input": [
      "N = 10000000"
     ],
     "language": "python",
     "metadata": {},
     "outputs": []
    },
    {
     "cell_type": "markdown",
     "metadata": {},
     "source": [
      "Here we're defining a simple mathematical function (`f`) and an integration routine (`integrate_f`) in pure Python."
     ]
    },
    {
     "cell_type": "code",
     "collapsed": false,
     "input": [
      "def f(x):\n",
      "    return x**2-x\n",
      "\n",
      "def integrate_f(a, b, N):\n",
      "    s = 0\n",
      "    dx = (b-a)/N\n",
      "    for i in range(N):\n",
      "        s += f(a+i*dx)\n",
      "    return s * dx"
     ],
     "language": "python",
     "metadata": {},
     "outputs": []
    },
    {
     "cell_type": "markdown",
     "metadata": {},
     "source": [
      "We'll use IPythons `timeit` magic command to see how long it take to run this code. This will take at least several seconds."
     ]
    },
    {
     "cell_type": "code",
     "collapsed": false,
     "input": [
      "%timeit integrate_f(0., 10., N)"
     ],
     "language": "python",
     "metadata": {},
     "outputs": []
    },
    {
     "cell_type": "markdown",
     "metadata": {},
     "source": [
      "Now, we'll use the `%%cython` magic function. This tells the IPython interpreter that all of the remaining code in this block should be transfered to Cython. This process has a couple steps. Conversion of the Python code to C (fast) and then compiling the C code. Compiling this C code can be slow the first time, but IPython is smart enough to save the compiled code for later reuse if necessary. "
     ]
    },
    {
     "cell_type": "code",
     "collapsed": false,
     "input": [
      "%%cython \n",
      "\n",
      "def f(x):\n",
      "    return x**2-x\n",
      "\n",
      "def integrate_f(a, b, N):\n",
      "    s = 0\n",
      "    dx = (b-a)/N\n",
      "    for i in range(N):\n",
      "        s += f(a+i*dx)\n",
      "    return s * dx"
     ],
     "language": "python",
     "metadata": {},
     "outputs": []
    },
    {
     "cell_type": "markdown",
     "metadata": {},
     "source": [
      "Running this new \"Cythonized\" function does give us a speed up, but not much."
     ]
    },
    {
     "cell_type": "code",
     "collapsed": false,
     "input": [
      "%timeit integrate_f(0., 10., N)"
     ],
     "language": "python",
     "metadata": {},
     "outputs": []
    },
    {
     "cell_type": "markdown",
     "metadata": {},
     "source": [
      "We can get an even more optimized function if we tell the functions what type of values to expect. This is starting to look a little bit like C code now."
     ]
    },
    {
     "cell_type": "code",
     "collapsed": false,
     "input": [
      "%%cython \n",
      "\n",
      "def f(double x):\n",
      "    return x**2-x\n",
      "\n",
      "def integrate_f(double a, double b, int N):\n",
      "    cdef int i\n",
      "    cdef double s, dx\n",
      "    s = 0\n",
      "    dx = (b-a)/N\n",
      "    for i in range(N):\n",
      "        s += f(a+i*dx)\n",
      "    return s * dx"
     ],
     "language": "python",
     "metadata": {},
     "outputs": []
    },
    {
     "cell_type": "markdown",
     "metadata": {},
     "source": [
      "Here we see a dramatic increase in execution speed."
     ]
    },
    {
     "cell_type": "code",
     "collapsed": false,
     "input": [
      "%timeit integrate_f(0., 10., N)"
     ],
     "language": "python",
     "metadata": {},
     "outputs": []
    },
    {
     "cell_type": "markdown",
     "metadata": {},
     "source": [
      "In this last bit of optimization, we are converting our `f` function to pure C (rather than Python-C). This means that we won't be able to call this function from Python, but it is much more efficient."
     ]
    },
    {
     "cell_type": "code",
     "collapsed": false,
     "input": [
      "%%cython \n",
      "\n",
      "cdef double f(double x) except? -2:\n",
      "    return x**2-x\n",
      "\n",
      "def integrate_f(double a, double b, int N):\n",
      "    cdef int i\n",
      "    cdef double s, dx\n",
      "    s = 0\n",
      "    dx = (b-a)/N\n",
      "    for i in range(N):\n",
      "        s += f(a+i*dx)\n",
      "    return s * dx"
     ],
     "language": "python",
     "metadata": {},
     "outputs": []
    },
    {
     "cell_type": "code",
     "collapsed": false,
     "input": [
      "%timeit integrate_f(0., 10., N)"
     ],
     "language": "python",
     "metadata": {},
     "outputs": []
    },
    {
     "cell_type": "markdown",
     "metadata": {},
     "source": [
      "Overall, with some simple code decoration and compilation with Cython, we were able to get ~100 fold increase in execution speed. This only touches of the surface of what Cython can do. See the docs for more information."
     ]
    },
    {
     "cell_type": "markdown",
     "metadata": {},
     "source": [
      "## Accessing Fortran Code\n",
      "\n",
      "Fortran is another compiled language that was developed specifically for scientific computing. Although was first developed over a half a century ago, routines written in Fortran still have the distinction of being some of the fastest available. In fact, many linear algebra libraries, such as [BLAS](http://en.wikipedia.org/wiki/Basic_Linear_Algebra_Subprograms) and [LAPACK](http://en.wikipedia.org/wiki/LAPACK), are written in this language, and these libraries remain the basis of many open-source and commercial applied mathematical applications.\n",
      "\n",
      "To take advantage of all of this legacy Fortran code, [the `f2py` program](http://docs.scipy.org/doc/numpy-dev/f2py/) was written to wrap Fortran code to make it callable in Python. This program is currently distributed with Numpy. The example below is a simple calculation of a Fibonacci sequence in both Python and Fortran. F2Py is used to wrap the Fortran code so that we can execute it from Python. I do not know Fortran, so this example relied heavily information from the following links [1](http://nbviewer.ipython.org/github/jrjohansson/scientific-python-lectures/blob/master/Lecture-6A-Fortran-and-C.ipynb), [2](https://github.com/thehackerwithin/PyTrieste/wiki/F2Py), [3](http://scientificcomputingco.blogspot.com.au/2013/02/f2py-on-64bit-windows-python27.html), and [4](http://www.sagemath.org/doc/numerical_sage/f2py.html).\n",
      "\n",
      "Below is a simple Python implementation of a Fibonacci calculator."
     ]
    },
    {
     "cell_type": "code",
     "collapsed": false,
     "input": [
      "def pyfib(n):\n",
      "    a = []\n",
      "    for i in range(n):\n",
      "        if i == 0:\n",
      "            a.append(0)\n",
      "        elif i == 1:\n",
      "            a.append(1)\n",
      "        else:\n",
      "            a.append(a[i-1] + a[i-2])\n",
      "    return a"
     ],
     "language": "python",
     "metadata": {},
     "outputs": []
    },
    {
     "cell_type": "code",
     "collapsed": false,
     "input": [
      "pyfib(10)"
     ],
     "language": "python",
     "metadata": {},
     "outputs": []
    },
    {
     "cell_type": "code",
     "collapsed": false,
     "input": [
      "%timeit pyfib(100)"
     ],
     "language": "python",
     "metadata": {},
     "outputs": []
    },
    {
     "cell_type": "markdown",
     "metadata": {},
     "source": [
      "Here is the same routine written in Fortran. Notice the comment lines `Cf2py`, which are flags to the f2py compiler, but are ignored by a conventional Fortran compiler. The `%%file fib.f` line is specific to IPython. It is simply saying that all the lines after the first are going to be written to an external file called \"fib.f\"."
     ]
    },
    {
     "cell_type": "code",
     "collapsed": false,
     "input": [
      "%%file ffib.f\n",
      "C FILE: FFIB.F\n",
      "      SUBROUTINE FIB(A,N)\n",
      "C\n",
      "C     CALCULATE FIRST N FIBONACCI NUMBERS\n",
      "C\n",
      "      INTEGER N\n",
      "      REAL*8 A(N)\n",
      "Cf2py intent(in) n\n",
      "Cf2py intent(out) a\n",
      "Cf2py depend(n) a\n",
      "      DO I=1,N\n",
      "         IF (I.EQ.1) THEN\n",
      "            A(I) = 0.0D0\n",
      "         ELSEIF (I.EQ.2) THEN\n",
      "            A(I) = 1.0D0\n",
      "         ELSE \n",
      "            A(I) = A(I-1) + A(I-2)\n",
      "         ENDIF\n",
      "      ENDDO\n",
      "      END\n",
      "C END FILE FFIB.F"
     ],
     "language": "python",
     "metadata": {},
     "outputs": []
    },
    {
     "cell_type": "markdown",
     "metadata": {},
     "source": [
      "Here we are calling the f2py compiler. This is typically invoked from the command line, but we can tell IPython to do that for us by prefixing the command with an exclamation point (`!`). The compilation process might take a few moments. Be patient. (I had a little trouble with this command from IPython on my Windows machine. If you have problems with this command, you can open a terminal/command prompt window in the Notebook directory and run this command directly, without the !, and it will work.)"
     ]
    },
    {
     "cell_type": "code",
     "collapsed": false,
     "input": [
      "!f2py -c -m ffib ffib.f"
     ],
     "language": "python",
     "metadata": {},
     "outputs": []
    },
    {
     "cell_type": "markdown",
     "metadata": {},
     "source": [
      "F2Py created a new module called `ffib`, which contains our Fortran routine. We can load and execute this in the same way as any other Python modules/functions."
     ]
    },
    {
     "cell_type": "code",
     "collapsed": false,
     "input": [
      "import ffib\n",
      "ffib.fib(10)"
     ],
     "language": "python",
     "metadata": {},
     "outputs": []
    },
    {
     "cell_type": "markdown",
     "metadata": {},
     "source": [
      "However, this Fortran routine is *much* faster than the pure Python version!"
     ]
    },
    {
     "cell_type": "code",
     "collapsed": false,
     "input": [
      "%timeit ffib.fib(100)"
     ],
     "language": "python",
     "metadata": {},
     "outputs": []
    },
    {
     "cell_type": "code",
     "collapsed": false,
     "input": [],
     "language": "python",
     "metadata": {},
     "outputs": []
    }
   ],
   "metadata": {}
  }
 ]
}