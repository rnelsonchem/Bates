{
 "metadata": {
  "name": "",
  "signature": "sha256:4da51460996bd1ef0adc4a468006b4c7e0781909610b98e38f34c6f899463182"
 },
 "nbformat": 3,
 "nbformat_minor": 0,
 "worksheets": [
  {
   "cells": [
    {
     "cell_type": "code",
     "collapsed": false,
     "input": [
      "import nbprep\n",
      "nbprep.style()"
     ],
     "language": "python",
     "metadata": {},
     "outputs": []
    },
    {
     "cell_type": "markdown",
     "metadata": {},
     "source": [
      "Take from:\n",
      "\n",
      "http://www.sr.bham.ac.uk/~ajrs/R/r-gallery.html\n",
      "\n",
      "http://stackoverflow.com/questions/17414349/plot-size-using-ggplot2-in-ipython-notebook-via-rmagic\n",
      "\n",
      "See:\n",
      "\n",
      "http://nbviewer.ipython.org/github/ipython/ipython/blob/3607712653c66d63e0d7f13f073bde8c0f209ba8/docs/examples/notebooks/rmagic_extension.ipynb\n",
      "\n",
      "http://nbviewer.ipython.org/gist/msund/11349097"
     ]
    },
    {
     "cell_type": "code",
     "collapsed": false,
     "input": [
      "%load_ext rpy2.ipython"
     ],
     "language": "python",
     "metadata": {},
     "outputs": []
    },
    {
     "cell_type": "code",
     "collapsed": false,
     "input": [
      "%%R -w 800 -h 480 -u px\n",
      "#--Define data file directory:\n",
      "dir <- \"./static/\"\n",
      "\n",
      "#--Read in table of data (from Sanderson et al. 2006):\n",
      "# This refers to a sample of 20 clusters of galaxies with Chandra X-ray data\n",
      "CC <- read.table(paste(dir, \"mean_Tprofile-CC.txt\", sep=\"/\"), header=TRUE)\n",
      "nCC <- read.table(paste(dir, \"mean_Tprofile-nCC.txt\", sep=\"/\"), header=TRUE)\n",
      "\n",
      "#--Load extra library:\n",
      "## if not already installed, then run:\n",
      "# install.packages(\"ggplot2\")\n",
      "require(ggplot2)\n",
      "\n",
      "#--Combine datasets into a single data frame:\n",
      "CC$type <- \"Cool core\"\n",
      "nCC$type <- \"Non-cool core\"\n",
      "A <- rbind(CC, nCC)\n",
      "\n",
      "#--Define axis labels:\n",
      "xlabel <- as.expression(expression( paste(\"Radius (\", R[500], \")\") ))\n",
      "ylabel <- \"Scaled Temperature\"\n",
      "\n",
      "p <- ggplot(data=A, aes(x=r.r500, y=sckT, ymin=sckT.lo, ymax=sckT.up, fill=type, linetype=type)) + \n",
      " geom_line() + \n",
      " geom_ribbon(alpha=0.5) + \n",
      " scale_x_log10() + \n",
      " scale_y_log10() + \n",
      " xlab(xlabel) + \n",
      " ylab(ylabel)\n",
      "\n",
      "#ggsave(p, file=\"CC-vs_nCC_kT_prof.pdf\", width=8, height=4.5)\n",
      "plot(p)"
     ],
     "language": "python",
     "metadata": {},
     "outputs": []
    },
    {
     "cell_type": "code",
     "collapsed": false,
     "input": [
      "z = %Rget A\n",
      "print z.__class__"
     ],
     "language": "python",
     "metadata": {},
     "outputs": []
    },
    {
     "cell_type": "code",
     "collapsed": false,
     "input": [
      "z.ix[:10]"
     ],
     "language": "python",
     "metadata": {},
     "outputs": []
    },
    {
     "cell_type": "markdown",
     "metadata": {},
     "source": [
      "http://docs.cython.org/src/quickstart/cythonize.html"
     ]
    },
    {
     "cell_type": "code",
     "collapsed": false,
     "input": [
      "%load_ext cythonmagic"
     ],
     "language": "python",
     "metadata": {},
     "outputs": []
    },
    {
     "cell_type": "code",
     "collapsed": false,
     "input": [
      "N = 10000000"
     ],
     "language": "python",
     "metadata": {},
     "outputs": []
    },
    {
     "cell_type": "code",
     "collapsed": false,
     "input": [
      "def f(x):\n",
      "    return x**2-x\n",
      "\n",
      "def integrate_f(a, b, N):\n",
      "    s = 0\n",
      "    dx = (b-a)/N\n",
      "    for i in range(N):\n",
      "        s += f(a+i*dx)\n",
      "    return s * dx"
     ],
     "language": "python",
     "metadata": {},
     "outputs": []
    },
    {
     "cell_type": "code",
     "collapsed": false,
     "input": [
      "%timeit integrate_f(0., 10., N)"
     ],
     "language": "python",
     "metadata": {},
     "outputs": []
    },
    {
     "cell_type": "code",
     "collapsed": false,
     "input": [
      "%%cython \n",
      "\n",
      "def f(x):\n",
      "    return x**2-x\n",
      "\n",
      "def integrate_f(a, b, N):\n",
      "    s = 0\n",
      "    dx = (b-a)/N\n",
      "    for i in range(N):\n",
      "        s += f(a+i*dx)\n",
      "    return s * dx"
     ],
     "language": "python",
     "metadata": {},
     "outputs": []
    },
    {
     "cell_type": "code",
     "collapsed": false,
     "input": [
      "%timeit integrate_f(0., 10., N)"
     ],
     "language": "python",
     "metadata": {},
     "outputs": []
    },
    {
     "cell_type": "code",
     "collapsed": false,
     "input": [
      "%%cython \n",
      "\n",
      "def f(double x):\n",
      "    return x**2-x\n",
      "\n",
      "def integrate_f(double a, double b, int N):\n",
      "    cdef int i\n",
      "    cdef double s, dx\n",
      "    s = 0\n",
      "    dx = (b-a)/N\n",
      "    for i in range(N):\n",
      "        s += f(a+i*dx)\n",
      "    return s * dx"
     ],
     "language": "python",
     "metadata": {},
     "outputs": []
    },
    {
     "cell_type": "code",
     "collapsed": false,
     "input": [
      "%timeit integrate_f(0., 10., N)"
     ],
     "language": "python",
     "metadata": {},
     "outputs": []
    },
    {
     "cell_type": "code",
     "collapsed": false,
     "input": [
      "%%cython \n",
      "\n",
      "cdef double f(double x) except? -2:\n",
      "    return x**2-x\n",
      "\n",
      "def integrate_f(double a, double b, int N):\n",
      "    cdef int i\n",
      "    cdef double s, dx\n",
      "    s = 0\n",
      "    dx = (b-a)/N\n",
      "    for i in range(N):\n",
      "        s += f(a+i*dx)\n",
      "    return s * dx"
     ],
     "language": "python",
     "metadata": {},
     "outputs": []
    },
    {
     "cell_type": "code",
     "collapsed": false,
     "input": [
      "%timeit integrate_f(0., 10., N)"
     ],
     "language": "python",
     "metadata": {},
     "outputs": []
    },
    {
     "cell_type": "markdown",
     "metadata": {},
     "source": [
      "http://nbviewer.ipython.org/github/jrjohansson/scientific-python-lectures/blob/master/Lecture-6A-Fortran-and-C.ipynb\n",
      "\n",
      "https://github.com/thehackerwithin/PyTrieste/wiki/F2Py\n",
      "\n",
      "http://scientificcomputingco.blogspot.com.au/2013/02/f2py-on-64bit-windows-python27.html\n",
      "\n",
      "http://www.sagemath.org/doc/numerical_sage/f2py.html"
     ]
    },
    {
     "cell_type": "code",
     "collapsed": false,
     "input": [
      "def pyfib(n):\n",
      "    a = []\n",
      "    for i in range(n):\n",
      "        if i == 0:\n",
      "            a.append(0)\n",
      "        elif i == 1:\n",
      "            a.append(1)\n",
      "        else:\n",
      "            a.append(a[i-1] + a[i-2])\n",
      "    return a"
     ],
     "language": "python",
     "metadata": {},
     "outputs": []
    },
    {
     "cell_type": "code",
     "collapsed": false,
     "input": [
      "pyfib(10)"
     ],
     "language": "python",
     "metadata": {},
     "outputs": []
    },
    {
     "cell_type": "code",
     "collapsed": false,
     "input": [
      "%timeit pyfib(100)"
     ],
     "language": "python",
     "metadata": {},
     "outputs": []
    },
    {
     "cell_type": "code",
     "collapsed": false,
     "input": [
      "%%file ffib.f\n",
      "C FILE: FFIB.F\n",
      "      SUBROUTINE FIB(A,N)\n",
      "C\n",
      "C     CALCULATE FIRST N FIBONACCI NUMBERS\n",
      "C\n",
      "      INTEGER N\n",
      "      REAL*8 A(N)\n",
      "Cf2py intent(in) n\n",
      "Cf2py intent(out) a\n",
      "Cf2py depend(n) a\n",
      "      DO I=1,N\n",
      "         IF (I.EQ.1) THEN\n",
      "            A(I) = 0.0D0\n",
      "         ELSEIF (I.EQ.2) THEN\n",
      "            A(I) = 1.0D0\n",
      "         ELSE \n",
      "            A(I) = A(I-1) + A(I-2)\n",
      "         ENDIF\n",
      "      ENDDO\n",
      "      END\n",
      "C END FILE FFIB.F"
     ],
     "language": "python",
     "metadata": {},
     "outputs": []
    },
    {
     "cell_type": "code",
     "collapsed": false,
     "input": [
      "!f2py -c -m ffib ffib.f"
     ],
     "language": "python",
     "metadata": {},
     "outputs": []
    },
    {
     "cell_type": "code",
     "collapsed": false,
     "input": [
      "import ffib"
     ],
     "language": "python",
     "metadata": {},
     "outputs": []
    },
    {
     "cell_type": "code",
     "collapsed": false,
     "input": [
      "%timeit ffib.fib(100)"
     ],
     "language": "python",
     "metadata": {},
     "outputs": []
    },
    {
     "cell_type": "code",
     "collapsed": false,
     "input": [],
     "language": "python",
     "metadata": {},
     "outputs": []
    }
   ],
   "metadata": {}
  }
 ]
}