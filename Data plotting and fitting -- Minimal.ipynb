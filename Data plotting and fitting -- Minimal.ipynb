{
 "metadata": {
  "name": "",
  "signature": "sha256:161d7b9e2d9b0a470cc106c599bea591b91e30b8e5114b8be499ffa06c7d1f9c"
 },
 "nbformat": 3,
 "nbformat_minor": 0,
 "worksheets": [
  {
   "cells": [
    {
     "cell_type": "code",
     "collapsed": false,
     "input": [
      "%matplotlib inline\n",
      "import nbprep\n",
      "nbprep.style()"
     ],
     "language": "python",
     "metadata": {},
     "outputs": []
    },
    {
     "cell_type": "code",
     "collapsed": false,
     "input": [
      "import numpy as np\n",
      "import matplotlib.pyplot as plt\n",
      "import scipy.optimize as spo"
     ],
     "language": "python",
     "metadata": {},
     "outputs": []
    },
    {
     "cell_type": "code",
     "collapsed": false,
     "input": [
      "datafile = open('static/kin_data.csv')\n",
      "times = []\n",
      "propene = []\n",
      "\n",
      "for line in datafile:\n",
      "    if line[0] == '#': continue\n",
      "    sp = line.split(',')\n",
      "    times.append(sp[0])\n",
      "    propene.append(sp[1])\n",
      "\n",
      "datafile.close()\n",
      "\n",
      "times = np.array(times, dtype=float)\n",
      "propene = np.array(propene, dtype=float)"
     ],
     "language": "python",
     "metadata": {},
     "outputs": []
    },
    {
     "cell_type": "code",
     "collapsed": false,
     "input": [
      "plt.plot(times, propene, 'o')"
     ],
     "language": "python",
     "metadata": {},
     "outputs": []
    },
    {
     "cell_type": "code",
     "collapsed": false,
     "input": [
      "def first_order(times, conc_eq, conc_0, k):\n",
      "    return (conc_0 - conc_eq)*np.exp(-k*times) + conc_eq\n",
      "\n",
      "tsim = np.linspace(0, 30, 10000)\n",
      "c0 = 400.\n",
      "ceq = 200. \n",
      "k = 0.2\n",
      "\n",
      "guess = (ceq, c0, k)\n",
      "fit, cov = spo.curve_fit(first_order, times, propene, p0=guess)\n",
      "print \"Conc. Eq = {:.3f}; Init. Conc. = {:.3f}; k = {:.3f}\".format(*fit)"
     ],
     "language": "python",
     "metadata": {},
     "outputs": []
    },
    {
     "cell_type": "code",
     "collapsed": false,
     "input": [
      "plt.plot(tsim, first_order(tsim, *fit), 'k')\n",
      "plt.plot(times, propene, 'o')"
     ],
     "language": "python",
     "metadata": {},
     "outputs": []
    },
    {
     "cell_type": "code",
     "collapsed": false,
     "input": [],
     "language": "python",
     "metadata": {},
     "outputs": []
    }
   ],
   "metadata": {}
  }
 ]
}