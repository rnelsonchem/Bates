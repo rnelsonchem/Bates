{
 "metadata": {
  "name": "",
  "signature": "sha256:f3c91b93af98a0947cc9a3bd7a5639610bd5c79da1a25020366546b0a9bb50b4"
 },
 "nbformat": 3,
 "nbformat_minor": 0,
 "worksheets": [
  {
   "cells": [
    {
     "cell_type": "code",
     "collapsed": false,
     "input": [
      "%matplotlib inline\n",
      "import nbprep\n",
      "nbprep.style()"
     ],
     "language": "python",
     "metadata": {},
     "outputs": []
    },
    {
     "cell_type": "markdown",
     "metadata": {},
     "source": [
      "# Making a Simple Histogram\n",
      "\n",
      "Histograms are box plots that are used to visualize data distribution --\n",
      "typically the x axis is the measured values and the y axis is their frequency.\n",
      "Below is an\n",
      "[example](http://en.wikipedia.org/wiki/Histogram#mediaviewer/File:Black_cherry_tree_histogram.svg)\n",
      "that shows a breakdown of Cherry trees by height:\n",
      "\n",
      "<img src=\"static/Black_cherry_tree_histogram.svg\">\n",
      "\n",
      "This type of graphical representation is exceedingly important for statistical\n",
      "purposes; however, this has been, in my opinion, [overly difficult to\n",
      "accomplish in Excel](http://support.microsoft.com/kb/214269).  Below, we will\n",
      "use a very little bit of Python code to produce a nice looking histogram of\n",
      "some real-world chemical data of manganese-oxygen distances.\n",
      "\n",
      "## Getting Started\n",
      "\n",
      "For this example, we are only going to need two external libraries, Numpy and\n",
      "Matplotlib. A description of these modules is given in the plotting/fitting\n",
      "notebook. In this case, Numpy is not required, but it will greatly simplify\n",
      "reading the data file.  "
     ]
    },
    {
     "cell_type": "code",
     "collapsed": false,
     "input": [
      "import numpy as np\n",
      "import matplotlib.pyplot as plt"
     ],
     "language": "python",
     "metadata": {},
     "outputs": []
    },
    {
     "cell_type": "markdown",
     "metadata": {},
     "source": [
      "## Part 1. Reading the data file\n",
      "\n",
      "In this example, I want to get a sense for the typical distribution of\n",
      "manganese-oxygen distances in molecules. To do this, we query the databases at\n",
      "the [Cambridge Crystallographic Data Centre\n",
      "(CCDC)](http://www.ccdc.cam.ac.uk/pages/Home.aspx), which is a repository of\n",
      "[X-ray crystallographic\n",
      "data](http://en.wikipedia.org/wiki/X-ray_crystallography). X-ray\n",
      "crystallography is a spectroscopic technique that provide three dimensional\n",
      "representations of molecules. It is somewhat analogous to a [CT\n",
      "scan](http://en.wikipedia.org/wiki/X-ray_computed_tomography) that you might\n",
      "get at the hospital. \n",
      "\n",
      "A previous query of the CCDC database provided a list of every manganese\n",
      "oxygen distance between 1 and 2.5 \u00c5. The exported data are located in\n",
      "\"MnO.csv\" in the folder \"static\". A segment of this file is displayed below:\n",
      "\n",
      "```text\n",
      "Query, Refcode,DIST1 \n",
      "3,ADPORF,2.118\n",
      "3,NBNTLF,2.134\n",
      "3,TZAXKA,2.117\n",
      "3,XVPDLV,2.128\n",
      "3,EPSWMM,2.139\n",
      "3,CESKUG,2.106\n",
      "3,UZYUFF,2.110\n",
      "...\n",
      "```\n",
      "\n",
      "You might be surprised to learn that there are actually a great number of\n",
      "known compounds with manganese and oxygen atoms in this distance range. In\n",
      "fact, this search produced a list of more than 43,000 unique distance\n",
      "measurements. We could easily write a custom `for` loop to extract this data\n",
      "from the file. However, it turns out that Numpy (and other packages, e.g.\n",
      "[Pandas](http://pandas.pydata.org/)) has a couple of special functions for\n",
      "reading in structured data sets. In this example, we'll use [Numpy's\n",
      "`genfromtxt`\n",
      "function](http://docs.scipy.org/doc/numpy/reference/generated/numpy.genfromtxt.html).\n",
      "For our data set, we need to tell this function a few things: to skip the\n",
      "first line of text (`skip_header`), to break apart lines using the comma as a\n",
      "delimiter (`delimiter`), and to only extract the third column of data\n",
      "(`usecols`, zero is the first column). "
     ]
    },
    {
     "cell_type": "code",
     "collapsed": false,
     "input": [
      "data = np.genfromtxt('static/MnO.csv', skip_header=1, delimiter=',', usecols=2)"
     ],
     "language": "python",
     "metadata": {},
     "outputs": []
    },
    {
     "cell_type": "markdown",
     "metadata": {},
     "source": [
      "Now that we've extracted the data, we can plot a histogram using [Matplotlib's\n",
      "`hist`\n",
      "function](http://matplotlib.org/api/pyplot_api.html#matplotlib.pyplot.hist).\n",
      "Behind the scenes this will organize and bin all of our data automatically, so\n",
      "we don't have to do any of that ourselves. Here we'll set the number of bins\n",
      "to be a larger number (50) than the default (10) to spread the data out a bit.\n",
      "The final lines of Matplotlib code are simply making the plot look a little\n",
      "nicer, and are not necessary for making the histogram."
     ]
    },
    {
     "cell_type": "code",
     "collapsed": false,
     "input": [
      "plt.hist(data, bins=50)\n",
      "\n",
      "plt.grid()\n",
      "plt.ylabel('Frequency', fontsize=15)\n",
      "plt.ylim(ymin=-50)\n",
      "plt.xlabel(u'Mn-O Distance (\\u00c5)', fontsize=15)\n",
      "plt.show()"
     ],
     "language": "python",
     "metadata": {},
     "outputs": []
    },
    {
     "cell_type": "markdown",
     "metadata": {},
     "source": [
      "## Putting it all together\n",
      "\n",
      "Of course, this was a very simple, but powerful example. Let's go back and\n",
      "cut/paste the important lines to get a one-cell solution to our problem. If\n",
      "we ignore the final plotting commands, this really only required four lines of\n",
      "code to plot our histogram, which is pretty amazing."
     ]
    },
    {
     "cell_type": "code",
     "collapsed": false,
     "input": [
      "import numpy as np\n",
      "import matplotlib.pyplot as plt\n",
      "\n",
      "data = np.genfromtxt('static/MnO.csv', skip_header=1, delimiter=',', usecols=2)\n",
      "\n",
      "plt.hist(data, bins=50)\n",
      "\n",
      "plt.grid()\n",
      "plt.ylabel('Frequency', fontsize=15)\n",
      "plt.ylim(ymin=-50)\n",
      "plt.xlabel(u'Mn-O Distance (\\u00c5)', fontsize=15)\n",
      "plt.show()"
     ],
     "language": "python",
     "metadata": {},
     "outputs": []
    },
    {
     "cell_type": "markdown",
     "metadata": {},
     "source": [
      "## What did we learn\n",
      "\n",
      "An examination of the plot above is very revealing. First of all, a simple first approach analysis of this data would be to check the mean, median, and standard deviation. Given that the mean and median well within one standard deviation of one another, we may jumped to a hasty assumption that all of our data comes from a single population. "
     ]
    },
    {
     "cell_type": "code",
     "collapsed": false,
     "input": [
      "print data.mean()\n",
      "print data.std()\n",
      "print np.median(data)"
     ],
     "language": "python",
     "metadata": {},
     "outputs": []
    },
    {
     "cell_type": "markdown",
     "metadata": {},
     "source": [
      "What this histogram visually tells us, though, is that this assumption is\n",
      "wildly incorrect. In fact, our mean and median fall at values where there are\n",
      "very few observed manganese oxygen distances. \n",
      "\n",
      "*What are we seeing here?* It turns out that at these short distances,\n",
      "manganese and oxygen are chemically bonded to one another. At distances\n",
      "between ~2 to 2.5 \u00c5, we are seeing the distribution of manganese-oxygen single\n",
      "bonds (Mn-O); distances between ~1.8 and 2 \u00c5 are indicative of\n",
      "manganese-oxygen double bonds (Mn=O)! (Actually, compounds with Mn-O distances\n",
      "below ~1.8 \u00c5 are very interesting if you are studying synthetic mimics of the\n",
      "[Oxygen Evolving\n",
      "Complex](http://en.wikipedia.org/wiki/Photosystem_II#Oxygen-evolving_complex_.28OEC.29),\n",
      "a component of Photosystem II that is very important for the existence of life\n",
      "on our planet.)"
     ]
    },
    {
     "cell_type": "code",
     "collapsed": false,
     "input": [],
     "language": "python",
     "metadata": {},
     "outputs": []
    }
   ],
   "metadata": {}
  }
 ]
}