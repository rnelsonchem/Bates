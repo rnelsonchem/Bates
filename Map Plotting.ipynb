{
 "metadata": {
  "name": "",
  "signature": "sha256:c3241649a59d6dbc6611ae0c4753677a56c810de7a08aa2f52815433ecab997b"
 },
 "nbformat": 3,
 "nbformat_minor": 0,
 "worksheets": [
  {
   "cells": [
    {
     "cell_type": "code",
     "collapsed": false,
     "input": [
      "%matplotlib inline\n",
      "import nbprep\n",
      "nbprep.style()"
     ],
     "language": "python",
     "metadata": {},
     "outputs": []
    },
    {
     "cell_type": "markdown",
     "metadata": {},
     "source": [
      "# Map Plotting\n",
      "\n",
      "Matplotlib has a freely-available external library called [Basemap](http://matplotlib.org/basemap/) for plotting map data. I don't have much experience with this particular package, so this is a fairly simple example of its usage that I must have found on the internet."
     ]
    },
    {
     "cell_type": "code",
     "collapsed": false,
     "input": [
      "import numpy as np\n",
      "import matplotlib.pyplot as plt\n",
      "from mpl_toolkits.basemap import Basemap"
     ],
     "language": "python",
     "metadata": {},
     "outputs": []
    },
    {
     "cell_type": "markdown",
     "metadata": {},
     "source": [
      "Python's [built-in `urllib2` module](https://docs.python.org/2/library/urllib2.html) makes it possible for us to directly download an image from ArcGIS's servers. Unfortunately, outside network access in SMC is [blocked by default](https://github.com/sagemath/cloud/wiki/FAQ#question-i-would-like-to-edit-files-with-sync-or-manipulate-data-files-that-are-on-some-remote-server-that-i-have-ssh-access-to), so I've downloaded this particular image for you. (The SMC developers will open network access upon request, if necessary.)"
     ]
    },
    {
     "cell_type": "code",
     "collapsed": false,
     "input": [
      "# import urllib2\n",
      "\n",
      "# width = 1.2e7\n",
      "# basemap_url = \"http://server.arcgisonline.com/ArcGIS/rest/services\\\n",
      "# /ESRI_Imagery_World_2D/MapServer/export?\\\n",
      "# bbox={:.0f},{:.0f},{:.0f},{:.0f}&\\\n",
      "# bboxSR=3412&\\\n",
      "# imageSR=3412&\\\n",
      "# size=1000,1000&\\\n",
      "# dpi=128&\\\n",
      "# format=png32&\\\n",
      "# f=image\" \n",
      "# basemap_url = basemap_url.format(-width/2, -width/2, width/2, width/2)\n",
      "\n",
      "# map_png = urllib2.urlopen(basemap_url)\n",
      "# map_pict = plt.imread(map_png)"
     ],
     "language": "python",
     "metadata": {},
     "outputs": []
    },
    {
     "cell_type": "markdown",
     "metadata": {},
     "source": [
      "Here were reading in our background raster image that I got from the ArcGIS servers."
     ]
    },
    {
     "cell_type": "code",
     "collapsed": false,
     "input": [
      "map_pict = plt.imread('static/gis_export.png')"
     ],
     "language": "python",
     "metadata": {},
     "outputs": []
    },
    {
     "cell_type": "markdown",
     "metadata": {},
     "source": [
      "Create a Basemap object."
     ]
    },
    {
     "cell_type": "code",
     "collapsed": false,
     "input": [
      "width = 1.2e7\n",
      "m = Basemap(projection='stere',resolution='i', lon_0=0, lat_0=-90, lat_ts=-70,\n",
      "         width=width, height=width, rsphere=(6378273,6356889.449))"
     ],
     "language": "python",
     "metadata": {},
     "outputs": []
    },
    {
     "cell_type": "markdown",
     "metadata": {},
     "source": [
      "Show the raster image on our Basemap (`imshow`). Draw some coordinate lines and show the result."
     ]
    },
    {
     "cell_type": "code",
     "collapsed": false,
     "input": [
      "m.imshow(map_pict,origin='upper')\n",
      "m.drawmeridians(np.arange(-180,180,30),labels=[0,0,0,1],color='y')\n",
      "m.drawparallels(np.arange(-80,-0,10),labels=[1,0,0,0],color='y')\n",
      "m.drawcoastlines()\n",
      "plt.show()"
     ],
     "language": "python",
     "metadata": {},
     "outputs": []
    },
    {
     "cell_type": "markdown",
     "metadata": {},
     "source": [
      "Being an addition to Matplotlib, you can also use all of the Matplotlib goodies for annotating the plot with additional data and text as well."
     ]
    },
    {
     "cell_type": "code",
     "collapsed": false,
     "input": [],
     "language": "python",
     "metadata": {},
     "outputs": []
    }
   ],
   "metadata": {}
  }
 ]
}