{
 "metadata": {
  "name": "",
  "signature": "sha256:1b2105bcba168e86c372bd53c1dfea2db91d9149ff15a3e325991cf18be72f6c"
 },
 "nbformat": 3,
 "nbformat_minor": 0,
 "worksheets": [
  {
   "cells": [
    {
     "cell_type": "code",
     "collapsed": false,
     "input": [
      "%matplotlib inline\n",
      "import nbprep\n",
      "nbprep.style()"
     ],
     "language": "python",
     "metadata": {},
     "outputs": []
    },
    {
     "cell_type": "code",
     "collapsed": false,
     "input": [
      "import numpy as np\n",
      "import matplotlib.pyplot as plt\n",
      "from mpl_toolkits.basemap import Basemap"
     ],
     "language": "python",
     "metadata": {},
     "outputs": []
    },
    {
     "cell_type": "code",
     "collapsed": false,
     "input": [
      "# import urllib2\n",
      "\n",
      "# width = 1.2e7\n",
      "# basemap_url = \"http://server.arcgisonline.com/ArcGIS/rest/services\\\n",
      "# /ESRI_Imagery_World_2D/MapServer/export?\\\n",
      "# bbox={:.0f},{:.0f},{:.0f},{:.0f}&\\\n",
      "# bboxSR=3412&\\\n",
      "# imageSR=3412&\\\n",
      "# size=1000,1000&\\\n",
      "# dpi=128&\\\n",
      "# format=png32&\\\n",
      "# f=image\" \n",
      "# basemap_url = basemap_url.format(-width/2, -width/2, width/2, width/2)\n",
      "\n",
      "# map_png = urllib2.urlopen(basemap_url)\n",
      "# map_pict = plt.imread(map_png)"
     ],
     "language": "python",
     "metadata": {},
     "outputs": []
    },
    {
     "cell_type": "code",
     "collapsed": false,
     "input": [
      "map_pict = plt.imread('static/gis_export.png')"
     ],
     "language": "python",
     "metadata": {},
     "outputs": []
    },
    {
     "cell_type": "code",
     "collapsed": false,
     "input": [
      "width = 1.2e7\n",
      "m = Basemap(projection='stere',resolution='i', lon_0=0, lat_0=-90, lat_ts=-70,\n",
      "         width=width, height=width, rsphere=(6378273,6356889.449))"
     ],
     "language": "python",
     "metadata": {},
     "outputs": []
    },
    {
     "cell_type": "code",
     "collapsed": false,
     "input": [
      "m.imshow(map_pict,origin='upper')\n",
      "m.drawmeridians(np.arange(-180,180,30),labels=[0,0,0,1],color='y')\n",
      "m.drawparallels(np.arange(-80,-0,10),labels=[1,0,0,0],color='y')\n",
      "m.drawcoastlines()\n",
      "plt.show()"
     ],
     "language": "python",
     "metadata": {},
     "outputs": []
    },
    {
     "cell_type": "code",
     "collapsed": false,
     "input": [],
     "language": "python",
     "metadata": {},
     "outputs": []
    }
   ],
   "metadata": {}
  }
 ]
}