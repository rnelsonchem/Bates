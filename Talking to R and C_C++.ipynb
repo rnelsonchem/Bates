{
 "metadata": {
  "name": "",
  "signature": "sha256:1f7b7f0532697acb8a4ce0daf2e23f4d0747fd32bcb3dd82abebf022e32f9761"
 },
 "nbformat": 3,
 "nbformat_minor": 0,
 "worksheets": [
  {
   "cells": [
    {
     "cell_type": "code",
     "collapsed": false,
     "input": [
      "import nbprep\n",
      "nbprep.style()"
     ],
     "language": "python",
     "metadata": {},
     "outputs": []
    },
    {
     "cell_type": "markdown",
     "metadata": {},
     "source": [
      "Take from:\n",
      "\n",
      "http://www.sr.bham.ac.uk/~ajrs/R/r-gallery.html\n",
      "\n",
      "http://stackoverflow.com/questions/17414349/plot-size-using-ggplot2-in-ipython-notebook-via-rmagic\n",
      "\n",
      "See:\n",
      "\n",
      "http://nbviewer.ipython.org/github/ipython/ipython/blob/3607712653c66d63e0d7f13f073bde8c0f209ba8/docs/examples/notebooks/rmagic_extension.ipynb\n",
      "\n",
      "http://nbviewer.ipython.org/gist/msund/11349097"
     ]
    },
    {
     "cell_type": "code",
     "collapsed": false,
     "input": [
      "%load_ext rpy2.ipython"
     ],
     "language": "python",
     "metadata": {},
     "outputs": []
    },
    {
     "cell_type": "code",
     "collapsed": false,
     "input": [
      "%%R -w 800 -h 480 -u px\n",
      "#--Define data file directory:\n",
      "dir <- \"./static/\"\n",
      "\n",
      "#--Read in table of data (from Sanderson et al. 2006):\n",
      "# This refers to a sample of 20 clusters of galaxies with Chandra X-ray data\n",
      "CC <- read.table(paste(dir, \"mean_Tprofile-CC.txt\", sep=\"/\"), header=TRUE)\n",
      "nCC <- read.table(paste(dir, \"mean_Tprofile-nCC.txt\", sep=\"/\"), header=TRUE)\n",
      "\n",
      "#--Load extra library:\n",
      "## if not already installed, then run:\n",
      "# install.packages(\"ggplot2\")\n",
      "require(ggplot2)\n",
      "\n",
      "#--Combine datasets into a single data frame:\n",
      "CC$type <- \"Cool core\"\n",
      "nCC$type <- \"Non-cool core\"\n",
      "A <- rbind(CC, nCC)\n",
      "\n",
      "#--Define axis labels:\n",
      "xlabel <- as.expression(expression( paste(\"Radius (\", R[500], \")\") ))\n",
      "ylabel <- \"Scaled Temperature\"\n",
      "\n",
      "p <- ggplot(data=A, aes(x=r.r500, y=sckT, ymin=sckT.lo, ymax=sckT.up, fill=type, linetype=type)) + \n",
      " geom_line() + \n",
      " geom_ribbon(alpha=0.5) + \n",
      " scale_x_log10() + \n",
      " scale_y_log10() + \n",
      " xlab(xlabel) + \n",
      " ylab(ylabel)\n",
      "\n",
      "#ggsave(p, file=\"CC-vs_nCC_kT_prof.pdf\", width=8, height=4.5)\n",
      "plot(p)"
     ],
     "language": "python",
     "metadata": {},
     "outputs": []
    },
    {
     "cell_type": "code",
     "collapsed": false,
     "input": [
      "z = %Rget A"
     ],
     "language": "python",
     "metadata": {},
     "outputs": []
    },
    {
     "cell_type": "code",
     "collapsed": false,
     "input": [
      "z.ix[:10]"
     ],
     "language": "python",
     "metadata": {},
     "outputs": []
    },
    {
     "cell_type": "code",
     "collapsed": false,
     "input": [
      "z.__class__"
     ],
     "language": "python",
     "metadata": {},
     "outputs": []
    },
    {
     "cell_type": "markdown",
     "metadata": {},
     "source": [
      "http://docs.cython.org/src/quickstart/cythonize.html"
     ]
    },
    {
     "cell_type": "code",
     "collapsed": false,
     "input": [
      "%load_ext cythonmagic"
     ],
     "language": "python",
     "metadata": {},
     "outputs": []
    },
    {
     "cell_type": "code",
     "collapsed": false,
     "input": [
      "N = 10000000"
     ],
     "language": "python",
     "metadata": {},
     "outputs": []
    },
    {
     "cell_type": "code",
     "collapsed": false,
     "input": [
      "def f(x):\n",
      "    return x**2-x\n",
      "\n",
      "def integrate_f(a, b, N):\n",
      "    s = 0\n",
      "    dx = (b-a)/N\n",
      "    for i in range(N):\n",
      "        s += f(a+i*dx)\n",
      "    return s * dx"
     ],
     "language": "python",
     "metadata": {},
     "outputs": []
    },
    {
     "cell_type": "code",
     "collapsed": false,
     "input": [
      "%timeit integrate_f(0., 10., N)"
     ],
     "language": "python",
     "metadata": {},
     "outputs": []
    },
    {
     "cell_type": "code",
     "collapsed": false,
     "input": [
      "%%cython \n",
      "\n",
      "def f(x):\n",
      "    return x**2-x\n",
      "\n",
      "def integrate_f(a, b, N):\n",
      "    s = 0\n",
      "    dx = (b-a)/N\n",
      "    for i in range(N):\n",
      "        s += f(a+i*dx)\n",
      "    return s * dx"
     ],
     "language": "python",
     "metadata": {},
     "outputs": []
    },
    {
     "cell_type": "code",
     "collapsed": false,
     "input": [
      "%timeit integrate_f(0., 10., N)"
     ],
     "language": "python",
     "metadata": {},
     "outputs": []
    },
    {
     "cell_type": "code",
     "collapsed": false,
     "input": [
      "%%cython \n",
      "\n",
      "def f(double x):\n",
      "    return x**2-x\n",
      "\n",
      "def integrate_f(double a, double b, int N):\n",
      "    cdef int i\n",
      "    cdef double s, dx\n",
      "    s = 0\n",
      "    dx = (b-a)/N\n",
      "    for i in range(N):\n",
      "        s += f(a+i*dx)\n",
      "    return s * dx"
     ],
     "language": "python",
     "metadata": {},
     "outputs": []
    },
    {
     "cell_type": "code",
     "collapsed": false,
     "input": [
      "%timeit integrate_f(0., 10., N)"
     ],
     "language": "python",
     "metadata": {},
     "outputs": []
    },
    {
     "cell_type": "code",
     "collapsed": false,
     "input": [
      "%%cython \n",
      "\n",
      "cdef double f(double x) except? -2:\n",
      "    return x**2-x\n",
      "\n",
      "def integrate_f(double a, double b, int N):\n",
      "    cdef int i\n",
      "    cdef double s, dx\n",
      "    s = 0\n",
      "    dx = (b-a)/N\n",
      "    for i in range(N):\n",
      "        s += f(a+i*dx)\n",
      "    return s * dx"
     ],
     "language": "python",
     "metadata": {},
     "outputs": []
    },
    {
     "cell_type": "code",
     "collapsed": false,
     "input": [
      "%timeit integrate_f(0., 10., N)"
     ],
     "language": "python",
     "metadata": {},
     "outputs": []
    },
    {
     "cell_type": "code",
     "collapsed": false,
     "input": [],
     "language": "python",
     "metadata": {},
     "outputs": []
    }
   ],
   "metadata": {}
  }
 ]
}