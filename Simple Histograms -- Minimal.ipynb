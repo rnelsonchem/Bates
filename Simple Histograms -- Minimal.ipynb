{
 "metadata": {
  "name": "",
  "signature": "sha256:55e1ccd79c4c16b263352c610ce521c97d05f85932932788f0094eafab400bea"
 },
 "nbformat": 3,
 "nbformat_minor": 0,
 "worksheets": [
  {
   "cells": [
    {
     "cell_type": "code",
     "collapsed": false,
     "input": [
      "%matplotlib inline\n",
      "import nbprep\n",
      "nbprep.style()"
     ],
     "language": "python",
     "metadata": {},
     "outputs": []
    },
    {
     "cell_type": "code",
     "collapsed": false,
     "input": [
      "import numpy as np\n",
      "import matplotlib.pyplot as plt"
     ],
     "language": "python",
     "metadata": {},
     "outputs": []
    },
    {
     "cell_type": "code",
     "collapsed": false,
     "input": [
      "data = np.genfromtxt('static/MnO.csv', skip_header=1, delimiter=',', usecols=2)"
     ],
     "language": "python",
     "metadata": {},
     "outputs": []
    },
    {
     "cell_type": "code",
     "collapsed": false,
     "input": [
      "plt.hist(data, bins=50)\n",
      "\n",
      "plt.grid()\n",
      "plt.ylabel('Frequency', fontsize=15)\n",
      "plt.ylim(ymin=-50)\n",
      "plt.xlabel(u'Mn-O Distance (\\u00c5)', fontsize=15)\n",
      "plt.show()"
     ],
     "language": "python",
     "metadata": {},
     "outputs": []
    },
    {
     "cell_type": "code",
     "collapsed": false,
     "input": [],
     "language": "python",
     "metadata": {},
     "outputs": []
    }
   ],
   "metadata": {}
  }
 ]
}