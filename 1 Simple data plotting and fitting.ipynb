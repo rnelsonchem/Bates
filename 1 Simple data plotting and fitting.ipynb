{
 "metadata": {
  "name": "",
  "signature": "sha256:0925ba9f80732d162779ca0987cea68da9d16f232af18e23c8c7568259845b23"
 },
 "nbformat": 3,
 "nbformat_minor": 0,
 "worksheets": [
  {
   "cells": [
    {
     "cell_type": "markdown",
     "metadata": {},
     "source": [
      "# Simple Data Plotting and Fitting\n",
      "\n",
      "Let's try to reproduce the data analysis that I presented in the beginning of the talk. Remember that spreadsheet plotted concentration data versus time for my kinetics run and fit it to a model equation for that system. The plotted result looked like the following:\n",
      "\n",
      "<img src=\"static/excel.png\" style=\"margin-left:auto; margin-right:auto; width:70%;\">"
     ]
    },
    {
     "cell_type": "markdown",
     "metadata": {},
     "source": [
      "## Setting things up\n",
      "\n",
      "The first thing to do is to bring in a bunch of 3rd party code libraries to help us with our analysis. Typically, these need to be installed separately, but there are several options to make this much easier for the user. (For example, SageMathCloud comes with these libraries preinstalled.) Python's `import` statement is used to load any extra code, and in this case, we will be using the following libraries:\n",
      "\n",
      "* [Numpy](http://www.numpy.org/) -- Fast creation and manipulation of multidimmensional data arrays\n",
      "* [Matplotlib](http://matplotlib.org/) -- A powerful plotting library\n",
      "* [Scipy](http://scipy.org/) -- A large collection of numerical routines for a variety of purposes. In this case, we are going to be working specifically with the [optimization](http://docs.scipy.org/doc/scipy/reference/tutorial/optimize.html) functions.\n",
      "\n",
      "The `as` notation simply allows us to apply a nickname reference these libraries in our code. If we didn't do this, you would have to retype the full name every time you needed one of these functions. Lines preceded by `%` or `%%` are special to IPython and will only work inside this environment. In this case, `%matplotlib inline` simply forces Matplotlib plots to be displayed in the notebook webpage rather than the default which is a separate interactive window. (These interactive windows are very cool but are impossible to demo in this SMC environment, unfortunately.)"
     ]
    },
    {
     "cell_type": "code",
     "collapsed": false,
     "input": [
      "import numpy as np\n",
      "import matplotlib.pyplot as plt\n",
      "%matplotlib inline\n",
      "import scipy.optimize as spo"
     ],
     "language": "python",
     "metadata": {},
     "outputs": []
    },
    {
     "cell_type": "markdown",
     "metadata": {},
     "source": [
      "This final import loads some code that I wrote specifically for these demos. The code resides in a file called \"nbprep.py\" and is in the same folder as this notebook. In this case, `nbprep.style()` is a Python *function* that does some display formatting to make things look \"pretty.\" I wanted to do this for every notebook, so rather than type the same code over and over again for every notebook, I put the code in a separate file that can be imported into the notebook. If I change the visual appearence code in the \"nbprep.py\" file, it will be propogated to every notebook automatically. (Yay! Already life is much easier.)"
     ]
    },
    {
     "cell_type": "code",
     "collapsed": false,
     "input": [
      "import nbprep\n",
      "nbprep.style()"
     ],
     "language": "python",
     "metadata": {},
     "outputs": []
    },
    {
     "cell_type": "markdown",
     "metadata": {},
     "source": [
      "# Part 1: Creating a simple plot from a data file\n",
      "\n",
      "First of all, let's read in some kinetics data to plot and analyze. For this example, I've stored the data in the comma-separated value (csv) file \"kin_data.csv\" in the folder called \"static\". (If you are on SageMathCloud, you can take a look at it through file browser, which is accessed through the upper left \"Files...\" button.) As you can see, opening any file (ASCII, unicode, or binary) is fairly easy with Python's built-in [open function](https://docs.python.org/2/library/functions.html#open). \n",
      "\n",
      "We'll also need a place to store the data as we extract it. That is easily done by creating two empty containers (*lists* in Python lingo) called `times` and `propene` for holding these data, respectively. We could have done this same assignment with a single line as well -- `times, propene = [], []`."
     ]
    },
    {
     "cell_type": "code",
     "collapsed": false,
     "input": [
      "datafile = open('static/kin_data.csv')\n",
      "times = []\n",
      "propene = []"
     ],
     "language": "python",
     "metadata": {},
     "outputs": []
    },
    {
     "cell_type": "markdown",
     "metadata": {},
     "source": [
      "A `for` loop is used to iterate through the opened file (`datafile`). This type of loop automatically iterates over the file line-by-line, so it makes sense the we will call the iteration values `line` in our code. However, that naming conventions is not necessary. We could have called this anything we want, but it makes sense to use informative names for variables to make our code easier to read in the future.\n",
      "\n",
      "Code that need to run inside our `for` loop must be indented in Python. The first thing we'll do in each cycle of our loop is check the very first character of our file line (`line[0]`). If it is equal to \"#\", then that line is a comment, so we will skip that line (`continue`). Otherwise, we'll split up the line into parts -- the separator being commas in this case (`line.split(',')`). The first part of the line (`sp[0]`) should be added to our `times` data container (`times.append` function); the second part of the line should be added to the `propene` data container. Once the `for` loop has completed all of its cycles, close the data file (`datafile.close()`). This line is not indented, which indicates that is must happen after the `for` loop completes all its cycles. \n",
      "\n",
      "Notice that we did not specifiy how many lines of data are in the file. The loop just runs until the file contents run out. Could have one data point or a million -- it doesn't matter. This is an enormous advantage over a spreadsheet, where you need to explicitly account for all of the data rows. (Maybe not exactly true, I suppose, if you know some internal scripting language such as VisualBasic for MS products.)"
     ]
    },
    {
     "cell_type": "code",
     "collapsed": false,
     "input": [
      "for line in datafile:\n",
      "    if line[0] == '#': continue\n",
      "    sp = line.split(',')\n",
      "    times.append(sp[0])\n",
      "    propene.append(sp[1])\n",
      "\n",
      "datafile.close()"
     ],
     "language": "python",
     "metadata": {},
     "outputs": []
    },
    {
     "cell_type": "markdown",
     "metadata": {},
     "source": [
      "Finally, we'll also print the contents of the containers to see what they look like. This is not necessary, but good practice (initially) to make sure things look okay."
     ]
    },
    {
     "cell_type": "code",
     "collapsed": false,
     "input": [
      "print times\n",
      "print propene"
     ],
     "language": "python",
     "metadata": {},
     "outputs": []
    },
    {
     "cell_type": "markdown",
     "metadata": {},
     "source": [
      "Carefully examine the printout of the data above. All of the numbers are in quotes. Right now Python thinks the values in the list are all text (*strings* in Py-speak) and not numbers. This is a problem in a couple of ways. First of all, we need to find a way to tell Python to change all of those strings to numbers. But the second problem is that with Python lists, we'll need to go through each value individually and make that change, which can be a slow process in pure Python. \n",
      "\n",
      "Here Numpy will come to our rescue. We can use Numpy (remember `np` is the nickname) to convert our *lists of strings* into an *arrays of floating point (i.e. decimal) numbers*. [Numpy's `array` function](http://docs.scipy.org/doc/numpy/reference/generated/numpy.array.html) takes care of this conversion, and by passing in the *keyword argument* `dtype=float`, we are saying that all of the numbers are floating point. This conversion is very important for numerical code because Numpy arrays allow us to manipulate the entire container of numbers in the same way that we would manipulate a single number. For example, the `times` numpy array contains the time values in *minutes*. If we wanted to convert the values into *seconds*, we could simply write something like the following:\n",
      "\n",
      "```python\n",
      "times = times*60.\n",
      "```\n",
      "\n",
      "For now, we'll leave things as-is, though."
     ]
    },
    {
     "cell_type": "code",
     "collapsed": false,
     "input": [
      "times = np.array(times, dtype=float)\n",
      "propene = np.array(propene, dtype=float)"
     ],
     "language": "python",
     "metadata": {},
     "outputs": []
    },
    {
     "cell_type": "markdown",
     "metadata": {},
     "source": [
      "*Okay, we've got our data... But what does it look like?*\n",
      "\n",
      "Here's where we can use Matplotlib to help us visualize our data. Matplotlib is a very powerful plotting package, but that flexibility can come at the cost of a bit of complexity. However, [Matplotlib's `pyplot` module](http://matplotlib.org/api/pyplot_summary.html) contains a large number of common commands that make generating simple plots quite a bit easier. Again remember that we gave the `matplotlib.pyplot` module the nickname `plt` so that we wouldn't have to type out the full name every time.\n",
      "\n",
      "In the code below, we'll first create a plot of our times versus the propene pressure using circular markers for each data point (`'o'`). We can easily add axis labels as well, so that people know what is being displayed."
     ]
    },
    {
     "cell_type": "code",
     "collapsed": false,
     "input": [
      "plt.plot(times, propene, 'o')\n",
      "plt.xlabel('Time (min)')\n",
      "plt.ylabel('Pressure (torr)')"
     ],
     "language": "python",
     "metadata": {},
     "outputs": []
    },
    {
     "cell_type": "markdown",
     "metadata": {},
     "source": [
      "## Quiz\n",
      "\n",
      "You collect a new kinetics data set for the same reaction but under different conditions. This data set is stored in a file that is formatted in the same way as the one used in this example. How would you change this code to be able to visulize this new data set?\n",
      "\n",
      "## Answer\n",
      "\n",
      "The only part of our program above that is unique to the original data is the name of the file that we opened. See the second code block above. There is another data file called \"kin_data2.csv\" in the folder called *static*. To plot this data file rather than the original data file, change the following line in the second code block above:\n",
      "\n",
      "```python\n",
      "datafile = open('static/kin_data.csv')\n",
      "```\n",
      "\n",
      "to this:\n",
      "\n",
      "```python\n",
      "datafile = open('static/kin_data2.csv')\n",
      "```\n",
      "\n",
      "Re-run that cell and all subsequent cells (up to this point). Does the plot look different? \n",
      "\n",
      "Be sure the change the data file back to \"kin_data.csv\" for the remaining code examples in this notebook to work properly."
     ]
    },
    {
     "cell_type": "markdown",
     "metadata": {},
     "source": [
      "## Part 2. Fit the data to a model\n",
      "\n",
      "In this experiment propene, $C_3 H_6$, is being used up in a *equilibrium* process, which follows this chemical equation.\n",
      "\n",
      "$$ C_3 H_6 \\rightleftharpoons Prod$$\n",
      "\n",
      "With this equation, the change of propene concentration with time (rate) is given by differential equation (2).\n",
      "\n",
      "$$\\frac{d([C_3 H_6])}{dt} = k_{r}*[Prod] - k_{f}*[C_3 H_6]$$\n",
      "\n",
      "Where $C_{propene}$ and $C_{product}$ are the concentrations of propene and product, respectively, and $k_{r}$ and $k_{f}$ are the reverse and forward rate constants, respectively. To find an analytical solution to this equation, we need to keep two other factors in mind. First, the equilibrium constant, $K$, is equal to both the ratio of the forward and reverse rate constants and the equilibrium concentrations of products and propene. \n",
      "\n",
      "$$K = \\frac{[Prod]_e}{[C_3 H_6]_e} = \\frac{k_{f}}{k_{r}}$$\n",
      "\n",
      "Second, the initial concentration of propene, $[C_3 H_6]_0$, is equal to the concentrations of products and propene at any time, including equilibrium.\n",
      "\n",
      "$$[C_3 H_6]_0 = [C_3 H_6]_e + [Prod]_e$$\n",
      "\n",
      "Solving this system is straight forward, but too time consuming to show here. Wikipedia has a [good descripton of this procedure](http://en.wikipedia.org/wiki/Rate_equation#Equilibrium_reactions_or_opposed_reactions). The end result, however, is a convenient equation for determining the concentration of propene at any time during the reaction.\n",
      "\n",
      "$$\\begin{split} [C_3 H_6] & = ([C_3 H_6]_0 - [C_3 H_6]_e)*\\exp(-(k_r + k_f)t) + [C_3 H_6]_e \\\\\n",
      "& = ([C_3 H_6]_0 - [C_3 H_6]_e)*\\exp(-k_{obs}t) + [C_3 H_6]_e \\end{split}$$\n",
      "\n",
      "The rate constants can not be known separately, so we combine them into one observed rate constant $k_{obs}$. We implement a function like this in Python by defining our own function `first_order`, which takes four values corresponding to our variables above."
     ]
    },
    {
     "cell_type": "code",
     "collapsed": false,
     "input": [
      "def first_order(times, conc_eq, conc_0, k):\n",
      "    return (conc_0 - conc_eq)*np.exp(-k*times) + conc_eq"
     ],
     "language": "python",
     "metadata": {},
     "outputs": []
    },
    {
     "cell_type": "markdown",
     "metadata": {},
     "source": [
      "You can use this equation to calculate the concentration of propene at each individual time point. For example, we can try to determine the concentration of propene at 10 min (`tsim`) given an initial concentration of propene (`c0`) of 400, an equilibrium concentration of propene (`ceq`) of 200, and a rate constant (`k`) of 0.2."
     ]
    },
    {
     "cell_type": "code",
     "collapsed": false,
     "input": [
      "tsim = 10.\n",
      "c0 = 400.\n",
      "ceq = 200. \n",
      "k = 0.2\n",
      "first_order(tsim, c0, ceq, k)"
     ],
     "language": "python",
     "metadata": {},
     "outputs": []
    },
    {
     "cell_type": "markdown",
     "metadata": {},
     "source": [
      "Calculating each value individually for every time point will quickly get tedious to code. However, remember that Numpy lets us use an entire array of numbers just like it was a single value. In this case, we could pass in an array of all the times to get an answer for every time simultaneously. In this case, we'll use [Numpy's linspace function](http://docs.scipy.org/doc/numpy/reference/generated/numpy.linspace.html) to generate autogenerate a uniformly spaced array of numbers. The first value in the linspace function is the starting point, the second value the end point, and the third value the total number of points in the array. We can print it out at the end to see the result. (Notice the ellipsis is telling us that there are too many numbers to conveniently display.)"
     ]
    },
    {
     "cell_type": "code",
     "collapsed": false,
     "input": [
      "tsim = np.linspace(0, 30, 10000)\n",
      "c0 = 400.\n",
      "ceq = 200. \n",
      "k = 0.2\n",
      "Psim = first_order(tsim, ceq, c0, k)\n",
      "\n",
      "print Psim"
     ],
     "language": "python",
     "metadata": {},
     "outputs": []
    },
    {
     "cell_type": "markdown",
     "metadata": {},
     "source": [
      "For the heck of it, let's plot this simulation."
     ]
    },
    {
     "cell_type": "code",
     "collapsed": false,
     "input": [
      "plt.plot(tsim, Psim)"
     ],
     "language": "python",
     "metadata": {},
     "outputs": []
    },
    {
     "cell_type": "markdown",
     "metadata": {},
     "source": [
      "Okay. But we were really interested in finding the equilibrium constant given the data that we collected in the lab. What we need to do is to try lots of values of intial and equilibrium concentrations and rate constants until our simulation matches the real data. This seems like it should be very tedious, but fortunately, computers can do this type of algorithm very quickly. In this case, [Scipy's `curve_fit` function](http://docs.scipy.org/doc/scipy-0.14.0/reference/generated/scipy.optimize.curve_fit.html) does exactly what we want. To use this function, we need to give it a model function (`first_order` in this case) and our experimental data (`times` and `propene`). `curve_fit` will try to make an inital guess of the other parameters of our function, but it makes a pretty stupid guess, which could get you the wrong numbers. It is always a good idea to give this type of routine a guess for the other parameters that you think is reasonable -- your guess will most likely be better than the computers. The fitting function returns the best fit values and a covariance matrix (which we can ignore for now)."
     ]
    },
    {
     "cell_type": "code",
     "collapsed": false,
     "input": [
      "guess = (ceq, c0, k)\n",
      "\n",
      "fit, cov = spo.curve_fit(first_order, times, propene, p0=guess)\n",
      "\n",
      "print \"Conc. Eq = {:.3f}; Init. Conc. = {:.3f}; k = {:.3f}\".format(*fit)"
     ],
     "language": "python",
     "metadata": {},
     "outputs": []
    },
    {
     "cell_type": "markdown",
     "metadata": {},
     "source": [
      "Great! We got some numbers back. But do they make sense? It's always a good idea to plot a simulation using the fit parameters (`first_order(tsim, *fit)`) versus the real data to see how they match up."
     ]
    },
    {
     "cell_type": "code",
     "collapsed": false,
     "input": [
      "plt.plot(tsim, first_order(tsim, *fit), 'k')\n",
      "plt.plot(times, propene, 'o')"
     ],
     "language": "python",
     "metadata": {},
     "outputs": []
    },
    {
     "cell_type": "markdown",
     "metadata": {},
     "source": [
      "## Bringing it all together\n",
      "\n",
      "That seems like a pretty long journey to get just a few numbers. However, for future experiments, we can simply go back though this notebook and cut/paste the necessary code to be able to run this from start to finish. Put this code below into a text file, and you will be able to run it anytime without using this notebook."
     ]
    },
    {
     "cell_type": "code",
     "collapsed": false,
     "input": [
      "import numpy as np\n",
      "import matplotlib.pyplot as plt\n",
      "import scipy.optimize as spo\n",
      "\n",
      "datafile = open('static/kin_data.csv')\n",
      "times = []\n",
      "propene = []\n",
      "\n",
      "for line in datafile:\n",
      "    if line[0] == '#': continue\n",
      "    sp = line.split(',')\n",
      "    times.append(sp[0])\n",
      "    propene.append(sp[1])\n",
      "\n",
      "datafile.close()\n",
      "\n",
      "times = np.array(times, dtype=float)\n",
      "propene = np.array(propene, dtype=float)\n",
      "\n",
      "def first_order(times, conc_eq, conc_0, k):\n",
      "    return (conc_0 - conc_eq)*np.exp(-k*times) + conc_eq\n",
      "\n",
      "tsim = np.linspace(0, 30, 10000)\n",
      "c0 = 400.\n",
      "ceq = 200. \n",
      "k = 0.2\n",
      "\n",
      "guess = (ceq, c0, k)\n",
      "fit, cov = spo.curve_fit(first_order, times, propene, p0=guess)\n",
      "print \"Conc. Eq = {:.3f}; Init. Conc. = {:.3f}; k = {:.3f}\".format(*fit)\n",
      "\n",
      "plt.plot(tsim, first_order(tsim, *fit), 'k')\n",
      "plt.plot(times, propene, 'o')\n",
      "plt.show() # Necessary to run this from a separate script file."
     ],
     "language": "python",
     "metadata": {},
     "outputs": []
    },
    {
     "cell_type": "code",
     "collapsed": false,
     "input": [],
     "language": "python",
     "metadata": {},
     "outputs": []
    }
   ],
   "metadata": {}
  }
 ]
}