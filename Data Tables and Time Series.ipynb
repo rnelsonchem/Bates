{
 "metadata": {
  "name": "",
  "signature": "sha256:885ba95c4e92c5e3cd8f758800ba3c2f7fe3bba20421c1a8e786b34ee2170efd"
 },
 "nbformat": 3,
 "nbformat_minor": 0,
 "worksheets": [
  {
   "cells": [
    {
     "cell_type": "code",
     "collapsed": false,
     "input": [
      "%matplotlib inline\n",
      "import nbprep\n",
      "nbprep.style()"
     ],
     "language": "python",
     "metadata": {},
     "outputs": []
    },
    {
     "cell_type": "markdown",
     "metadata": {},
     "source": [
      "# Data Tables and Time Series\n",
      "\n",
      "[Pandas](http://pandas.pydata.org/) is a Python library for advanced data\n",
      "analysis. Probably it's most important feature are [DataFrame\n",
      "objects](http://pandas.pydata.org/pandas-docs/stable/dsintro.html#dataframe),\n",
      "which are analogous to data.frame tables in R. DataFrames have a number of\n",
      "advanced SQL-like analysis capabilities -- such as table\n",
      "[merging](http://pandas.pydata.org/pandas-docs/stable/merging.html),\n",
      "[grouping, and\n",
      "aggregating](http://pandas.pydata.org/pandas-docs/stable/groupby.html).\n",
      "DataTables are highly integrated into a number of other Python packages, in\n",
      "particular, the statistical modeling package\n",
      "[statsmodels](http://statsmodels.sourceforge.net/stable/). \n",
      "\n",
      "One of the (initial) focus areas of the Pandas package is econometrics, which\n",
      "is due in no small part to the fact that its lead developer, [Wes\n",
      "McKinney](http://blog.quantopian.com/meet-quantopians-newest-advisor-wes-mckinney/),\n",
      "is a statistician with with a background as a quantitative analyst for the\n",
      "financial industry. What that means for users is that Pandas has\n",
      "sophisticated tools for working with [time series\n",
      "data](http://pandas.pydata.org/pandas-docs/stable/timeseries.html).\n",
      "\n",
      "This toy example uses the historical Dow Jones stock prices to highlight basic\n",
      "DataFrame usage and several other interesting analysis capabilities.\n",
      "\n",
      "## Getting started\n",
      "\n",
      "Here we'll import the Pandas library. Internally, Pandas uses\n",
      "[Matplotlib](http://matplotlib.org/) for making plots. There is a special\n",
      "option to set the default plotting style parameters to mimic the popular\n",
      "ggplot2 package for R. (There is now a [ggplot library for\n",
      "Python](http://blog.yhathq.com/posts/ggplot-for-python.html) as well.)"
     ]
    },
    {
     "cell_type": "code",
     "collapsed": false,
     "input": [
      "import numpy as np\n",
      "import pandas as pds\n",
      "pds.set_option('display.mpl_style', 'default')"
     ],
     "language": "python",
     "metadata": {},
     "outputs": []
    },
    {
     "cell_type": "markdown",
     "metadata": {},
     "source": [
      "The stock market data is contained in the file 'dji.csv' -- a segment of this file is shown below.\n",
      "\n",
      "    Historical Data Dow Jones Ind Ave\n",
      "    RCN: Got this from https://www.quandl.com/\n",
      "\n",
      "    Date,Value\n",
      "    2014-09-17,17156.85\n",
      "    2014-09-16,17131.97\n",
      "    2014-09-15,17031.14\n",
      "    2014-09-12,16987.51\n",
      "    2014-09-11,17049.0\n",
      "    \n",
      "[Pandas' `read_csv`\n",
      "function](http://pandas.pydata.org/pandas-docs/stable/io.html) can be used to\n",
      "read text input files such as comma-separated (or space-delimited) files. The\n",
      "first three lines of this file are simply a header with some download\n",
      "information, so we'll be sure to skip those (`skiprows`). The default is to\n",
      "read the first row as column names, so don't skip the fourth row. We want to\n",
      "make sure that Pandas converts any date-type columns (`parse_dates`) to\n",
      "[datetime\n",
      "objects](http://pandas.pydata.org/pandas-docs/stable/timeseries.html).\n",
      "Finally, we'll set the index of our table to be the \"Date\" column\n",
      "(`index_col`)."
     ]
    },
    {
     "cell_type": "code",
     "collapsed": false,
     "input": [
      "prices = pds.read_csv('static/dji.csv', skiprows=3, parse_dates=True, index_col='Date')\n",
      "prices.ix[:10] # print only the first 10 rows"
     ],
     "language": "python",
     "metadata": {},
     "outputs": []
    },
    {
     "cell_type": "markdown",
     "metadata": {},
     "source": [
      "Let's plot the data to see what the Dow Jones has done over time. (I should have started investing earlier!)"
     ]
    },
    {
     "cell_type": "code",
     "collapsed": false,
     "input": [
      "prices.plot()"
     ],
     "language": "python",
     "metadata": {},
     "outputs": []
    },
    {
     "cell_type": "markdown",
     "metadata": {},
     "source": [
      "For our next analysis, it will be more convenient if the dates are sorted in\n",
      "the opposite manner. In this case, the keyword `inplace` simply tells Pandas\n",
      "to change the original data set; otherwise, the default is to provide a copy."
     ]
    },
    {
     "cell_type": "code",
     "collapsed": false,
     "input": [
      "prices.sort(inplace=True)\n",
      "prices.ix[:10]"
     ],
     "language": "python",
     "metadata": {},
     "outputs": []
    },
    {
     "cell_type": "markdown",
     "metadata": {},
     "source": [
      "A [simple moving average\n",
      "(SMA)](http://www.investopedia.com/terms/m/movingaverage.asp) is a common\n",
      "analysis technique used by investors. A SMA takes a specified\n",
      "number of data points from a list and averages them together, then the next\n",
      "set of 10 data points is averaged, and so on. This is continues until the data\n",
      "set is exhausted. Note: if you are using 10 data points to generate the first\n",
      "average point, you lose 9 (10-1) data points in the process.\n",
      "\n",
      "[Pandas has several builtin\n",
      "methods](http://pandas.pydata.org/pandas-docs/stable/computation.html) for\n",
      "this type of analysis, with `rolling_mean` being used for SMA. It is easy to\n",
      "add a new column to our table with our moving average data (`'mv_avg'`). The\n",
      "second number in the function call denotes the number of points that will be\n",
      "used for the average. Pandas automatically handles missing values (`NaN` or\n",
      "\"not a number\") and adjusting the rows to fit together on the proper dates. "
     ]
    },
    {
     "cell_type": "code",
     "collapsed": false,
     "input": [
      "prices['mv_avg'] = pds.rolling_mean(prices['Value'], 10)\n",
      "prices.ix[:15]"
     ],
     "language": "python",
     "metadata": {},
     "outputs": []
    },
    {
     "cell_type": "markdown",
     "metadata": {},
     "source": [
      "Again, we make a plot of our new data. Pandas defaults to plotting both columns in our DataFrame."
     ]
    },
    {
     "cell_type": "code",
     "collapsed": false,
     "input": [
      "prices.plot(xlim=('1/1/2012', '10/1/2014'), ylim=(10800, 18000))"
     ],
     "language": "python",
     "metadata": {},
     "outputs": []
    },
    {
     "cell_type": "markdown",
     "metadata": {},
     "source": [
      "Pandas has very powerful [builtin grouping capabilities](http://pandas.pydata.org/pandas-docs/stable/groupby.html). These are best demonstrated by example. \n",
      "\n",
      "Currently our `prices` DataFrame is daily stock prices, but we might be more\n",
      "interested in how the prices fluctuate on a monthly basis. You could fake this\n",
      "by looking at a rolling average with a window of ~20 (4 weeks x 5 days).\n",
      "However, each month has a different number of days, and the stock market is\n",
      "closed for certain holidays, etc. In this case, Pandas can group our data by\n",
      "the year and month (remember that this DataFrame's index is dates). After\n",
      "grouping, we can\n",
      "easily calculate the mean of all the data in each group, which returns a\n",
      "DataFrame with a [hierarchical\n",
      "index](http://pandas.pydata.org/pandas-docs/stable/indexing.html#hierarchical-indexing-multiindex)."
     ]
    },
    {
     "cell_type": "code",
     "collapsed": false,
     "input": [
      "gb = prices.groupby([prices.index.year, prices.index.month])\n",
      "gb_mean = gb.mean()\n",
      "gb_mean"
     ],
     "language": "python",
     "metadata": {},
     "outputs": []
    },
    {
     "cell_type": "markdown",
     "metadata": {},
     "source": [
      "The [`aggregate`\n",
      "function](http://pandas.pydata.org/pandas-docs/stable/groupby.html#aggregation)\n",
      "provides a method for more advanced analyses on our groups.  In this case, we\n",
      "will take our grouped stock values (`'Values'` column) and create a new\n",
      "hierarchical DataFrame with columns for the mean ('Mean' -- using [Numpy's\n",
      "`mean`\n",
      "function](http://docs.scipy.org/doc/numpy/reference/generated/numpy.mean.html))\n",
      "and the standard deviation ('Std' -- using [Numpy's `std`\n",
      "function](http://docs.scipy.org/doc/numpy/reference/generated/numpy.std.html)).\n",
      "In more complex cases, we could have built our own analysis function rather\n",
      "than relying on Numpy/Pandas builtin functions."
     ]
    },
    {
     "cell_type": "code",
     "collapsed": false,
     "input": [
      "val_mean_std = gb['Value'].aggregate({'Mean': np.average, 'Std': np.std})\n",
      "val_mean_std"
     ],
     "language": "python",
     "metadata": {},
     "outputs": []
    },
    {
     "cell_type": "code",
     "collapsed": false,
     "input": [],
     "language": "python",
     "metadata": {},
     "outputs": []
    }
   ],
   "metadata": {}
  }
 ]
}